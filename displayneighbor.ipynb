{
 "cells": [
  {
   "cell_type": "code",
   "execution_count": null,
   "metadata": {
    "collapsed": true
   },
   "outputs": [],
   "source": [
    "import pandas as pd\n",
    "import numpy as np\n",
    "\n",
    "df_mapacalor = pd.read_csv(\"mapadecalor.csv\", delim_whitespace=True)\n",
    "df_mapacalor.columns = ['MAC', 'AP_ID', 'AP_NAME', 'RF/WLAN', 'BAND', 'Type', 'RX/TX', 'RSSI', 'VLAN', 'IPADDRESS', 'SSID', 'DATA', 'HORA']\n",
    "\n",
    "df_usuarios = pd.read_csv(\"usuarios.csv\", delim_whitespace=True)\n",
    "df_usuarios.columns = [\"UserID\", \"Username\", \"IPADRESS\", \"MAC\", \"Status\", 'DATA', 'HORA' ]\n"
   ]
  },
  {
   "cell_type": "code",
   "execution_count": null,
   "outputs": [],
   "source": [
    "pd.merge(df_mapacalor, df_usuarios, on =['MAC'])\n",
    "potencia = pd.merge(df_mapacalor, df_usuarios, on =['MAC'])\n"
   ],
   "metadata": {
    "collapsed": false,
    "pycharm": {
     "name": "#%%\n"
    }
   }
  },
  {
   "cell_type": "code",
   "execution_count": null,
   "outputs": [],
   "source": [
    "lista_mac = potencia['MAC']\n",
    "\n",
    "lista_mac.to_csv('lista_mac.csv', index=False)\n",
    "\n",
    "\n",
    "# type(lista_mac)\n",
    "#\n",
    "lista_mac = str(lista_mac)\n",
    "#\n",
    "print(lista_mac.split('\\n'))\n",
    "#\n",
    "for mac in lista_mac.split('\\n'):\n",
    "    print(mac[-14::])"
   ],
   "metadata": {
    "collapsed": false,
    "pycharm": {
     "name": "#%%\n"
    }
   }
  },
  {
   "cell_type": "code",
   "execution_count": null,
   "outputs": [],
   "source": [
    "print(mac)"
   ],
   "metadata": {
    "collapsed": false,
    "pycharm": {
     "name": "#%%\n"
    }
   }
  },
  {
   "cell_type": "code",
   "execution_count": null,
   "outputs": [],
   "source": [
    "#\n",
    "from netmiko import ConnectHandler\n",
    "import netmiko\n",
    "\n",
    "#\n",
    "from datetime import datetime\n",
    "import time\n",
    "\n",
    "#\n",
    "import re\n",
    "import os\n",
    "#\n",
    "from dotenv import load_dotenv\n"
   ],
   "metadata": {
    "collapsed": false,
    "pycharm": {
     "name": "#%%\n"
    }
   }
  },
  {
   "cell_type": "code",
   "execution_count": null,
   "outputs": [],
   "source": [],
   "metadata": {
    "collapsed": false,
    "pycharm": {
     "name": "#%%\n"
    }
   }
  },
  {
   "cell_type": "code",
   "execution_count": null,
   "outputs": [],
   "source": [
    "load_dotenv()\n",
    "\n",
    "timestamp_data = datetime.now()\n",
    "timestamp = timestamp_data.strftime('%d/%m/%Y %H:%M')\n",
    "\n",
    "\n",
    "switch_1 = {\n",
    "    'device_type': 'huawei',\n",
    "    'host': '172.17.1.150',\n",
    "    'username': os.getenv('USUARIO'),\n",
    "    'password': os.getenv('PASSWORD'),\n",
    "    'global_delay_factor': 0.1,\n",
    "}\n",
    "\n",
    "start = time.time()\n",
    "\n",
    "connection = ConnectHandler(**switch_1)\n",
    "connection.enable()\n",
    "command = 'display station neighbor sta-mac '\n",
    "\n",
    "outputA = connection.send_command(command)\n",
    "outputB = str(outputA)\n",
    "output = outputA\n",
    "\n",
    "with open('neighbor.csv', 'a') as arquivo:\n",
    "    for mac in lista_mac.split('\\n'):\n",
    "        print(command+mac[-14::])\n",
    "        outputMac = connection.send_command(command+mac[-14::])\n",
    "        outputMac = outputMac.split('\\n')\n",
    "\n",
    "        for lineInOutputMac in outputMac:\n",
    "            if re.search('^([0-9A-Fa-f]{4}[:-])', str(lineInOutputMac)[:6]) is None:\n",
    "                pass\n",
    "            else:\n",
    "                arquivo.write(str(lineInOutputMac)+'      '+mac[-14::]+'\\n')\n",
    "\n",
    "print(output)\n",
    "\n",
    "# with open('neighbor.csv', 'a') as arquivo:\n",
    "#     output = output.split('\\n')\n",
    "#\n",
    "#     for valor in output:\n",
    "#         if re.search('^\\s([\\d]{1,4})', str(valor)) is None:\n",
    "#             pass\n",
    "#         else:\n",
    "#             arquivo.write(str(valor) + ' ' + timestamp + '\\n')\n",
    "\n",
    "connection.disconnect()\n"
   ],
   "metadata": {
    "collapsed": false,
    "pycharm": {
     "name": "#%%\n"
    }
   }
  },
  {
   "cell_type": "code",
   "execution_count": null,
   "outputs": [],
   "source": [
    "# potencia = pd.merge(df_mapacalor, df_usuarios, on =['MAC'])\n",
    "#\n",
    "# potenciax = potencia[['Username', 'MAC', 'RSSI']]\n",
    "#\n",
    "# potenciax.to_csv('dataframe.csv', index=False)\n",
    "#\n",
    "# #função lambda; será usada para calcular a potencia com base no rssi\n",
    "# f = lambda x: x*3\n",
    "# potenciax['RSSI'].apply(f)\n",
    "#\n",
    "# lista_mac = potenciax['MAC']\n",
    "#\n",
    "# lista_mac.to_csv('lista_mac.csv', index=False)\n",
    "#\n",
    "# type(lista_mac)\n",
    "#\n",
    "# lista_mac = str(lista_mac)\n",
    "#\n",
    "# print(lista_mac.split('\\n'))\n",
    "#\n",
    "# for mac in lista_mac.split('\\n'):\n",
    "#     print(mac)\n"
   ],
   "metadata": {
    "collapsed": false,
    "pycharm": {
     "name": "#%%\n"
    }
   }
  },
  {
   "cell_type": "code",
   "execution_count": null,
   "outputs": [],
   "source": [
    "# #\n",
    "# from netmiko import ConnectHandler\n",
    "# import netmiko\n",
    "#\n",
    "# #\n",
    "# from datetime import datetime\n",
    "# import time\n",
    "#\n",
    "# #\n",
    "# import re\n",
    "# import os\n",
    "# #\n",
    "# from dotenv import load_dotenv\n",
    "\n",
    "load_dotenv()\n",
    "\n",
    "timestamp_data = datetime.now()\n",
    "timestamp = timestamp_data.strftime('%d/%m/%Y %H:%M')\n",
    "\n",
    "\n",
    "switch_1 = {\n",
    "    'device_type': 'huawei',\n",
    "    'host': '172.17.1.150',\n",
    "    'username': os.getenv('USUARIO'),\n",
    "    'password': os.getenv('PASSWORD'),\n",
    "    'global_delay_factor': 0.1,\n",
    "}\n",
    "\n",
    "start = time.time()\n",
    "\n",
    "connection = ConnectHandler(**switch_1)\n",
    "connection.enable()\n",
    "command = 'display access-user'\n",
    "\n",
    "outputA = connection.send_command(command)\n",
    "outputB = str(outputA)\n",
    "output = outputA\n",
    "\n",
    "connection.disconnect()\n",
    "\n",
    "print(output)\n",
    "\n",
    "with open(os.getenv('PATH_DIS_NEIGHBOR'), 'a') as arquivo:\n",
    "    output = output.split('\\n')\n",
    "\n",
    "    for valor in output:\n",
    "        if re.search('^\\s([\\d]{1,4})', str(valor)) is None:\n",
    "            pass\n",
    "        else:\n",
    "            arquivo.write(str(valor) + ' ' + timestamp + '\\n')\n"
   ],
   "metadata": {
    "collapsed": false,
    "pycharm": {
     "name": "#%%\n"
    }
   }
  },
  {
   "cell_type": "code",
   "execution_count": null,
   "outputs": [],
   "source": [],
   "metadata": {
    "collapsed": false,
    "pycharm": {
     "name": "#%%\n"
    }
   }
  }
 ],
 "metadata": {
  "kernelspec": {
   "display_name": "Python 3",
   "language": "python",
   "name": "python3"
  },
  "language_info": {
   "codemirror_mode": {
    "name": "ipython",
    "version": 2
   },
   "file_extension": ".py",
   "mimetype": "text/x-python",
   "name": "python",
   "nbconvert_exporter": "python",
   "pygments_lexer": "ipython2",
   "version": "2.7.6"
  }
 },
 "nbformat": 4,
 "nbformat_minor": 0
}
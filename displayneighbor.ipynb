{
 "cells": [
  {
   "cell_type": "code",
   "execution_count": 4,
   "metadata": {
    "collapsed": true
   },
   "outputs": [
    {
     "name": "stdout",
     "output_type": "stream",
     "text": [
      "['               MAC', '0   b6f0-6d6e-e1b6', '1   9cb7-0d9f-7570', '2   0e46-2139-e445', '3   60ab-67c4-61d0', '4   7c8b-b531-3c4f', '5   50eb-71c2-1a9b', '6   5ccd-5bf3-c58c', '7   2a87-d116-a3b9', '8   60d8-19d4-e8ea', '9   00d7-6d3b-e1bf', '10  4a02-8e45-86d3', '11  5ccd-5bf3-c1bd', '12  5ccd-5bf3-c091', '13  1e6a-8462-2e47', '14  00d7-6d3b-dc6f', '15  ca01-740a-cbcc', '16  5ae8-8799-9052', '17  0045-e269-97bb', '18  7e09-131c-a6c6', '19  dc53-600d-abfb', '20  0a37-d4a0-4c9a', '21  a6fd-c54d-712e', '22  5e79-0a7e-90b8', '23  2ac6-e8b9-3672', '24  b83b-cc03-7e9b', '25  a483-e73f-ec23', '26  28d0-eabb-5675', '27  5cea-1dd8-4227', '28  8af2-8400-f361']\n",
      "           MAC\n",
      "b6f0-6d6e-e1b6\n",
      "9cb7-0d9f-7570\n",
      "0e46-2139-e445\n",
      "60ab-67c4-61d0\n",
      "7c8b-b531-3c4f\n",
      "50eb-71c2-1a9b\n",
      "5ccd-5bf3-c58c\n",
      "2a87-d116-a3b9\n",
      "60d8-19d4-e8ea\n",
      "00d7-6d3b-e1bf\n",
      "4a02-8e45-86d3\n",
      "5ccd-5bf3-c1bd\n",
      "5ccd-5bf3-c091\n",
      "1e6a-8462-2e47\n",
      "00d7-6d3b-dc6f\n",
      "ca01-740a-cbcc\n",
      "5ae8-8799-9052\n",
      "0045-e269-97bb\n",
      "7e09-131c-a6c6\n",
      "dc53-600d-abfb\n",
      "0a37-d4a0-4c9a\n",
      "a6fd-c54d-712e\n",
      "5e79-0a7e-90b8\n",
      "2ac6-e8b9-3672\n",
      "b83b-cc03-7e9b\n",
      "a483-e73f-ec23\n",
      "28d0-eabb-5675\n",
      "5cea-1dd8-4227\n",
      "8af2-8400-f361\n",
      "display station neighbor sta-mac            MAC\n",
      "display station neighbor sta-mac b6f0-6d6e-e1b6\n",
      "display station neighbor sta-mac 9cb7-0d9f-7570\n",
      "display station neighbor sta-mac 0e46-2139-e445\n",
      "display station neighbor sta-mac 60ab-67c4-61d0\n",
      "display station neighbor sta-mac 7c8b-b531-3c4f\n",
      "display station neighbor sta-mac 50eb-71c2-1a9b\n",
      "display station neighbor sta-mac 5ccd-5bf3-c58c\n",
      "display station neighbor sta-mac 2a87-d116-a3b9\n",
      "display station neighbor sta-mac 60d8-19d4-e8ea\n",
      "display station neighbor sta-mac 00d7-6d3b-e1bf\n",
      "display station neighbor sta-mac 4a02-8e45-86d3\n",
      "display station neighbor sta-mac 5ccd-5bf3-c1bd\n",
      "display station neighbor sta-mac 5ccd-5bf3-c091\n",
      "display station neighbor sta-mac 1e6a-8462-2e47\n",
      "display station neighbor sta-mac 00d7-6d3b-dc6f\n",
      "display station neighbor sta-mac ca01-740a-cbcc\n",
      "display station neighbor sta-mac 5ae8-8799-9052\n",
      "display station neighbor sta-mac 0045-e269-97bb\n",
      "display station neighbor sta-mac 7e09-131c-a6c6\n",
      "display station neighbor sta-mac dc53-600d-abfb\n",
      "display station neighbor sta-mac 0a37-d4a0-4c9a\n",
      "display station neighbor sta-mac a6fd-c54d-712e\n",
      "display station neighbor sta-mac 5e79-0a7e-90b8\n",
      "display station neighbor sta-mac 2ac6-e8b9-3672\n",
      "display station neighbor sta-mac b83b-cc03-7e9b\n",
      "display station neighbor sta-mac a483-e73f-ec23\n",
      "display station neighbor sta-mac 28d0-eabb-5675\n",
      "display station neighbor sta-mac 5cea-1dd8-4227\n",
      "display station neighbor sta-mac 8af2-8400-f361\n",
      "\n",
      "                                             ^\n",
      "Error: Incomplete command found at '^' position.\n"
     ]
    }
   ],
   "source": [
    "# #\n",
    "# #Access Controller Huawe AC6005 V200R019C00SPC500,\n",
    "# #\n",
    "# #['MAC']\n",
    "# #\n",
    "# #\n",
    "# #\n",
    "# #\n",
    "# #Bibliotecas necessárias\n",
    "# import time\n",
    "# import pandas as pd\n",
    "# from datetime import datetime\n",
    "# from dotenv import load_dotenv\n",
    "# from netmiko import ConnectHandler\n",
    "# import netmiko\n",
    "# import re\n",
    "# import os\n",
    "#\n",
    "# load_dotenv()\n",
    "#\n",
    "# start = time.time()\n",
    "# timestamp_data = datetime.now()\n",
    "# timestamp = timestamp_data.strftime('%d/%m/%Y %H:%M')\n",
    "#\n",
    "# mac_list = pd.read_csv('mac_list.csv')\n",
    "# mac_list = str(mac_list)\n",
    "# print(mac_list.split('\\n'))\n",
    "# for mac in mac_list.split('\\n'):\n",
    "#     print(mac[-14::])\n",
    "#\n",
    "# dispositivo = {\n",
    "#     'device_type': 'huawei',\n",
    "#     'host': '172.17.1.150',\n",
    "#     'username': os.getenv('USUARIO'),\n",
    "#     'password': os.getenv('PASSWORD'),\n",
    "#     'global_delay_factor': 0.1,\n",
    "# }\n",
    "#\n",
    "# connection = ConnectHandler(**dispositivo)\n",
    "# connection.enable()\n",
    "#\n",
    "# command = 'display station neighbor sta-mac '\n",
    "# outputA = connection.send_command(command)\n",
    "# outputB = str(outputA)\n",
    "# output = outputA\n",
    "#\n",
    "# with open('neighborv2.csv', 'w') as arquivo:\n",
    "#     for mac in mac_list.split('\\n'):\n",
    "#         print(command + mac[-14::])\n",
    "#         outputMac = connection.send_command(command + mac[-14::])\n",
    "#         outputMac = outputMac.split('\\n')\n",
    "#\n",
    "#         for lineInOutputMac in outputMac:\n",
    "#             if re.search('^([0-9A-Fa-f]{4}[:-])', str(lineInOutputMac)[:6]) is None:\n",
    "#                 pass\n",
    "#             else:\n",
    "#                 arquivo.write(' from   ' + mac[-14::] + '     ' + str(lineInOutputMac) + '\\n')\n",
    "#\n",
    "# connection.disconnect()\n",
    "#\n",
    "# print(output)"
   ]
  },
  {
   "cell_type": "code",
   "execution_count": 2,
   "outputs": [
    {
     "data": {
      "text/plain": "True"
     },
     "execution_count": 2,
     "metadata": {},
     "output_type": "execute_result"
    }
   ],
   "source": [
    "#Bibliotecas necessárias\n",
    "import time\n",
    "import pandas as pd\n",
    "from ListaMac import mac_list\n",
    "from datetime import datetime\n",
    "from dotenv import load_dotenv\n",
    "from netmiko import ConnectHandler\n",
    "import netmiko\n",
    "import re\n",
    "import os\n",
    "load_dotenv()\n"
   ],
   "metadata": {
    "collapsed": false,
    "pycharm": {
     "name": "#%%\n"
    }
   }
  },
  {
   "cell_type": "code",
   "execution_count": 3,
   "outputs": [
    {
     "name": "stdout",
     "output_type": "stream",
     "text": [
      "['0     6432-a843-f0da', '1     8056-f2f2-1ae3', '2     2ac6-e8b9-3672', '3     50eb-71c2-1a9b', '4     00d7-6d3b-dc8d', '5     00d7-6d3b-dc6f', '6     ca01-740a-cbcc', '7     60ab-67c4-61d0', '8     5ae8-8799-9052', '9     7ce9-d3d6-5b31', '10    7c8b-b531-3c4f', '11    129b-0fa6-d762', '12    103f-4474-deac', '13    b83b-cc03-7e9b', '14    a483-e73f-ec23', '15    6616-2ec5-1f96', '16    bab2-c64f-295d', '17    5ccd-5bf3-c1bd', '18    a89c-ed56-33e7', '19    9cb7-0d9f-7570', '20    0e46-2139-e445', '21    8056-f2f2-182d', 'Name: MAC, dtype: object']\n",
      "6432-a843-f0da\n",
      "8056-f2f2-1ae3\n",
      "2ac6-e8b9-3672\n",
      "50eb-71c2-1a9b\n",
      "00d7-6d3b-dc8d\n",
      "00d7-6d3b-dc6f\n",
      "ca01-740a-cbcc\n",
      "60ab-67c4-61d0\n",
      "5ae8-8799-9052\n",
      "7ce9-d3d6-5b31\n",
      "7c8b-b531-3c4f\n",
      "129b-0fa6-d762\n",
      "103f-4474-deac\n",
      "b83b-cc03-7e9b\n",
      "a483-e73f-ec23\n",
      "6616-2ec5-1f96\n",
      "bab2-c64f-295d\n",
      "5ccd-5bf3-c1bd\n",
      "a89c-ed56-33e7\n",
      "9cb7-0d9f-7570\n",
      "0e46-2139-e445\n",
      "8056-f2f2-182d\n",
      " dtype: object\n"
     ]
    }
   ],
   "source": [
    "start = time.time()\n",
    "timestamp_data = datetime.now()\n",
    "timestamp = timestamp_data.strftime('%d/%m/%Y %H:%M')\n",
    "\n",
    "mac_list = str(mac_list)\n",
    "print(mac_list.split('\\n'))\n",
    "for mac in mac_list.split('\\n'):\n",
    "    print(mac[-14::])\n",
    "\n",
    "dispositivo = {\n",
    "    'device_type': 'huawei',\n",
    "    'host': '172.17.1.150',\n",
    "    'username': os.getenv('USUARIO'),\n",
    "    'password': os.getenv('PASSWORD'),\n",
    "    'global_delay_factor': 0.1,\n",
    "}\n",
    "\n",
    "connection = ConnectHandler(**dispositivo)\n",
    "connection.enable()\n",
    "\n",
    "command = 'display station neighbor sta-mac '\n",
    "outputA = connection.send_command(command)\n",
    "outputB = str(outputA)\n",
    "output = outputA"
   ],
   "metadata": {
    "collapsed": false,
    "pycharm": {
     "name": "#%%\n"
    }
   }
  },
  {
   "cell_type": "code",
   "execution_count": 4,
   "outputs": [
    {
     "name": "stdout",
     "output_type": "stream",
     "text": [
      "display station neighbor sta-mac 6432-a843-f0da\n",
      "display station neighbor sta-mac 8056-f2f2-1ae3\n",
      "display station neighbor sta-mac 2ac6-e8b9-3672\n",
      "display station neighbor sta-mac 50eb-71c2-1a9b\n",
      "display station neighbor sta-mac 00d7-6d3b-dc8d\n",
      "display station neighbor sta-mac 00d7-6d3b-dc6f\n",
      "display station neighbor sta-mac ca01-740a-cbcc\n",
      "display station neighbor sta-mac 60ab-67c4-61d0\n",
      "display station neighbor sta-mac 5ae8-8799-9052\n",
      "display station neighbor sta-mac 7ce9-d3d6-5b31\n",
      "display station neighbor sta-mac 7c8b-b531-3c4f\n",
      "display station neighbor sta-mac 129b-0fa6-d762\n",
      "display station neighbor sta-mac 103f-4474-deac\n",
      "display station neighbor sta-mac b83b-cc03-7e9b\n",
      "display station neighbor sta-mac a483-e73f-ec23\n",
      "display station neighbor sta-mac 6616-2ec5-1f96\n",
      "display station neighbor sta-mac bab2-c64f-295d\n",
      "display station neighbor sta-mac 5ccd-5bf3-c1bd\n",
      "display station neighbor sta-mac a89c-ed56-33e7\n",
      "display station neighbor sta-mac 9cb7-0d9f-7570\n",
      "display station neighbor sta-mac 0e46-2139-e445\n",
      "display station neighbor sta-mac 8056-f2f2-182d\n",
      "display station neighbor sta-mac  dtype: object\n",
      "\n",
      "                                             ^\n",
      "Error: Incomplete command found at '^' position.\n"
     ]
    }
   ],
   "source": [
    "with open('neighborv2.csv', 'w') as arquivo:\n",
    "    for mac in mac_list.split('\\n'):\n",
    "        print(command + mac[-14::])\n",
    "        outputMac = connection.send_command(command + mac[-14::])\n",
    "        outputMac = outputMac.split('\\n')\n",
    "\n",
    "        for lineInOutputMac in outputMac:\n",
    "            if re.search('^([0-9A-Fa-f]{4}[:-])', str(lineInOutputMac)[:6]) is None:\n",
    "                pass\n",
    "            else:\n",
    "                arquivo.write(' from1   ' + mac[-14::] + '     ' + str(lineInOutputMac) + '\\n')\n",
    "\n",
    "connection.disconnect()\n",
    "\n",
    "print(output)"
   ],
   "metadata": {
    "collapsed": false,
    "pycharm": {
     "name": "#%%\n"
    }
   }
  },
  {
   "cell_type": "code",
   "execution_count": 4,
   "outputs": [
    {
     "name": "stdout",
     "output_type": "stream",
     "text": [
      "Error: Wrong parameter found at '^' position.\n"
     ]
    }
   ],
   "source": [],
   "metadata": {
    "collapsed": false,
    "pycharm": {
     "name": "#%%\n"
    }
   }
  },
  {
   "cell_type": "markdown",
   "source": [
    "#Sugest; tratar a vizualizacão do mac como botão de consulta por user devido a velocidade de processamento e trabalho de plotagem\n",
    "#tratar 'neighbor.csv' antes da conversão para dataframe. ~drop last column\n",
    "#tratar dataframe\n",
    "#buscar otimização; estudar netmiko huawei\n",
    "#teste: eliminar etapa de gravar em disco. e tentar script q trabalhe em memoria."
   ],
   "metadata": {
    "collapsed": false,
    "pycharm": {
     "name": "#%% md\n"
    }
   }
  },
  {
   "cell_type": "code",
   "execution_count": null,
   "outputs": [],
   "source": [],
   "metadata": {
    "collapsed": false,
    "pycharm": {
     "name": "#%%\n"
    }
   }
  }
 ],
 "metadata": {
  "kernelspec": {
   "display_name": "Python 3",
   "language": "python",
   "name": "python3"
  },
  "language_info": {
   "codemirror_mode": {
    "name": "ipython",
    "version": 2
   },
   "file_extension": ".py",
   "mimetype": "text/x-python",
   "name": "python",
   "nbconvert_exporter": "python",
   "pygments_lexer": "ipython2",
   "version": "2.7.6"
  }
 },
 "nbformat": 4,
 "nbformat_minor": 0
}
{
 "cells": [
  {
   "cell_type": "code",
   "execution_count": 1,
   "metadata": {
    "collapsed": true
   },
   "outputs": [],
   "source": [
    "import pandas as pd\n",
    "import numpy as np\n",
    "\n",
    "df_mapacalor = pd.read_csv(\"mapadecalor.csv\", delim_whitespace=True)\n",
    "df_mapacalor.columns = ['MAC', 'AP_ID', 'AP_NAME', 'RF/WLAN', 'BAND', 'Type', 'RX/TX', 'RSSI', 'VLAN', 'IPADDRESS', 'SSID', 'DATA', 'HORA']\n",
    "\n",
    "df_usuarios = pd.read_csv(\"usuarios.csv\", delim_whitespace=True)\n",
    "df_usuarios.columns = [\"UserID\", \"Username\", \"IPADRESS\", \"MAC\", \"Status\", 'DATA', 'HORA' ]\n"
   ]
  },
  {
   "cell_type": "code",
   "execution_count": 2,
   "outputs": [],
   "source": [
    "pd.merge(df_mapacalor, df_usuarios, on =['MAC'])\n",
    "potencia = pd.merge(df_mapacalor, df_usuarios, on =['MAC'])\n"
   ],
   "metadata": {
    "collapsed": false,
    "pycharm": {
     "name": "#%%\n"
    }
   }
  },
  {
   "cell_type": "code",
   "execution_count": 14,
   "outputs": [
    {
     "name": "stdout",
     "output_type": "stream",
     "text": [
      "['0     00d7-6d3b-e1bf', '1     103f-4474-deac', '2     129b-0fa6-d762', '3     2ac6-e8b9-3672', '4     4a02-8e45-86d3', '5     50eb-71c2-1a9b', '6     5642-e79d-40e8', '7     5ae8-8799-9052', '8     5ccd-5bf3-c1bd', '9     5e79-0a7e-90b8', '10    60ab-67c4-61d0', '11    6432-a843-f0da', '12    9cb7-0d9f-7570', '13    a483-e73f-ec23', '14    b6f0-6d6e-e1b6', '15    bab2-c64f-295d', '16    ca01-740a-cbcc', 'Name: MAC, dtype: object']\n",
      "00d7-6d3b-e1bf\n",
      "103f-4474-deac\n",
      "129b-0fa6-d762\n",
      "2ac6-e8b9-3672\n",
      "4a02-8e45-86d3\n",
      "50eb-71c2-1a9b\n",
      "5642-e79d-40e8\n",
      "5ae8-8799-9052\n",
      "5ccd-5bf3-c1bd\n",
      "5e79-0a7e-90b8\n",
      "60ab-67c4-61d0\n",
      "6432-a843-f0da\n",
      "9cb7-0d9f-7570\n",
      "a483-e73f-ec23\n",
      "b6f0-6d6e-e1b6\n",
      "bab2-c64f-295d\n",
      "ca01-740a-cbcc\n",
      " dtype: object\n"
     ]
    }
   ],
   "source": [
    "lista_mac = potencia['MAC']\n",
    "\n",
    "lista_mac.to_csv('lista_mac.csv', index=False)\n",
    "\n",
    "\n",
    "# type(lista_mac)\n",
    "#\n",
    "lista_mac = str(lista_mac)\n",
    "#\n",
    "print(lista_mac.split('\\n'))\n",
    "#\n",
    "for mac in lista_mac.split('\\n'):\n",
    "    print(mac[-14::])"
   ],
   "metadata": {
    "collapsed": false,
    "pycharm": {
     "name": "#%%\n"
    }
   }
  },
  {
   "cell_type": "code",
   "execution_count": null,
   "outputs": [],
   "source": [
    "print(mac)"
   ],
   "metadata": {
    "collapsed": false,
    "pycharm": {
     "name": "#%%\n"
    }
   }
  },
  {
   "cell_type": "code",
   "execution_count": 10,
   "outputs": [],
   "source": [
    "#\n",
    "from netmiko import ConnectHandler\n",
    "import netmiko\n",
    "\n",
    "#\n",
    "from datetime import datetime\n",
    "import time\n",
    "\n",
    "#\n",
    "import re\n",
    "import os\n",
    "#\n",
    "from dotenv import load_dotenv\n"
   ],
   "metadata": {
    "collapsed": false,
    "pycharm": {
     "name": "#%%\n"
    }
   }
  },
  {
   "cell_type": "code",
   "execution_count": 11,
   "outputs": [],
   "source": [],
   "metadata": {
    "collapsed": false,
    "pycharm": {
     "name": "#%%\n"
    }
   }
  },
  {
   "cell_type": "code",
   "execution_count": 18,
   "outputs": [
    {
     "name": "stdout",
     "output_type": "stream",
     "text": [
      "display station neighbor sta-mac 00d7-6d3b-e1bf\n",
      "display station neighbor sta-mac 103f-4474-deac\n",
      "display station neighbor sta-mac 129b-0fa6-d762\n",
      "display station neighbor sta-mac 2ac6-e8b9-3672\n",
      "display station neighbor sta-mac 4a02-8e45-86d3\n",
      "display station neighbor sta-mac 50eb-71c2-1a9b\n",
      "display station neighbor sta-mac 5642-e79d-40e8\n",
      "display station neighbor sta-mac 5ae8-8799-9052\n",
      "display station neighbor sta-mac 5ccd-5bf3-c1bd\n",
      "display station neighbor sta-mac 5e79-0a7e-90b8\n",
      "display station neighbor sta-mac 60ab-67c4-61d0\n",
      "display station neighbor sta-mac 6432-a843-f0da\n",
      "display station neighbor sta-mac 9cb7-0d9f-7570\n",
      "display station neighbor sta-mac a483-e73f-ec23\n",
      "display station neighbor sta-mac b6f0-6d6e-e1b6\n",
      "display station neighbor sta-mac bab2-c64f-295d\n",
      "display station neighbor sta-mac ca01-740a-cbcc\n",
      "display station neighbor sta-mac  dtype: object\n",
      "\n",
      "                                             ^\n",
      "Error: Incomplete command found at '^' position.\n"
     ]
    }
   ],
   "source": [
    "load_dotenv()\n",
    "\n",
    "timestamp_data = datetime.now()\n",
    "timestamp = timestamp_data.strftime('%d/%m/%Y %H:%M')\n",
    "\n",
    "\n",
    "switch_1 = {\n",
    "    'device_type': 'huawei',\n",
    "    'host': '172.17.1.150',\n",
    "    'username': os.getenv('USUARIO'),\n",
    "    'password': os.getenv('PASSWORD'),\n",
    "    'global_delay_factor': 0.1,\n",
    "}\n",
    "\n",
    "start = time.time()\n",
    "\n",
    "connection = ConnectHandler(**switch_1)\n",
    "connection.enable()\n",
    "command = 'display station neighbor sta-mac '\n",
    "\n",
    "outputA = connection.send_command(command)\n",
    "outputB = str(outputA)\n",
    "output = outputA\n",
    "\n",
    "with open('neighbor.csv', 'a') as arquivo:\n",
    "    for mac in lista_mac.split('\\n'):\n",
    "        print(command+mac[-14::])\n",
    "        outputMac = connection.send_command(command+mac[-14::])\n",
    "        outputMac = outputMac.split('\\n')\n",
    "\n",
    "        for lineInOutputMac in outputMac:\n",
    "            if re.search('^([0-9A-Fa-f]{4}[:-])', str(lineInOutputMac)[:6]) is None:\n",
    "                pass\n",
    "            else:\n",
    "                arquivo.write(str(lineInOutputMac)+'      '+mac[-14::]+'\\n')\n",
    "\n",
    "print(output)\n",
    "\n",
    "# with open('neighbor.csv', 'a') as arquivo:\n",
    "#     output = output.split('\\n')\n",
    "#\n",
    "#     for valor in output:\n",
    "#         if re.search('^\\s([\\d]{1,4})', str(valor)) is None:\n",
    "#             pass\n",
    "#         else:\n",
    "#             arquivo.write(str(valor) + ' ' + timestamp + '\\n')\n",
    "\n",
    "connection.disconnect()\n"
   ],
   "metadata": {
    "collapsed": false,
    "pycharm": {
     "name": "#%%\n"
    }
   }
  },
  {
   "cell_type": "code",
   "execution_count": null,
   "outputs": [],
   "source": [
    "# potencia = pd.merge(df_mapacalor, df_usuarios, on =['MAC'])\n",
    "#\n",
    "# potenciax = potencia[['Username', 'MAC', 'RSSI']]\n",
    "#\n",
    "# potenciax.to_csv('dataframe.csv', index=False)\n",
    "#\n",
    "# #função lambda; será usada para calcular a potencia com base no rssi\n",
    "# f = lambda x: x*3\n",
    "# potenciax['RSSI'].apply(f)\n",
    "#\n",
    "# lista_mac = potenciax['MAC']\n",
    "#\n",
    "# lista_mac.to_csv('lista_mac.csv', index=False)\n",
    "#\n",
    "# type(lista_mac)\n",
    "#\n",
    "# lista_mac = str(lista_mac)\n",
    "#\n",
    "# print(lista_mac.split('\\n'))\n",
    "#\n",
    "# for mac in lista_mac.split('\\n'):\n",
    "#     print(mac)\n"
   ],
   "metadata": {
    "collapsed": false,
    "pycharm": {
     "name": "#%%\n"
    }
   }
  },
  {
   "cell_type": "code",
   "execution_count": 8,
   "outputs": [],
   "source": [
    "# #\n",
    "# from netmiko import ConnectHandler\n",
    "# import netmiko\n",
    "#\n",
    "# #\n",
    "# from datetime import datetime\n",
    "# import time\n",
    "#\n",
    "# #\n",
    "# import re\n",
    "# import os\n",
    "# #\n",
    "# from dotenv import load_dotenv\n",
    "\n",
    "load_dotenv()\n",
    "\n",
    "timestamp_data = datetime.now()\n",
    "timestamp = timestamp_data.strftime('%d/%m/%Y %H:%M')\n",
    "\n",
    "\n",
    "switch_1 = {\n",
    "    'device_type': 'huawei',\n",
    "    'host': '172.17.1.150',\n",
    "    'username': os.getenv('USUARIO'),\n",
    "    'password': os.getenv('PASSWORD'),\n",
    "    'global_delay_factor': 0.1,\n",
    "}\n",
    "\n",
    "start = time.time()\n",
    "\n",
    "connection = ConnectHandler(**switch_1)\n",
    "connection.enable()\n",
    "command = 'display access-user'\n",
    "\n",
    "outputA = connection.send_command(command)\n",
    "outputB = str(outputA)\n",
    "output = outputA\n",
    "\n",
    "connection.disconnect()\n",
    "\n",
    "print(output)\n",
    "\n",
    "with open(os.getenv('PATH_DIS_NEIGHBOR'), 'a') as arquivo:\n",
    "    output = output.split('\\n')\n",
    "\n",
    "    for valor in output:\n",
    "        if re.search('^\\s([\\d]{1,4})', str(valor)) is None:\n",
    "            pass\n",
    "        else:\n",
    "            arquivo.write(str(valor) + ' ' + timestamp + '\\n')\n"
   ],
   "metadata": {
    "collapsed": false,
    "pycharm": {
     "name": "#%%\n"
    }
   }
  },
  {
   "cell_type": "code",
   "execution_count": null,
   "outputs": [],
   "source": [],
   "metadata": {
    "collapsed": false,
    "pycharm": {
     "name": "#%%\n"
    }
   }
  }
 ],
 "metadata": {
  "kernelspec": {
   "display_name": "Python 3",
   "language": "python",
   "name": "python3"
  },
  "language_info": {
   "codemirror_mode": {
    "name": "ipython",
    "version": 2
   },
   "file_extension": ".py",
   "mimetype": "text/x-python",
   "name": "python",
   "nbconvert_exporter": "python",
   "pygments_lexer": "ipython2",
   "version": "2.7.6"
  }
 },
 "nbformat": 4,
 "nbformat_minor": 0
}
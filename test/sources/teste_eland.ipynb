{
 "cells": [
  {
   "cell_type": "code",
   "execution_count": 43,
   "metadata": {
    "collapsed": true
   },
   "outputs": [],
   "source": [
    "from dataframes.df_users_and_stations import df\n",
    "from elasticsearch import Elasticsearch\n",
    "import pandas as pd\n",
    "import numpy as np\n",
    "import eland as ed\n",
    "import os\n",
    "\n",
    "es = Elasticsearch(\n",
    "    ['http://192.168.10.14:9200'],\n",
    "    basic_auth=(os.getenv('ELK_USERNAME'), os.getenv('ELK_PASSWORD'))\n",
    ")\n"
   ]
  },
  {
   "cell_type": "code",
   "execution_count": 38,
   "outputs": [
    {
     "name": "stdout",
     "output_type": "stream",
     "text": [
      "<class 'pandas.core.frame.DataFrame'>\n",
      "Int64Index: 35 entries, 0 to 34\n",
      "Data columns (total 15 columns):\n",
      " #   Column           Non-Null Count  Dtype \n",
      "---  ------           --------------  ----- \n",
      " 0   UserID           35 non-null     object\n",
      " 1   Username         35 non-null     object\n",
      " 2   IPADDRESS_x      35 non-null     object\n",
      " 3   MAC              35 non-null     object\n",
      " 4   Status           35 non-null     object\n",
      " 5   AP_ID            33 non-null     object\n",
      " 6   AP_NAME          33 non-null     object\n",
      " 7   RF/WLAN          33 non-null     object\n",
      " 8   BAND             33 non-null     object\n",
      " 9   Type             33 non-null     object\n",
      " 10  RX/TX            33 non-null     object\n",
      " 11  RSSI             33 non-null     object\n",
      " 12  VLAN             33 non-null     object\n",
      " 13  SSID             33 non-null     object\n",
      " 14  @timestamp-py_y  33 non-null     object\n",
      "dtypes: object(15)\n",
      "memory usage: 4.4+ KB\n"
     ]
    }
   ],
   "source": [
    "df.info()"
   ],
   "metadata": {
    "collapsed": false,
    "pycharm": {
     "name": "#%%\n"
    }
   }
  },
  {
   "cell_type": "code",
   "execution_count": 37,
   "outputs": [
    {
     "ename": "NameError",
     "evalue": "name 'pd_df' is not defined",
     "output_type": "error",
     "traceback": [
      "\u001B[1;31m---------------------------------------------------------------------------\u001B[0m",
      "\u001B[1;31mNameError\u001B[0m                                 Traceback (most recent call last)",
      "Input \u001B[1;32mIn [37]\u001B[0m, in \u001B[0;36m<cell line: 1>\u001B[1;34m()\u001B[0m\n\u001B[0;32m      1\u001B[0m df_ed \u001B[38;5;241m=\u001B[39m ed\u001B[38;5;241m.\u001B[39mpandas_to_eland(\n\u001B[1;32m----> 2\u001B[0m     pd_df\u001B[38;5;241m=\u001B[39m\u001B[43mpd_df\u001B[49m\u001B[38;5;241m.\u001B[39mfillna(\u001B[38;5;241m0\u001B[39m),\n\u001B[0;32m      3\u001B[0m     es_client\u001B[38;5;241m=\u001B[39mes,\n\u001B[0;32m      4\u001B[0m     es_dest_index\u001B[38;5;241m=\u001B[39m\u001B[38;5;124m'\u001B[39m\u001B[38;5;124mteste-index\u001B[39m\u001B[38;5;124m'\u001B[39m,\n\u001B[0;32m      5\u001B[0m     es_if_exists\u001B[38;5;241m=\u001B[39m\u001B[38;5;124m'\u001B[39m\u001B[38;5;124mreplace\u001B[39m\u001B[38;5;124m'\u001B[39m,\n\u001B[0;32m      6\u001B[0m     es_refresh\u001B[38;5;241m=\u001B[39m\u001B[38;5;28;01mTrue\u001B[39;00m,\n\u001B[0;32m      7\u001B[0m )\n",
      "\u001B[1;31mNameError\u001B[0m: name 'pd_df' is not defined"
     ]
    }
   ],
   "source": [
    "df_ed = ed.pandas_to_eland(\n",
    "    pd_df=df.fillna(0),\n",
    "    es_client=es,\n",
    "    es_dest_index='teste-index',\n",
    "    es_if_exists='replace',\n",
    "    es_refresh=True,\n",
    ")"
   ],
   "metadata": {
    "collapsed": false,
    "pycharm": {
     "name": "#%%\n"
    }
   }
  },
  {
   "cell_type": "code",
   "execution_count": 28,
   "outputs": [
    {
     "name": "stdout",
     "output_type": "stream",
     "text": [
      "<class 'eland.dataframe.DataFrame'>\n",
      "Index: 33 entries, 2 to 34\n",
      "Data columns (total 15 columns):\n",
      " #   Column           Non-Null Count  Dtype \n",
      "---  ------           --------------  ----- \n",
      " 0   @timestamp-py_y  33 non-null     object\n",
      " 1   AP_ID            33 non-null     object\n",
      " 2   AP_NAME          33 non-null     object\n",
      " 3   BAND             33 non-null     object\n",
      " 4   IPADDRESS_x      33 non-null     object\n",
      " 5   MAC              33 non-null     object\n",
      " 6   RF/WLAN          33 non-null     object\n",
      " 7   RSSI             33 non-null     object\n",
      " 8   RX/TX            33 non-null     object\n",
      " 9   SSID             33 non-null     object\n",
      " 10  Status           33 non-null     object\n",
      " 11  Type             33 non-null     object\n",
      " 12  UserID           33 non-null     object\n",
      " 13  Username         33 non-null     object\n",
      " 14  VLAN             33 non-null     object\n",
      "dtypes: object(15)\n",
      "memory usage: 64.000 bytes\n",
      "Elasticsearch storage usage: 17.674 KB\n",
      "{'teste-index': {'mappings': {'properties': {'@timestamp-py_y': {'type': 'keyword'}, 'AP_ID': {'type': 'keyword'}, 'AP_NAME': {'type': 'keyword'}, 'BAND': {'type': 'keyword'}, 'IPADDRESS_x': {'type': 'keyword'}, 'MAC': {'type': 'keyword'}, 'RF/WLAN': {'type': 'keyword'}, 'RSSI': {'type': 'keyword'}, 'RX/TX': {'type': 'keyword'}, 'SSID': {'type': 'keyword'}, 'Status': {'type': 'keyword'}, 'Type': {'type': 'keyword'}, 'UserID': {'type': 'keyword'}, 'Username': {'type': 'keyword'}, 'VLAN': {'type': 'keyword'}}}}}\n"
     ]
    }
   ],
   "source": [
    "df_ed.info()\n",
    "\n",
    "print(es.indices.get_mapping(index=\"teste-index\"))"
   ],
   "metadata": {
    "collapsed": false,
    "pycharm": {
     "name": "#%%\n"
    }
   }
  },
  {
   "cell_type": "code",
   "execution_count": 34,
   "outputs": [
    {
     "data": {
      "text/plain": "             @timestamp-py_y AP_ID            AP_NAME  BAND     IPADDRESS_x  \\\n0                          0     0                  0     0   192.168.10.13   \n1                          0     0                  0     0     10.81.234.7   \n2   2022-04-05T16:51:56-0300     1  AP_BSB_ENGENHARIA  2.4G    10.10.17.102   \n3   2022-04-05T16:51:56-0300     3        AP_CWB_MEIO    5G    172.16.13.54   \n4   2022-04-05T16:51:56-0300     3        AP_CWB_MEIO    5G    172.16.13.58   \n5   2022-04-05T16:51:56-0300     5     AP_CWB_ENTRADA    5G    172.16.13.76   \n6   2022-04-05T16:51:56-0300     3        AP_CWB_MEIO    5G  172.16.250.100   \n7   2022-04-05T16:51:56-0300     4     AP_CWB_REUNIAO    5G    172.16.13.53   \n8   2022-04-05T16:51:56-0300     5     AP_CWB_ENTRADA    5G    172.16.13.77   \n9   2022-04-05T16:51:56-0300     3        AP_CWB_MEIO  2.4G    172.16.13.63   \n10  2022-04-05T16:51:56-0300     3        AP_CWB_MEIO    5G    172.16.13.75   \n11  2022-04-05T16:51:56-0300     5     AP_CWB_ENTRADA    5G    172.16.13.67   \n12  2022-04-05T16:51:56-0300     6   AP_CWB_ESTOQUE_1  2.4G    172.19.13.55   \n13  2022-04-05T16:51:56-0300     4     AP_CWB_REUNIAO    5G  172.16.250.115   \n14  2022-04-05T16:51:56-0300     5     AP_CWB_ENTRADA    5G    172.16.13.72   \n15  2022-04-05T16:51:56-0300     5     AP_CWB_ENTRADA    5G    172.16.13.73   \n16  2022-04-05T16:51:56-0300     2   AP_BSB_COMERCIAL    5G    10.10.17.109   \n17  2022-04-05T16:51:56-0300     5     AP_CWB_ENTRADA    5G    172.16.13.74   \n18  2022-04-05T16:51:56-0300     3        AP_CWB_MEIO    5G    172.16.13.65   \n19  2022-04-05T16:51:56-0300     3        AP_CWB_MEIO    5G    172.16.13.71   \n20  2022-04-05T16:51:56-0300     5     AP_CWB_ENTRADA    5G    172.16.13.59   \n21  2022-04-05T16:51:56-0300     3        AP_CWB_MEIO    5G    172.16.13.62   \n22  2022-04-05T16:51:56-0300     5     AP_CWB_ENTRADA    5G    172.16.13.61   \n23  2022-04-05T16:51:56-0300     3        AP_CWB_MEIO    5G  172.16.250.102   \n24  2022-04-05T16:51:56-0300     3        AP_CWB_MEIO    5G    172.16.13.56   \n25  2022-04-05T16:51:56-0300     7   AP_CWB_ESTOQUE_2    5G    172.19.13.62   \n26  2022-04-05T16:51:56-0300     5     AP_CWB_ENTRADA    5G    172.16.13.78   \n27  2022-04-05T16:51:56-0300     7   AP_CWB_ESTOQUE_2    5G    172.19.13.54   \n28  2022-04-05T16:51:56-0300     7   AP_CWB_ESTOQUE_2    5G    172.19.13.53   \n29  2022-04-05T16:51:56-0300     6   AP_CWB_ESTOQUE_1  2.4G    172.19.13.56   \n30  2022-04-05T16:51:56-0300     5     AP_CWB_ENTRADA    5G  172.16.250.146   \n31  2022-04-05T16:51:56-0300     3        AP_CWB_MEIO    5G    172.16.13.60   \n32  2022-04-05T16:51:56-0300     6   AP_CWB_ESTOQUE_1  2.4G    172.19.13.52   \n33  2022-04-05T16:51:56-0300     7   AP_CWB_ESTOQUE_2    5G    172.19.13.50   \n34  2022-04-05T16:51:56-0300     6   AP_CWB_ESTOQUE_1  2.4G    172.19.13.58   \n\n               MAC RF/WLAN RSSI    RX/TX               SSID      Status  Type  \\\n0                -       0    0        0                  0     Success     0   \n1                -       0    0        0                  0     Success     0   \n2   9cb7-0d9f-7570     0/4  -46    64/59  61_Roost_Omnidata  Pre-authen   11n   \n3   a483-e73f-ec23     1/1  -47  173/192             eterea     Success  11ac   \n4   00d7-6d3b-dc6f     1/1  -40    86/86             eterea     Success  11ac   \n5   0a37-d4a0-4c9a     1/1  -51  173/192             eterea     Success  11ac   \n6   2ac6-e8b9-3672     1/4  -55    58/57  41_Roost_Omnidata  Pre-authen  11ac   \n7   5ccd-5bd5-3c9d     1/1  -35  173/173             eterea     Success  11ac   \n8   5ccd-5bf3-c5a0     1/1  -47  173/173             eterea     Success  11ac   \n9   7c8b-b531-3c4f     0/1  -51    58/58             eterea     Success   11n   \n10  5ccd-5bf3-c091     1/1  -48  173/173             eterea     Success  11ac   \n11  103f-4474-deac     1/1  -69    86/72             eterea     Success  11ac   \n12  4a02-8e45-86d3     0/1  -52    65/58             eterea     Success   11n   \n13  f2b9-7d11-182b     1/4  -39  192/192  41_Roost_Omnidata     Success  11ac   \n14  a6fd-c54d-712e     1/1  -49  173/192             eterea     Success  11ac   \n15  8af2-8400-f361     1/1  -48    96/96             eterea     Success  11ac   \n16  129b-0fa6-d762     1/4  -79      6/6  61_Roost_Omnidata     Success  11ac   \n17  5ccd-5bf3-c58c     1/1  -40  173/173             eterea     Success  11ac   \n18  00d7-6d3b-dc8d     1/1  -36    86/86             eterea     Success  11ac   \n19  5cea-1dd8-4227     1/1  -52  192/192             eterea     Success  11ac   \n20  6616-2ec5-1f96     1/1  -55  173/192             eterea     Success  11ac   \n21  dc53-600d-abfb     1/1  -52   54/173             eterea     Success  11ac   \n22  7e09-131c-a6c6     1/1  -55  173/192             eterea     Success  11ac   \n23  6256-e3ca-e308     1/4  -59    6/130  41_Roost_Omnidata  Pre-authen  11ac   \n24  60ab-67c4-61d0     1/1  -51    78/96             eterea     Success  11ac   \n25  b6f0-6d6e-e1b6     1/1  -64  192/192             eterea     Success  11ac   \n26  6432-a843-f0da     1/1  -59    86/86             eterea     Success  11ac   \n27  0045-e269-97bb     1/1  -43   78/115             eterea     Success  11ac   \n28  5ccd-5bf3-c1bd     1/1  -44  156/173             eterea     Success  11ac   \n29  60d8-19d4-e8ea     0/1  -52    58/72             eterea     Success   11n   \n30  f877-b834-4e03     1/4  -52  144/144  41_Roost_Omnidata  Pre-authen   11n   \n31  50eb-71c2-1a9b     1/1  -40    86/86             eterea     Success  11ac   \n32  389a-f679-e1bd     0/1  -59    26/39             eterea     Success   11n   \n33  f430-8b83-3cb5     1/1  -59    96/96             eterea     Success  11ac   \n34  fc64-3aa4-f9f8     0/1  -71     1/19             eterea     Success   11n   \n\n   UserID                Username VLAN  \n0       8                 netmiko    0  \n1      15                 netmiko    0  \n2    4113            9cb70d9f7570  400  \n3    4814               jefferson   13  \n4    4993           stephany.rios   13  \n5    5011           maycon.brasil   13  \n6    5013            2ac6e8b93672  400  \n7    5019         REDISUL\\celioxp   13  \n8    5033           gabriel.rocha   13  \n9    5072         michelle.mileki   13  \n10   5074  REDISUL\\maycon.bras...   13  \n11   5106            joao.feitosa   13  \n12   5117                  branco   13  \n13   5127       F2-B9-7D-11-18-2B  400  \n14   5139          marcos.lustosa   13  \n15   5140          marcos.lustosa   13  \n16   5141       12-9B-0F-A6-D7-62  400  \n17   5143          marcos.lustosa   13  \n18   5145        rafael.pelizzaro   13  \n19   5159  REDISUL\\ivandro.mar...   13  \n20   5167  jean.tiburski@redis...   13  \n21   5170           enio.danzmann   13  \n22   5171           enio.danzmann   13  \n23   5174            6256e3cae308  400  \n24   5178           stephany.rios   13  \n25   5180                  josmar   13  \n26   5182  REDISUL\\jean.tiburs...   13  \n27   5191          REDISUL\\josmar   13  \n28   5193  REDISUL\\guilherme.c...   13  \n29   5195          REDISUL\\branco   13  \n30   5197            f877b8344e03  400  \n31   5199         michelle.mileki   13  \n32   5201           rogerio.gomes   13  \n33   5206                  felipe   13  \n34   5209       redisul\\claudinei   13  \n\n[35 rows x 15 columns]",
      "text/html": "<div>\n<style scoped>\n    .dataframe tbody tr th:only-of-type {\n        vertical-align: middle;\n    }\n\n    .dataframe tbody tr th {\n        vertical-align: top;\n    }\n\n    .dataframe thead th {\n        text-align: right;\n    }\n</style>\n<table border=\"1\" class=\"dataframe\">\n  <thead>\n    <tr style=\"text-align: right;\">\n      <th></th>\n      <th>@timestamp-py_y</th>\n      <th>AP_ID</th>\n      <th>AP_NAME</th>\n      <th>BAND</th>\n      <th>IPADDRESS_x</th>\n      <th>MAC</th>\n      <th>RF/WLAN</th>\n      <th>RSSI</th>\n      <th>RX/TX</th>\n      <th>SSID</th>\n      <th>Status</th>\n      <th>Type</th>\n      <th>UserID</th>\n      <th>Username</th>\n      <th>VLAN</th>\n    </tr>\n  </thead>\n  <tbody>\n    <tr>\n      <th>0</th>\n      <td>0</td>\n      <td>0</td>\n      <td>0</td>\n      <td>0</td>\n      <td>192.168.10.13</td>\n      <td>-</td>\n      <td>0</td>\n      <td>0</td>\n      <td>0</td>\n      <td>0</td>\n      <td>Success</td>\n      <td>0</td>\n      <td>8</td>\n      <td>netmiko</td>\n      <td>0</td>\n    </tr>\n    <tr>\n      <th>1</th>\n      <td>0</td>\n      <td>0</td>\n      <td>0</td>\n      <td>0</td>\n      <td>10.81.234.7</td>\n      <td>-</td>\n      <td>0</td>\n      <td>0</td>\n      <td>0</td>\n      <td>0</td>\n      <td>Success</td>\n      <td>0</td>\n      <td>15</td>\n      <td>netmiko</td>\n      <td>0</td>\n    </tr>\n    <tr>\n      <th>2</th>\n      <td>2022-04-05T16:51:56-0300</td>\n      <td>1</td>\n      <td>AP_BSB_ENGENHARIA</td>\n      <td>2.4G</td>\n      <td>10.10.17.102</td>\n      <td>9cb7-0d9f-7570</td>\n      <td>0/4</td>\n      <td>-46</td>\n      <td>64/59</td>\n      <td>61_Roost_Omnidata</td>\n      <td>Pre-authen</td>\n      <td>11n</td>\n      <td>4113</td>\n      <td>9cb70d9f7570</td>\n      <td>400</td>\n    </tr>\n    <tr>\n      <th>3</th>\n      <td>2022-04-05T16:51:56-0300</td>\n      <td>3</td>\n      <td>AP_CWB_MEIO</td>\n      <td>5G</td>\n      <td>172.16.13.54</td>\n      <td>a483-e73f-ec23</td>\n      <td>1/1</td>\n      <td>-47</td>\n      <td>173/192</td>\n      <td>eterea</td>\n      <td>Success</td>\n      <td>11ac</td>\n      <td>4814</td>\n      <td>jefferson</td>\n      <td>13</td>\n    </tr>\n    <tr>\n      <th>4</th>\n      <td>2022-04-05T16:51:56-0300</td>\n      <td>3</td>\n      <td>AP_CWB_MEIO</td>\n      <td>5G</td>\n      <td>172.16.13.58</td>\n      <td>00d7-6d3b-dc6f</td>\n      <td>1/1</td>\n      <td>-40</td>\n      <td>86/86</td>\n      <td>eterea</td>\n      <td>Success</td>\n      <td>11ac</td>\n      <td>4993</td>\n      <td>stephany.rios</td>\n      <td>13</td>\n    </tr>\n    <tr>\n      <th>5</th>\n      <td>2022-04-05T16:51:56-0300</td>\n      <td>5</td>\n      <td>AP_CWB_ENTRADA</td>\n      <td>5G</td>\n      <td>172.16.13.76</td>\n      <td>0a37-d4a0-4c9a</td>\n      <td>1/1</td>\n      <td>-51</td>\n      <td>173/192</td>\n      <td>eterea</td>\n      <td>Success</td>\n      <td>11ac</td>\n      <td>5011</td>\n      <td>maycon.brasil</td>\n      <td>13</td>\n    </tr>\n    <tr>\n      <th>6</th>\n      <td>2022-04-05T16:51:56-0300</td>\n      <td>3</td>\n      <td>AP_CWB_MEIO</td>\n      <td>5G</td>\n      <td>172.16.250.100</td>\n      <td>2ac6-e8b9-3672</td>\n      <td>1/4</td>\n      <td>-55</td>\n      <td>58/57</td>\n      <td>41_Roost_Omnidata</td>\n      <td>Pre-authen</td>\n      <td>11ac</td>\n      <td>5013</td>\n      <td>2ac6e8b93672</td>\n      <td>400</td>\n    </tr>\n    <tr>\n      <th>7</th>\n      <td>2022-04-05T16:51:56-0300</td>\n      <td>4</td>\n      <td>AP_CWB_REUNIAO</td>\n      <td>5G</td>\n      <td>172.16.13.53</td>\n      <td>5ccd-5bd5-3c9d</td>\n      <td>1/1</td>\n      <td>-35</td>\n      <td>173/173</td>\n      <td>eterea</td>\n      <td>Success</td>\n      <td>11ac</td>\n      <td>5019</td>\n      <td>REDISUL\\celioxp</td>\n      <td>13</td>\n    </tr>\n    <tr>\n      <th>8</th>\n      <td>2022-04-05T16:51:56-0300</td>\n      <td>5</td>\n      <td>AP_CWB_ENTRADA</td>\n      <td>5G</td>\n      <td>172.16.13.77</td>\n      <td>5ccd-5bf3-c5a0</td>\n      <td>1/1</td>\n      <td>-47</td>\n      <td>173/173</td>\n      <td>eterea</td>\n      <td>Success</td>\n      <td>11ac</td>\n      <td>5033</td>\n      <td>gabriel.rocha</td>\n      <td>13</td>\n    </tr>\n    <tr>\n      <th>9</th>\n      <td>2022-04-05T16:51:56-0300</td>\n      <td>3</td>\n      <td>AP_CWB_MEIO</td>\n      <td>2.4G</td>\n      <td>172.16.13.63</td>\n      <td>7c8b-b531-3c4f</td>\n      <td>0/1</td>\n      <td>-51</td>\n      <td>58/58</td>\n      <td>eterea</td>\n      <td>Success</td>\n      <td>11n</td>\n      <td>5072</td>\n      <td>michelle.mileki</td>\n      <td>13</td>\n    </tr>\n    <tr>\n      <th>10</th>\n      <td>2022-04-05T16:51:56-0300</td>\n      <td>3</td>\n      <td>AP_CWB_MEIO</td>\n      <td>5G</td>\n      <td>172.16.13.75</td>\n      <td>5ccd-5bf3-c091</td>\n      <td>1/1</td>\n      <td>-48</td>\n      <td>173/173</td>\n      <td>eterea</td>\n      <td>Success</td>\n      <td>11ac</td>\n      <td>5074</td>\n      <td>REDISUL\\maycon.bras...</td>\n      <td>13</td>\n    </tr>\n    <tr>\n      <th>11</th>\n      <td>2022-04-05T16:51:56-0300</td>\n      <td>5</td>\n      <td>AP_CWB_ENTRADA</td>\n      <td>5G</td>\n      <td>172.16.13.67</td>\n      <td>103f-4474-deac</td>\n      <td>1/1</td>\n      <td>-69</td>\n      <td>86/72</td>\n      <td>eterea</td>\n      <td>Success</td>\n      <td>11ac</td>\n      <td>5106</td>\n      <td>joao.feitosa</td>\n      <td>13</td>\n    </tr>\n    <tr>\n      <th>12</th>\n      <td>2022-04-05T16:51:56-0300</td>\n      <td>6</td>\n      <td>AP_CWB_ESTOQUE_1</td>\n      <td>2.4G</td>\n      <td>172.19.13.55</td>\n      <td>4a02-8e45-86d3</td>\n      <td>0/1</td>\n      <td>-52</td>\n      <td>65/58</td>\n      <td>eterea</td>\n      <td>Success</td>\n      <td>11n</td>\n      <td>5117</td>\n      <td>branco</td>\n      <td>13</td>\n    </tr>\n    <tr>\n      <th>13</th>\n      <td>2022-04-05T16:51:56-0300</td>\n      <td>4</td>\n      <td>AP_CWB_REUNIAO</td>\n      <td>5G</td>\n      <td>172.16.250.115</td>\n      <td>f2b9-7d11-182b</td>\n      <td>1/4</td>\n      <td>-39</td>\n      <td>192/192</td>\n      <td>41_Roost_Omnidata</td>\n      <td>Success</td>\n      <td>11ac</td>\n      <td>5127</td>\n      <td>F2-B9-7D-11-18-2B</td>\n      <td>400</td>\n    </tr>\n    <tr>\n      <th>14</th>\n      <td>2022-04-05T16:51:56-0300</td>\n      <td>5</td>\n      <td>AP_CWB_ENTRADA</td>\n      <td>5G</td>\n      <td>172.16.13.72</td>\n      <td>a6fd-c54d-712e</td>\n      <td>1/1</td>\n      <td>-49</td>\n      <td>173/192</td>\n      <td>eterea</td>\n      <td>Success</td>\n      <td>11ac</td>\n      <td>5139</td>\n      <td>marcos.lustosa</td>\n      <td>13</td>\n    </tr>\n    <tr>\n      <th>15</th>\n      <td>2022-04-05T16:51:56-0300</td>\n      <td>5</td>\n      <td>AP_CWB_ENTRADA</td>\n      <td>5G</td>\n      <td>172.16.13.73</td>\n      <td>8af2-8400-f361</td>\n      <td>1/1</td>\n      <td>-48</td>\n      <td>96/96</td>\n      <td>eterea</td>\n      <td>Success</td>\n      <td>11ac</td>\n      <td>5140</td>\n      <td>marcos.lustosa</td>\n      <td>13</td>\n    </tr>\n    <tr>\n      <th>16</th>\n      <td>2022-04-05T16:51:56-0300</td>\n      <td>2</td>\n      <td>AP_BSB_COMERCIAL</td>\n      <td>5G</td>\n      <td>10.10.17.109</td>\n      <td>129b-0fa6-d762</td>\n      <td>1/4</td>\n      <td>-79</td>\n      <td>6/6</td>\n      <td>61_Roost_Omnidata</td>\n      <td>Success</td>\n      <td>11ac</td>\n      <td>5141</td>\n      <td>12-9B-0F-A6-D7-62</td>\n      <td>400</td>\n    </tr>\n    <tr>\n      <th>17</th>\n      <td>2022-04-05T16:51:56-0300</td>\n      <td>5</td>\n      <td>AP_CWB_ENTRADA</td>\n      <td>5G</td>\n      <td>172.16.13.74</td>\n      <td>5ccd-5bf3-c58c</td>\n      <td>1/1</td>\n      <td>-40</td>\n      <td>173/173</td>\n      <td>eterea</td>\n      <td>Success</td>\n      <td>11ac</td>\n      <td>5143</td>\n      <td>marcos.lustosa</td>\n      <td>13</td>\n    </tr>\n    <tr>\n      <th>18</th>\n      <td>2022-04-05T16:51:56-0300</td>\n      <td>3</td>\n      <td>AP_CWB_MEIO</td>\n      <td>5G</td>\n      <td>172.16.13.65</td>\n      <td>00d7-6d3b-dc8d</td>\n      <td>1/1</td>\n      <td>-36</td>\n      <td>86/86</td>\n      <td>eterea</td>\n      <td>Success</td>\n      <td>11ac</td>\n      <td>5145</td>\n      <td>rafael.pelizzaro</td>\n      <td>13</td>\n    </tr>\n    <tr>\n      <th>19</th>\n      <td>2022-04-05T16:51:56-0300</td>\n      <td>3</td>\n      <td>AP_CWB_MEIO</td>\n      <td>5G</td>\n      <td>172.16.13.71</td>\n      <td>5cea-1dd8-4227</td>\n      <td>1/1</td>\n      <td>-52</td>\n      <td>192/192</td>\n      <td>eterea</td>\n      <td>Success</td>\n      <td>11ac</td>\n      <td>5159</td>\n      <td>REDISUL\\ivandro.mar...</td>\n      <td>13</td>\n    </tr>\n    <tr>\n      <th>20</th>\n      <td>2022-04-05T16:51:56-0300</td>\n      <td>5</td>\n      <td>AP_CWB_ENTRADA</td>\n      <td>5G</td>\n      <td>172.16.13.59</td>\n      <td>6616-2ec5-1f96</td>\n      <td>1/1</td>\n      <td>-55</td>\n      <td>173/192</td>\n      <td>eterea</td>\n      <td>Success</td>\n      <td>11ac</td>\n      <td>5167</td>\n      <td>jean.tiburski@redis...</td>\n      <td>13</td>\n    </tr>\n    <tr>\n      <th>21</th>\n      <td>2022-04-05T16:51:56-0300</td>\n      <td>3</td>\n      <td>AP_CWB_MEIO</td>\n      <td>5G</td>\n      <td>172.16.13.62</td>\n      <td>dc53-600d-abfb</td>\n      <td>1/1</td>\n      <td>-52</td>\n      <td>54/173</td>\n      <td>eterea</td>\n      <td>Success</td>\n      <td>11ac</td>\n      <td>5170</td>\n      <td>enio.danzmann</td>\n      <td>13</td>\n    </tr>\n    <tr>\n      <th>22</th>\n      <td>2022-04-05T16:51:56-0300</td>\n      <td>5</td>\n      <td>AP_CWB_ENTRADA</td>\n      <td>5G</td>\n      <td>172.16.13.61</td>\n      <td>7e09-131c-a6c6</td>\n      <td>1/1</td>\n      <td>-55</td>\n      <td>173/192</td>\n      <td>eterea</td>\n      <td>Success</td>\n      <td>11ac</td>\n      <td>5171</td>\n      <td>enio.danzmann</td>\n      <td>13</td>\n    </tr>\n    <tr>\n      <th>23</th>\n      <td>2022-04-05T16:51:56-0300</td>\n      <td>3</td>\n      <td>AP_CWB_MEIO</td>\n      <td>5G</td>\n      <td>172.16.250.102</td>\n      <td>6256-e3ca-e308</td>\n      <td>1/4</td>\n      <td>-59</td>\n      <td>6/130</td>\n      <td>41_Roost_Omnidata</td>\n      <td>Pre-authen</td>\n      <td>11ac</td>\n      <td>5174</td>\n      <td>6256e3cae308</td>\n      <td>400</td>\n    </tr>\n    <tr>\n      <th>24</th>\n      <td>2022-04-05T16:51:56-0300</td>\n      <td>3</td>\n      <td>AP_CWB_MEIO</td>\n      <td>5G</td>\n      <td>172.16.13.56</td>\n      <td>60ab-67c4-61d0</td>\n      <td>1/1</td>\n      <td>-51</td>\n      <td>78/96</td>\n      <td>eterea</td>\n      <td>Success</td>\n      <td>11ac</td>\n      <td>5178</td>\n      <td>stephany.rios</td>\n      <td>13</td>\n    </tr>\n    <tr>\n      <th>25</th>\n      <td>2022-04-05T16:51:56-0300</td>\n      <td>7</td>\n      <td>AP_CWB_ESTOQUE_2</td>\n      <td>5G</td>\n      <td>172.19.13.62</td>\n      <td>b6f0-6d6e-e1b6</td>\n      <td>1/1</td>\n      <td>-64</td>\n      <td>192/192</td>\n      <td>eterea</td>\n      <td>Success</td>\n      <td>11ac</td>\n      <td>5180</td>\n      <td>josmar</td>\n      <td>13</td>\n    </tr>\n    <tr>\n      <th>26</th>\n      <td>2022-04-05T16:51:56-0300</td>\n      <td>5</td>\n      <td>AP_CWB_ENTRADA</td>\n      <td>5G</td>\n      <td>172.16.13.78</td>\n      <td>6432-a843-f0da</td>\n      <td>1/1</td>\n      <td>-59</td>\n      <td>86/86</td>\n      <td>eterea</td>\n      <td>Success</td>\n      <td>11ac</td>\n      <td>5182</td>\n      <td>REDISUL\\jean.tiburs...</td>\n      <td>13</td>\n    </tr>\n    <tr>\n      <th>27</th>\n      <td>2022-04-05T16:51:56-0300</td>\n      <td>7</td>\n      <td>AP_CWB_ESTOQUE_2</td>\n      <td>5G</td>\n      <td>172.19.13.54</td>\n      <td>0045-e269-97bb</td>\n      <td>1/1</td>\n      <td>-43</td>\n      <td>78/115</td>\n      <td>eterea</td>\n      <td>Success</td>\n      <td>11ac</td>\n      <td>5191</td>\n      <td>REDISUL\\josmar</td>\n      <td>13</td>\n    </tr>\n    <tr>\n      <th>28</th>\n      <td>2022-04-05T16:51:56-0300</td>\n      <td>7</td>\n      <td>AP_CWB_ESTOQUE_2</td>\n      <td>5G</td>\n      <td>172.19.13.53</td>\n      <td>5ccd-5bf3-c1bd</td>\n      <td>1/1</td>\n      <td>-44</td>\n      <td>156/173</td>\n      <td>eterea</td>\n      <td>Success</td>\n      <td>11ac</td>\n      <td>5193</td>\n      <td>REDISUL\\guilherme.c...</td>\n      <td>13</td>\n    </tr>\n    <tr>\n      <th>29</th>\n      <td>2022-04-05T16:51:56-0300</td>\n      <td>6</td>\n      <td>AP_CWB_ESTOQUE_1</td>\n      <td>2.4G</td>\n      <td>172.19.13.56</td>\n      <td>60d8-19d4-e8ea</td>\n      <td>0/1</td>\n      <td>-52</td>\n      <td>58/72</td>\n      <td>eterea</td>\n      <td>Success</td>\n      <td>11n</td>\n      <td>5195</td>\n      <td>REDISUL\\branco</td>\n      <td>13</td>\n    </tr>\n    <tr>\n      <th>30</th>\n      <td>2022-04-05T16:51:56-0300</td>\n      <td>5</td>\n      <td>AP_CWB_ENTRADA</td>\n      <td>5G</td>\n      <td>172.16.250.146</td>\n      <td>f877-b834-4e03</td>\n      <td>1/4</td>\n      <td>-52</td>\n      <td>144/144</td>\n      <td>41_Roost_Omnidata</td>\n      <td>Pre-authen</td>\n      <td>11n</td>\n      <td>5197</td>\n      <td>f877b8344e03</td>\n      <td>400</td>\n    </tr>\n    <tr>\n      <th>31</th>\n      <td>2022-04-05T16:51:56-0300</td>\n      <td>3</td>\n      <td>AP_CWB_MEIO</td>\n      <td>5G</td>\n      <td>172.16.13.60</td>\n      <td>50eb-71c2-1a9b</td>\n      <td>1/1</td>\n      <td>-40</td>\n      <td>86/86</td>\n      <td>eterea</td>\n      <td>Success</td>\n      <td>11ac</td>\n      <td>5199</td>\n      <td>michelle.mileki</td>\n      <td>13</td>\n    </tr>\n    <tr>\n      <th>32</th>\n      <td>2022-04-05T16:51:56-0300</td>\n      <td>6</td>\n      <td>AP_CWB_ESTOQUE_1</td>\n      <td>2.4G</td>\n      <td>172.19.13.52</td>\n      <td>389a-f679-e1bd</td>\n      <td>0/1</td>\n      <td>-59</td>\n      <td>26/39</td>\n      <td>eterea</td>\n      <td>Success</td>\n      <td>11n</td>\n      <td>5201</td>\n      <td>rogerio.gomes</td>\n      <td>13</td>\n    </tr>\n    <tr>\n      <th>33</th>\n      <td>2022-04-05T16:51:56-0300</td>\n      <td>7</td>\n      <td>AP_CWB_ESTOQUE_2</td>\n      <td>5G</td>\n      <td>172.19.13.50</td>\n      <td>f430-8b83-3cb5</td>\n      <td>1/1</td>\n      <td>-59</td>\n      <td>96/96</td>\n      <td>eterea</td>\n      <td>Success</td>\n      <td>11ac</td>\n      <td>5206</td>\n      <td>felipe</td>\n      <td>13</td>\n    </tr>\n    <tr>\n      <th>34</th>\n      <td>2022-04-05T16:51:56-0300</td>\n      <td>6</td>\n      <td>AP_CWB_ESTOQUE_1</td>\n      <td>2.4G</td>\n      <td>172.19.13.58</td>\n      <td>fc64-3aa4-f9f8</td>\n      <td>0/1</td>\n      <td>-71</td>\n      <td>1/19</td>\n      <td>eterea</td>\n      <td>Success</td>\n      <td>11n</td>\n      <td>5209</td>\n      <td>redisul\\claudinei</td>\n      <td>13</td>\n    </tr>\n  </tbody>\n</table>\n</div>\n<p>35 rows × 15 columns</p>"
     },
     "execution_count": 34,
     "metadata": {},
     "output_type": "execute_result"
    }
   ],
   "source": [
    "df_ed"
   ],
   "metadata": {
    "collapsed": false,
    "pycharm": {
     "name": "#%%\n"
    }
   }
  },
  {
   "cell_type": "code",
   "execution_count": null,
   "outputs": [],
   "source": [],
   "metadata": {
    "collapsed": false,
    "pycharm": {
     "name": "#%%\n"
    }
   }
  }
 ],
 "metadata": {
  "kernelspec": {
   "display_name": "Python 3",
   "language": "python",
   "name": "python3"
  },
  "language_info": {
   "codemirror_mode": {
    "name": "ipython",
    "version": 2
   },
   "file_extension": ".py",
   "mimetype": "text/x-python",
   "name": "python",
   "nbconvert_exporter": "python",
   "pygments_lexer": "ipython2",
   "version": "2.7.6"
  }
 },
 "nbformat": 4,
 "nbformat_minor": 0
}
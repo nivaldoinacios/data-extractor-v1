{
 "cells": [
  {
   "cell_type": "code",
   "execution_count": 1,
   "metadata": {
    "collapsed": true,
    "pycharm": {
     "name": "#%%\n"
    }
   },
   "outputs": [
    {
     "name": "stdout",
     "output_type": "stream",
     "text": [
      "\n",
      " ------------------------------------------------------------------------------------------------------\n",
      " UserID  Username               IP address                               MAC            Status\n",
      " ------------------------------------------------------------------------------------------------------\n",
      " 16      netmiko                10.81.234.6                              -              Success         \n",
      " 4113    9cb70d9f7570           10.10.17.102                             9cb7-0d9f-7570 Pre-authen      \n",
      " 4511    56-42-E7-9D-40-E8      172.16.250.101                           5642-e79d-40e8 Success         \n",
      " 4521    lourdes                172.17.13.21                             a816-d031-88c1 Success         \n",
      " 4522    branco                 172.19.13.55                             4a02-8e45-86d3 Success         \n",
      " 4524    REDISUL\\branco         172.19.13.56                             60d8-19d4-e8ea Success         \n",
      " 4549    stephany.rios          172.16.13.74                             00d7-6d3b-dc6f Success         \n",
      " 4553    5A-E8-87-99-90-52      172.16.250.103                           5ae8-8799-9052 Success         \n",
      " 4554    guilherme.carvalho     172.19.13.53                             5e79-0a7e-90b8 Success         \n",
      " 4573    juliana.groth          172.16.13.52                             bab2-c64f-295d Success         \n",
      " 4584    joao.feitosa           172.16.13.65                             103f-4474-deac Success         \n",
      " 4586    michelle.mileki        172.16.13.53                             7c8b-b531-3c4f Success         \n",
      " 4601    REDISUL\\josmar         172.19.13.61                             0045-e269-97bb Success         \n",
      " 4607    stephany.rios          172.16.13.50                             60ab-67c4-61d0 Success         \n",
      " 4608    redisul\\hamilton       172.19.13.57                             8056-f2f2-1897 Success         \n",
      " 4616    Adir                   172.16.13.76                             5ccd-5bf3-c0b9 Success         \n",
      " 4622    marcos.junior          172.16.13.64                             2a87-d116-a3b9 Success         \n",
      " 4623    marina.oliveira        172.16.13.66                             aadd-27d7-b79c Success         \n",
      " 4627    enio.danzmann          172.16.13.58                             dc53-600d-abfb Success         \n",
      " 4631    REDISUL\\ana.goncalv... 172.16.13.60                             2079-188b-a556 Success         \n",
      " 4634    enio.danzmann          172.16.13.55                             7e09-131c-a6c6 Success         \n",
      " 4636    REDISUL\\guilherme.c... 172.19.13.54                             5ccd-5bf3-c1bd Success         \n",
      " 4637    REDISUL\\maycon.bras... 172.16.13.72                             5ccd-5bf3-c091 Success         \n",
      " 4644    6256e3cae308           172.16.250.102                           6256-e3ca-e308 Pre-authen      \n",
      " 4647    gabriel.rocha          172.16.13.59                             5ccd-5bf3-c5a0 Success         \n",
      " 4663    REDISUL\\marcos.juni... 172.16.13.73                             8056-f2f0-9d73 Success         \n",
      " 4668    joao.feitosa           172.16.13.63                             7ce9-d3d6-5b31 Success         \n",
      " 4678    luiz.rocha             172.17.13.26                             bc6a-d1fb-b822 Success         \n",
      " 4689    jean.tiburski@redis... 172.16.13.56                             6616-2ec5-1f96 Success         \n",
      " ------------------------------------------------------------------------------------------------------\n",
      " Total: 29, printed: 29\n"
     ]
    }
   ],
   "source": [
    "# import get_users_and_stations\n",
    "# import pandas as pd\n",
    "# import os\n",
    "#\n",
    "#\n",
    "# df_users = pd.read_csv(os.getenv('dir_users'), delim_whitespace=True)\n",
    "# df_users.columns = [\"UserID\", \"Username\", \"IPADDRESS\", \"MAC\",\n",
    "#                     \"Status\", \"@timestamp-py\"]\n",
    "#\n",
    "# df_stations = pd.read_csv(os.getenv('dir_stations'), delim_whitespace=True)\n",
    "# df_stations.columns = ['MAC', 'AP_ID', 'AP_NAME', 'RF/WLAN', 'BAND', 'Type',\n",
    "#                        'RX/TX', 'RSSI', 'VLAN', 'IPADDRESS', 'SSID', \"@timestamp-py\"]\n",
    "#\n",
    "# df_users_stations = pd.merge(df_users, df_stations, on=['MAC'])\n",
    "# df_users_stations = df_users_stations.drop(columns=['IPADDRESS_x', '@timestamp-py_y'])\n"
   ]
  },
  {
   "cell_type": "code",
   "execution_count": 26,
   "outputs": [
    {
     "name": "stdout",
     "output_type": "stream",
     "text": [
      " ------------------------------------------------------------------------------------------------------\n",
      " UserID  Username               IP address                               MAC            Status\n",
      " ------------------------------------------------------------------------------------------------------\n",
      " 5       netmiko                192.168.10.13                            -              Success         \n",
      " 8       netmiko                10.81.234.6                              -              Success         \n",
      " 4113    9cb70d9f7570           10.10.17.102                             9cb7-0d9f-7570 Pre-authen      \n",
      " 5057    64-A2-00-1E-7F-99      172.16.250.106                           64a2-001e-7f99 Success         \n",
      " 5113    REDISUL\\ana.goncalv... 172.16.13.60                             2079-188b-a556 Success         \n",
      " 5119    enio.danzmann          172.16.13.58                             dc53-600d-abfb Success         \n",
      " 5243    enio.danzmann          172.16.13.55                             7e09-131c-a6c6 Success         \n",
      " 5246    jean.tiburski@redis... 172.16.13.56                             6616-2ec5-1f96 Success         \n",
      " 5261    marina.oliveira        172.16.13.66                             aadd-27d7-b79c Success         \n",
      " 5273    luiz.rocha             172.17.13.26                             bc6a-d1fb-b822 Success         \n",
      " 5301    REDISUL\\jean.tiburs... 172.16.13.78                             6432-a843-f0da Success         \n",
      " 5330    ana.goncalves          172.16.13.54                             8a1e-d045-724c Success         \n",
      " 5337    Adir                   172.16.13.76                             5ccd-5bf3-c0b9 Success         \n",
      " 5364    joao.feitosa           172.16.13.63                             7ce9-d3d6-5b31 Success         \n",
      " ------------------------------------------------------------------------------------------------------\n",
      " Total: 14, printed: 14\n"
     ]
    }
   ],
   "source": [
    "from utils import *\n",
    "\n",
    "connection = HuaweiTelnet(**AC6005)\n",
    "connection.enable()\n",
    "command = 'display access-user'\n",
    "\n",
    "output = connection.send_command(command)\n",
    "\n",
    "connection.disconnect()\n",
    "\n",
    "print(output)\n"
   ],
   "metadata": {
    "collapsed": false,
    "pycharm": {
     "name": "#%%\n"
    }
   }
  },
  {
   "cell_type": "code",
   "execution_count": 27,
   "outputs": [
    {
     "data": {
      "text/plain": "str"
     },
     "execution_count": 27,
     "metadata": {},
     "output_type": "execute_result"
    }
   ],
   "source": [
    "type(output)"
   ],
   "metadata": {
    "collapsed": false,
    "pycharm": {
     "name": "#%%\n"
    }
   }
  },
  {
   "cell_type": "code",
   "execution_count": 28,
   "outputs": [],
   "source": [],
   "metadata": {
    "collapsed": false,
    "pycharm": {
     "name": "#%%\n"
    }
   }
  },
  {
   "cell_type": "code",
   "execution_count": 29,
   "outputs": [
    {
     "data": {
      "text/plain": "[\" 5       netmiko                192.168.10.13                            -              Success          2022-03-30'T'17:25:16-0300\\n\",\n \" 8       netmiko                10.81.234.6                              -              Success          2022-03-30'T'17:25:16-0300\\n\",\n \" 4113    9cb70d9f7570           10.10.17.102                             9cb7-0d9f-7570 Pre-authen       2022-03-30'T'17:25:16-0300\\n\",\n \" 5057    64-A2-00-1E-7F-99      172.16.250.106                           64a2-001e-7f99 Success          2022-03-30'T'17:25:16-0300\\n\",\n \" 5113    REDISUL\\\\ana.goncalv... 172.16.13.60                             2079-188b-a556 Success          2022-03-30'T'17:25:16-0300\\n\",\n \" 5119    enio.danzmann          172.16.13.58                             dc53-600d-abfb Success          2022-03-30'T'17:25:16-0300\\n\",\n \" 5243    enio.danzmann          172.16.13.55                             7e09-131c-a6c6 Success          2022-03-30'T'17:25:16-0300\\n\",\n \" 5246    jean.tiburski@redis... 172.16.13.56                             6616-2ec5-1f96 Success          2022-03-30'T'17:25:16-0300\\n\",\n \" 5261    marina.oliveira        172.16.13.66                             aadd-27d7-b79c Success          2022-03-30'T'17:25:16-0300\\n\",\n \" 5273    luiz.rocha             172.17.13.26                             bc6a-d1fb-b822 Success          2022-03-30'T'17:25:16-0300\\n\",\n \" 5301    REDISUL\\\\jean.tiburs... 172.16.13.78                             6432-a843-f0da Success          2022-03-30'T'17:25:16-0300\\n\",\n \" 5330    ana.goncalves          172.16.13.54                             8a1e-d045-724c Success          2022-03-30'T'17:25:16-0300\\n\",\n \" 5337    Adir                   172.16.13.76                             5ccd-5bf3-c0b9 Success          2022-03-30'T'17:25:16-0300\\n\",\n \" 5364    joao.feitosa           172.16.13.63                             7ce9-d3d6-5b31 Success          2022-03-30'T'17:25:16-0300\\n\"]"
     },
     "execution_count": 29,
     "metadata": {},
     "output_type": "execute_result"
    }
   ],
   "source": [],
   "metadata": {
    "collapsed": false,
    "pycharm": {
     "name": "#%%\n"
    }
   }
  },
  {
   "cell_type": "code",
   "execution_count": null,
   "outputs": [],
   "source": [],
   "metadata": {
    "collapsed": false,
    "pycharm": {
     "name": "#%%\n",
     "is_executing": true
    }
   }
  }
 ],
 "metadata": {
  "kernelspec": {
   "name": "python3",
   "language": "python",
   "display_name": "Python 3 (ipykernel)"
  },
  "language_info": {
   "codemirror_mode": {
    "name": "ipython",
    "version": 2
   },
   "file_extension": ".py",
   "mimetype": "text/x-python",
   "name": "python",
   "nbconvert_exporter": "python",
   "pygments_lexer": "ipython2",
   "version": "2.7.6"
  }
 },
 "nbformat": 4,
 "nbformat_minor": 0
}
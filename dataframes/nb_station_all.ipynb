{
 "cells": [
  {
   "cell_type": "code",
   "execution_count": 1,
   "metadata": {
    "collapsed": true
   },
   "outputs": [],
   "source": [
    "from etl import Lista\n",
    "import pandas as pd"
   ]
  },
  {
   "cell_type": "code",
   "execution_count": 2,
   "outputs": [],
   "source": [
    "global df_station_all"
   ],
   "metadata": {
    "collapsed": false,
    "pycharm": {
     "name": "#%%\n"
    }
   }
  },
  {
   "cell_type": "code",
   "execution_count": 3,
   "outputs": [],
   "source": [
    "df_station_all = pd.DataFrame(Lista.stations,\n",
    "                               columns=['MAC', 'AP_ID', 'AP_NAME', 'RF/WLAN', 'BAND', 'Type',\n",
    "                                        'RX/TX', 'RSSI', 'VLAN', 'IPADDRESS', 'SSID',\n",
    "                                        \"@timestamp-py\"]\n",
    "                               )\n"
   ],
   "metadata": {
    "collapsed": false,
    "pycharm": {
     "name": "#%%\n"
    }
   }
  },
  {
   "cell_type": "code",
   "execution_count": 4,
   "outputs": [
    {
     "data": {
      "text/plain": "               MAC AP_ID            AP_NAME RF/WLAN  BAND  Type    RX/TX RSSI  \\\n0   00d7-6d3b-dc6f     3        AP_CWB_MEIO     1/1    5G  11ac    86/86  -40   \n1   00d7-6d43-c74f     3        AP_CWB_MEIO     1/1    5G  11ac    86/86  -44   \n2   00d7-6d4c-4e51     5     AP_CWB_ENTRADA     1/1    5G  11ac      6/6  -51   \n3   00d7-6d4d-8b5e     5     AP_CWB_ENTRADA     1/1    5G  11ac    86/86  -47   \n4   0a37-d4a0-4c9a     5     AP_CWB_ENTRADA     1/1    5G  11ac  156/192  -53   \n5   0e46-2139-e445     7   AP_CWB_ESTOQUE_2     1/1    5G  11ac    58/72  -58   \n6   103f-4474-deac     3        AP_CWB_MEIO     1/1    5G  11ac    58/96  -59   \n7   2a87-d116-a3b9     3        AP_CWB_MEIO     1/1    5G  11ac    86/86  -51   \n8   2ac6-e8b9-3672     3        AP_CWB_MEIO     1/4    5G  11ac    52/57  -57   \n9   36c6-b432-42e2     4     AP_CWB_REUNIAO     0/1  2.4G   11n    72/58  -63   \n10  441c-a8bf-d83f     3        AP_CWB_MEIO     1/1    5G  11ac  192/192  -52   \n11  50eb-71c2-1a9b     5     AP_CWB_ENTRADA     1/1    5G  11ac    86/86  -55   \n12  56e3-caef-b634     5     AP_CWB_ENTRADA     1/1    5G  11ac  173/192  -45   \n13  5a98-2078-ae15     1  AP_BSB_ENGENHARIA     1/4    5G  11ac    6/144  -47   \n14  5ccd-5bf3-c091     3        AP_CWB_MEIO     1/1    5G  11ac  173/173  -47   \n15  5ccd-5bf3-c0a0     1  AP_BSB_ENGENHARIA     1/1    5G  11ac  173/156  -52   \n16  5ccd-5bf3-c483     1  AP_BSB_ENGENHARIA     1/1    5G  11ac  173/173  -40   \n17  5ccd-5bf3-c58c     5     AP_CWB_ENTRADA     1/1    5G  11ac  173/173  -63   \n18  5ccd-5bf3-c5a0     3        AP_CWB_MEIO     1/1    5G  11ac  173/173  -58   \n19  5ccd-5bf3-c5be     5     AP_CWB_ENTRADA     1/1    5G  11ac      6/6  -43   \n20  5e79-0a7e-90b8     5     AP_CWB_ENTRADA     1/1    5G  11ac  156/192  -56   \n21  60ab-67c4-61d0     3        AP_CWB_MEIO     1/1    5G  11ac    78/96  -47   \n22  6256-e3ca-e308     4     AP_CWB_REUNIAO     1/4    5G  11ac  192/130  -59   \n23  6432-a843-f0da     4     AP_CWB_REUNIAO     1/1    5G  11ac    86/86  -40   \n24  6616-2ec5-1f96     4     AP_CWB_REUNIAO     1/1    5G  11ac  156/192  -43   \n25  7c8b-b531-3c4f     3        AP_CWB_MEIO     0/1  2.4G   11n    52/72  -42   \n26  7ce9-d3d6-5b31     5     AP_CWB_ENTRADA     0/1  2.4G   11n    65/58  -56   \n27  8af2-8400-f361     5     AP_CWB_ENTRADA     1/1    5G  11ac    96/65  -55   \n28  a6fd-c54d-712e     5     AP_CWB_ENTRADA     1/1    5G  11ac  173/192  -63   \n29  b83b-cc03-7e9b     5     AP_CWB_ENTRADA     1/1    5G  11ac    96/57  -60   \n30  bab2-c64f-295d     3        AP_CWB_MEIO     1/1    5G  11ac  173/192  -43   \n31  bc6a-d1fb-b822     1  AP_BSB_ENGENHARIA     1/1    5G  11ac  173/173  -48   \n32  dcbf-e98f-a018     5     AP_CWB_ENTRADA     1/4    5G   11n     6/72  -55   \n\n   VLAN       IPADDRESS               SSID             @timestamp-py  \n0    13    172.16.13.52             eterea  2022-06-10T10:52:29-0300  \n1    13    172.16.13.64             eterea  2022-06-10T10:52:29-0300  \n2    13    172.16.13.73             eterea  2022-06-10T10:52:29-0300  \n3    13    172.16.13.68             eterea  2022-06-10T10:52:29-0300  \n4    13    172.16.13.56             eterea  2022-06-10T10:52:29-0300  \n5    13    172.19.13.53             eterea  2022-06-10T10:52:29-0300  \n6    13    172.16.13.57             eterea  2022-06-10T10:52:29-0300  \n7    13    172.16.13.69             eterea  2022-06-10T10:52:29-0300  \n8   400  172.16.250.103  41_Roost_Omnidata  2022-06-10T10:52:29-0300  \n9    13    172.16.13.50             eterea  2022-06-10T10:52:29-0300  \n10   13    172.16.13.53             eterea  2022-06-10T10:52:29-0300  \n11   13    172.16.13.60             eterea  2022-06-10T10:52:29-0300  \n12   13    172.16.13.71             eterea  2022-06-10T10:52:29-0300  \n13  400    10.10.17.106  61_Roost_Omnidata  2022-06-10T10:52:29-0300  \n14   13    172.16.13.54             eterea  2022-06-10T10:52:29-0300  \n15   13    172.17.13.36             eterea  2022-06-10T10:52:29-0300  \n16   13    172.17.13.38             eterea  2022-06-10T10:52:29-0300  \n17   13    172.16.13.77             eterea  2022-06-10T10:52:29-0300  \n18   13    172.16.13.67             eterea  2022-06-10T10:52:29-0300  \n19   13               -             eterea  2022-06-10T10:52:29-0300  \n20   13    172.16.13.70             eterea  2022-06-10T10:52:29-0300  \n21   13    172.16.13.51             eterea  2022-06-10T10:52:29-0300  \n22  400  172.16.250.106  41_Roost_Omnidata  2022-06-10T10:52:29-0300  \n23   13    172.16.13.58             eterea  2022-06-10T10:52:29-0300  \n24   13    172.16.13.55             eterea  2022-06-10T10:52:29-0300  \n25   13    172.16.13.62             eterea  2022-06-10T10:52:29-0300  \n26   13    172.16.13.63             eterea  2022-06-10T10:52:29-0300  \n27   13    172.16.13.76             eterea  2022-06-10T10:52:29-0300  \n28   13    172.16.13.75             eterea  2022-06-10T10:52:29-0300  \n29   13    172.16.13.66             eterea  2022-06-10T10:52:29-0300  \n30   13    172.16.13.61             eterea  2022-06-10T10:52:29-0300  \n31   13    172.17.13.30             eterea  2022-06-10T10:52:29-0300  \n32  400  172.16.250.104  41_Roost_Omnidata  2022-06-10T10:52:29-0300  ",
      "text/html": "<div>\n<style scoped>\n    .dataframe tbody tr th:only-of-type {\n        vertical-align: middle;\n    }\n\n    .dataframe tbody tr th {\n        vertical-align: top;\n    }\n\n    .dataframe thead th {\n        text-align: right;\n    }\n</style>\n<table border=\"1\" class=\"dataframe\">\n  <thead>\n    <tr style=\"text-align: right;\">\n      <th></th>\n      <th>MAC</th>\n      <th>AP_ID</th>\n      <th>AP_NAME</th>\n      <th>RF/WLAN</th>\n      <th>BAND</th>\n      <th>Type</th>\n      <th>RX/TX</th>\n      <th>RSSI</th>\n      <th>VLAN</th>\n      <th>IPADDRESS</th>\n      <th>SSID</th>\n      <th>@timestamp-py</th>\n    </tr>\n  </thead>\n  <tbody>\n    <tr>\n      <th>0</th>\n      <td>00d7-6d3b-dc6f</td>\n      <td>3</td>\n      <td>AP_CWB_MEIO</td>\n      <td>1/1</td>\n      <td>5G</td>\n      <td>11ac</td>\n      <td>86/86</td>\n      <td>-40</td>\n      <td>13</td>\n      <td>172.16.13.52</td>\n      <td>eterea</td>\n      <td>2022-06-10T10:52:29-0300</td>\n    </tr>\n    <tr>\n      <th>1</th>\n      <td>00d7-6d43-c74f</td>\n      <td>3</td>\n      <td>AP_CWB_MEIO</td>\n      <td>1/1</td>\n      <td>5G</td>\n      <td>11ac</td>\n      <td>86/86</td>\n      <td>-44</td>\n      <td>13</td>\n      <td>172.16.13.64</td>\n      <td>eterea</td>\n      <td>2022-06-10T10:52:29-0300</td>\n    </tr>\n    <tr>\n      <th>2</th>\n      <td>00d7-6d4c-4e51</td>\n      <td>5</td>\n      <td>AP_CWB_ENTRADA</td>\n      <td>1/1</td>\n      <td>5G</td>\n      <td>11ac</td>\n      <td>6/6</td>\n      <td>-51</td>\n      <td>13</td>\n      <td>172.16.13.73</td>\n      <td>eterea</td>\n      <td>2022-06-10T10:52:29-0300</td>\n    </tr>\n    <tr>\n      <th>3</th>\n      <td>00d7-6d4d-8b5e</td>\n      <td>5</td>\n      <td>AP_CWB_ENTRADA</td>\n      <td>1/1</td>\n      <td>5G</td>\n      <td>11ac</td>\n      <td>86/86</td>\n      <td>-47</td>\n      <td>13</td>\n      <td>172.16.13.68</td>\n      <td>eterea</td>\n      <td>2022-06-10T10:52:29-0300</td>\n    </tr>\n    <tr>\n      <th>4</th>\n      <td>0a37-d4a0-4c9a</td>\n      <td>5</td>\n      <td>AP_CWB_ENTRADA</td>\n      <td>1/1</td>\n      <td>5G</td>\n      <td>11ac</td>\n      <td>156/192</td>\n      <td>-53</td>\n      <td>13</td>\n      <td>172.16.13.56</td>\n      <td>eterea</td>\n      <td>2022-06-10T10:52:29-0300</td>\n    </tr>\n    <tr>\n      <th>5</th>\n      <td>0e46-2139-e445</td>\n      <td>7</td>\n      <td>AP_CWB_ESTOQUE_2</td>\n      <td>1/1</td>\n      <td>5G</td>\n      <td>11ac</td>\n      <td>58/72</td>\n      <td>-58</td>\n      <td>13</td>\n      <td>172.19.13.53</td>\n      <td>eterea</td>\n      <td>2022-06-10T10:52:29-0300</td>\n    </tr>\n    <tr>\n      <th>6</th>\n      <td>103f-4474-deac</td>\n      <td>3</td>\n      <td>AP_CWB_MEIO</td>\n      <td>1/1</td>\n      <td>5G</td>\n      <td>11ac</td>\n      <td>58/96</td>\n      <td>-59</td>\n      <td>13</td>\n      <td>172.16.13.57</td>\n      <td>eterea</td>\n      <td>2022-06-10T10:52:29-0300</td>\n    </tr>\n    <tr>\n      <th>7</th>\n      <td>2a87-d116-a3b9</td>\n      <td>3</td>\n      <td>AP_CWB_MEIO</td>\n      <td>1/1</td>\n      <td>5G</td>\n      <td>11ac</td>\n      <td>86/86</td>\n      <td>-51</td>\n      <td>13</td>\n      <td>172.16.13.69</td>\n      <td>eterea</td>\n      <td>2022-06-10T10:52:29-0300</td>\n    </tr>\n    <tr>\n      <th>8</th>\n      <td>2ac6-e8b9-3672</td>\n      <td>3</td>\n      <td>AP_CWB_MEIO</td>\n      <td>1/4</td>\n      <td>5G</td>\n      <td>11ac</td>\n      <td>52/57</td>\n      <td>-57</td>\n      <td>400</td>\n      <td>172.16.250.103</td>\n      <td>41_Roost_Omnidata</td>\n      <td>2022-06-10T10:52:29-0300</td>\n    </tr>\n    <tr>\n      <th>9</th>\n      <td>36c6-b432-42e2</td>\n      <td>4</td>\n      <td>AP_CWB_REUNIAO</td>\n      <td>0/1</td>\n      <td>2.4G</td>\n      <td>11n</td>\n      <td>72/58</td>\n      <td>-63</td>\n      <td>13</td>\n      <td>172.16.13.50</td>\n      <td>eterea</td>\n      <td>2022-06-10T10:52:29-0300</td>\n    </tr>\n    <tr>\n      <th>10</th>\n      <td>441c-a8bf-d83f</td>\n      <td>3</td>\n      <td>AP_CWB_MEIO</td>\n      <td>1/1</td>\n      <td>5G</td>\n      <td>11ac</td>\n      <td>192/192</td>\n      <td>-52</td>\n      <td>13</td>\n      <td>172.16.13.53</td>\n      <td>eterea</td>\n      <td>2022-06-10T10:52:29-0300</td>\n    </tr>\n    <tr>\n      <th>11</th>\n      <td>50eb-71c2-1a9b</td>\n      <td>5</td>\n      <td>AP_CWB_ENTRADA</td>\n      <td>1/1</td>\n      <td>5G</td>\n      <td>11ac</td>\n      <td>86/86</td>\n      <td>-55</td>\n      <td>13</td>\n      <td>172.16.13.60</td>\n      <td>eterea</td>\n      <td>2022-06-10T10:52:29-0300</td>\n    </tr>\n    <tr>\n      <th>12</th>\n      <td>56e3-caef-b634</td>\n      <td>5</td>\n      <td>AP_CWB_ENTRADA</td>\n      <td>1/1</td>\n      <td>5G</td>\n      <td>11ac</td>\n      <td>173/192</td>\n      <td>-45</td>\n      <td>13</td>\n      <td>172.16.13.71</td>\n      <td>eterea</td>\n      <td>2022-06-10T10:52:29-0300</td>\n    </tr>\n    <tr>\n      <th>13</th>\n      <td>5a98-2078-ae15</td>\n      <td>1</td>\n      <td>AP_BSB_ENGENHARIA</td>\n      <td>1/4</td>\n      <td>5G</td>\n      <td>11ac</td>\n      <td>6/144</td>\n      <td>-47</td>\n      <td>400</td>\n      <td>10.10.17.106</td>\n      <td>61_Roost_Omnidata</td>\n      <td>2022-06-10T10:52:29-0300</td>\n    </tr>\n    <tr>\n      <th>14</th>\n      <td>5ccd-5bf3-c091</td>\n      <td>3</td>\n      <td>AP_CWB_MEIO</td>\n      <td>1/1</td>\n      <td>5G</td>\n      <td>11ac</td>\n      <td>173/173</td>\n      <td>-47</td>\n      <td>13</td>\n      <td>172.16.13.54</td>\n      <td>eterea</td>\n      <td>2022-06-10T10:52:29-0300</td>\n    </tr>\n    <tr>\n      <th>15</th>\n      <td>5ccd-5bf3-c0a0</td>\n      <td>1</td>\n      <td>AP_BSB_ENGENHARIA</td>\n      <td>1/1</td>\n      <td>5G</td>\n      <td>11ac</td>\n      <td>173/156</td>\n      <td>-52</td>\n      <td>13</td>\n      <td>172.17.13.36</td>\n      <td>eterea</td>\n      <td>2022-06-10T10:52:29-0300</td>\n    </tr>\n    <tr>\n      <th>16</th>\n      <td>5ccd-5bf3-c483</td>\n      <td>1</td>\n      <td>AP_BSB_ENGENHARIA</td>\n      <td>1/1</td>\n      <td>5G</td>\n      <td>11ac</td>\n      <td>173/173</td>\n      <td>-40</td>\n      <td>13</td>\n      <td>172.17.13.38</td>\n      <td>eterea</td>\n      <td>2022-06-10T10:52:29-0300</td>\n    </tr>\n    <tr>\n      <th>17</th>\n      <td>5ccd-5bf3-c58c</td>\n      <td>5</td>\n      <td>AP_CWB_ENTRADA</td>\n      <td>1/1</td>\n      <td>5G</td>\n      <td>11ac</td>\n      <td>173/173</td>\n      <td>-63</td>\n      <td>13</td>\n      <td>172.16.13.77</td>\n      <td>eterea</td>\n      <td>2022-06-10T10:52:29-0300</td>\n    </tr>\n    <tr>\n      <th>18</th>\n      <td>5ccd-5bf3-c5a0</td>\n      <td>3</td>\n      <td>AP_CWB_MEIO</td>\n      <td>1/1</td>\n      <td>5G</td>\n      <td>11ac</td>\n      <td>173/173</td>\n      <td>-58</td>\n      <td>13</td>\n      <td>172.16.13.67</td>\n      <td>eterea</td>\n      <td>2022-06-10T10:52:29-0300</td>\n    </tr>\n    <tr>\n      <th>19</th>\n      <td>5ccd-5bf3-c5be</td>\n      <td>5</td>\n      <td>AP_CWB_ENTRADA</td>\n      <td>1/1</td>\n      <td>5G</td>\n      <td>11ac</td>\n      <td>6/6</td>\n      <td>-43</td>\n      <td>13</td>\n      <td>-</td>\n      <td>eterea</td>\n      <td>2022-06-10T10:52:29-0300</td>\n    </tr>\n    <tr>\n      <th>20</th>\n      <td>5e79-0a7e-90b8</td>\n      <td>5</td>\n      <td>AP_CWB_ENTRADA</td>\n      <td>1/1</td>\n      <td>5G</td>\n      <td>11ac</td>\n      <td>156/192</td>\n      <td>-56</td>\n      <td>13</td>\n      <td>172.16.13.70</td>\n      <td>eterea</td>\n      <td>2022-06-10T10:52:29-0300</td>\n    </tr>\n    <tr>\n      <th>21</th>\n      <td>60ab-67c4-61d0</td>\n      <td>3</td>\n      <td>AP_CWB_MEIO</td>\n      <td>1/1</td>\n      <td>5G</td>\n      <td>11ac</td>\n      <td>78/96</td>\n      <td>-47</td>\n      <td>13</td>\n      <td>172.16.13.51</td>\n      <td>eterea</td>\n      <td>2022-06-10T10:52:29-0300</td>\n    </tr>\n    <tr>\n      <th>22</th>\n      <td>6256-e3ca-e308</td>\n      <td>4</td>\n      <td>AP_CWB_REUNIAO</td>\n      <td>1/4</td>\n      <td>5G</td>\n      <td>11ac</td>\n      <td>192/130</td>\n      <td>-59</td>\n      <td>400</td>\n      <td>172.16.250.106</td>\n      <td>41_Roost_Omnidata</td>\n      <td>2022-06-10T10:52:29-0300</td>\n    </tr>\n    <tr>\n      <th>23</th>\n      <td>6432-a843-f0da</td>\n      <td>4</td>\n      <td>AP_CWB_REUNIAO</td>\n      <td>1/1</td>\n      <td>5G</td>\n      <td>11ac</td>\n      <td>86/86</td>\n      <td>-40</td>\n      <td>13</td>\n      <td>172.16.13.58</td>\n      <td>eterea</td>\n      <td>2022-06-10T10:52:29-0300</td>\n    </tr>\n    <tr>\n      <th>24</th>\n      <td>6616-2ec5-1f96</td>\n      <td>4</td>\n      <td>AP_CWB_REUNIAO</td>\n      <td>1/1</td>\n      <td>5G</td>\n      <td>11ac</td>\n      <td>156/192</td>\n      <td>-43</td>\n      <td>13</td>\n      <td>172.16.13.55</td>\n      <td>eterea</td>\n      <td>2022-06-10T10:52:29-0300</td>\n    </tr>\n    <tr>\n      <th>25</th>\n      <td>7c8b-b531-3c4f</td>\n      <td>3</td>\n      <td>AP_CWB_MEIO</td>\n      <td>0/1</td>\n      <td>2.4G</td>\n      <td>11n</td>\n      <td>52/72</td>\n      <td>-42</td>\n      <td>13</td>\n      <td>172.16.13.62</td>\n      <td>eterea</td>\n      <td>2022-06-10T10:52:29-0300</td>\n    </tr>\n    <tr>\n      <th>26</th>\n      <td>7ce9-d3d6-5b31</td>\n      <td>5</td>\n      <td>AP_CWB_ENTRADA</td>\n      <td>0/1</td>\n      <td>2.4G</td>\n      <td>11n</td>\n      <td>65/58</td>\n      <td>-56</td>\n      <td>13</td>\n      <td>172.16.13.63</td>\n      <td>eterea</td>\n      <td>2022-06-10T10:52:29-0300</td>\n    </tr>\n    <tr>\n      <th>27</th>\n      <td>8af2-8400-f361</td>\n      <td>5</td>\n      <td>AP_CWB_ENTRADA</td>\n      <td>1/1</td>\n      <td>5G</td>\n      <td>11ac</td>\n      <td>96/65</td>\n      <td>-55</td>\n      <td>13</td>\n      <td>172.16.13.76</td>\n      <td>eterea</td>\n      <td>2022-06-10T10:52:29-0300</td>\n    </tr>\n    <tr>\n      <th>28</th>\n      <td>a6fd-c54d-712e</td>\n      <td>5</td>\n      <td>AP_CWB_ENTRADA</td>\n      <td>1/1</td>\n      <td>5G</td>\n      <td>11ac</td>\n      <td>173/192</td>\n      <td>-63</td>\n      <td>13</td>\n      <td>172.16.13.75</td>\n      <td>eterea</td>\n      <td>2022-06-10T10:52:29-0300</td>\n    </tr>\n    <tr>\n      <th>29</th>\n      <td>b83b-cc03-7e9b</td>\n      <td>5</td>\n      <td>AP_CWB_ENTRADA</td>\n      <td>1/1</td>\n      <td>5G</td>\n      <td>11ac</td>\n      <td>96/57</td>\n      <td>-60</td>\n      <td>13</td>\n      <td>172.16.13.66</td>\n      <td>eterea</td>\n      <td>2022-06-10T10:52:29-0300</td>\n    </tr>\n    <tr>\n      <th>30</th>\n      <td>bab2-c64f-295d</td>\n      <td>3</td>\n      <td>AP_CWB_MEIO</td>\n      <td>1/1</td>\n      <td>5G</td>\n      <td>11ac</td>\n      <td>173/192</td>\n      <td>-43</td>\n      <td>13</td>\n      <td>172.16.13.61</td>\n      <td>eterea</td>\n      <td>2022-06-10T10:52:29-0300</td>\n    </tr>\n    <tr>\n      <th>31</th>\n      <td>bc6a-d1fb-b822</td>\n      <td>1</td>\n      <td>AP_BSB_ENGENHARIA</td>\n      <td>1/1</td>\n      <td>5G</td>\n      <td>11ac</td>\n      <td>173/173</td>\n      <td>-48</td>\n      <td>13</td>\n      <td>172.17.13.30</td>\n      <td>eterea</td>\n      <td>2022-06-10T10:52:29-0300</td>\n    </tr>\n    <tr>\n      <th>32</th>\n      <td>dcbf-e98f-a018</td>\n      <td>5</td>\n      <td>AP_CWB_ENTRADA</td>\n      <td>1/4</td>\n      <td>5G</td>\n      <td>11n</td>\n      <td>6/72</td>\n      <td>-55</td>\n      <td>400</td>\n      <td>172.16.250.104</td>\n      <td>41_Roost_Omnidata</td>\n      <td>2022-06-10T10:52:29-0300</td>\n    </tr>\n  </tbody>\n</table>\n</div>"
     },
     "execution_count": 4,
     "metadata": {},
     "output_type": "execute_result"
    }
   ],
   "source": [
    "df_station_all"
   ],
   "metadata": {
    "collapsed": false,
    "pycharm": {
     "name": "#%%\n"
    }
   }
  },
  {
   "cell_type": "code",
   "execution_count": 4,
   "outputs": [],
   "source": [],
   "metadata": {
    "collapsed": false,
    "pycharm": {
     "name": "#%%\n"
    }
   }
  }
 ],
 "metadata": {
  "kernelspec": {
   "display_name": "Python 3",
   "language": "python",
   "name": "python3"
  },
  "language_info": {
   "codemirror_mode": {
    "name": "ipython",
    "version": 2
   },
   "file_extension": ".py",
   "mimetype": "text/x-python",
   "name": "python",
   "nbconvert_exporter": "python",
   "pygments_lexer": "ipython2",
   "version": "2.7.6"
  }
 },
 "nbformat": 4,
 "nbformat_minor": 0
}
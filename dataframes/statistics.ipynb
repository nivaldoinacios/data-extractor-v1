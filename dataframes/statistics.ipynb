{
 "cells": [
  {
   "cell_type": "code",
   "execution_count": 2,
   "metadata": {
    "collapsed": true
   },
   "outputs": [],
   "source": [
    "from elasticsearch import Elasticsearch\n",
    "from etl import Lista\n",
    "import pandas as pd\n",
    "import eland as ed\n",
    "import os"
   ]
  },
  {
   "cell_type": "code",
   "execution_count": 3,
   "outputs": [],
   "source": [
    "es = Elasticsearch(\n",
    "    ['http://192.168.10.14:9200'],\n",
    "    basic_auth=('nivaldo', '#Roost2021!')\n",
    ")"
   ],
   "metadata": {
    "collapsed": false,
    "pycharm": {
     "name": "#%%\n"
    }
   }
  },
  {
   "cell_type": "code",
   "execution_count": 4,
   "outputs": [],
   "source": [
    "pd = pd.DataFrame(Lista.statistics,\n",
    "                             columns=[\"MAC\", \"PCKT_SENT\", \"PCKT_RECEIVED\", \"BYTES_SENT\",\n",
    "                                      \"BYTES_RECEIVED\", \"WID_RATE_SENT\", \"WID_RATE_RECEIVED\",\n",
    "                                      \"TRIGGER_R_TOTAL\", \"TRIGGER_R_FAILED\", \"STA_POWER_SAVE\"]\n",
    "                             )"
   ],
   "metadata": {
    "collapsed": false,
    "pycharm": {
     "name": "#%%\n"
    }
   }
  },
  {
   "cell_type": "code",
   "execution_count": 5,
   "outputs": [
    {
     "data": {
      "text/plain": "               MAC PCKT_SENT PCKT_RECEIVED  BYTES_SENT BYTES_RECEIVED  \\\n0   00d7-6d3b-dc6f    545360        117251   449840553       20509674   \n1   00d7-6d43-c74f    249836         59764   314775141        9195335   \n2   00d7-6d4c-4e51      7425          7045     2962689        1460293   \n3   00d7-6d4d-8b5e      8152          7667     5521305        1854080   \n4   0a37-d4a0-4c9a     11482          2321    13037892         471558   \n5   103f-4474-deac       900          1140      303949         244885   \n6   2a87-d116-a3b9     99693         15713   117031159        3689531   \n7   2ac6-e8b9-3672         3             4         180            264   \n8   36c6-b432-42e2     88901         24600   101243812        4998597   \n9   441c-a8bf-d83f     23452         23269    12180427       12213661   \n10  50eb-71c2-1a9b   1285075        439496   840445464      259887435   \n11  56e3-caef-b634      9732          4027     9786546         819953   \n12  5a98-2078-ae15        70            73       18706          15943   \n13  5ccd-5b0b-f67b      2325          2940     1672498        1726661   \n14  5ccd-5bf3-c091      6979          3272     7058176         956961   \n15  5ccd-5bf3-c0a0   2290385        225004  1563694595       58909720   \n16  5ccd-5bf3-c483    255820        582901   190469997      519051786   \n17  5ccd-5bf3-c58c     53187         22968    56494954        9874010   \n18  5ccd-5bf3-c5a0    693624        367790   498641800      261095669   \n19  5ccd-5bf3-c5be         3             1         106             19   \n20  5e79-0a7e-90b8       972           901      353736         115976   \n21  60ab-67c4-61d0    191376         41801   225132055        8743873   \n22  6256-e3ca-e308         9            42        1486          15252   \n23  6432-a843-f0da     49797        173806     7835684      164382322   \n24  6616-2ec5-1f96     14714          1739    20603489         405854   \n25  7c8b-b531-3c4f     16663          3742    21835333         424797   \n26  7ce9-d3d6-5b31     19335         33318     5545853       33438864   \n27  8af2-8400-f361       214           187      140414          46062   \n28  a6fd-c54d-712e      2398           952     3182018          84035   \n29  b83b-cc03-7e9b      2757          2310     2498871         424742   \n30  bab2-c64f-295d     32672         12081    33856812        1952334   \n31  bc6a-d1fb-b822   1055869        190803  1329196894       70368941   \n32  dcbf-e98f-a018      6357          5722     3784624        1583184   \n\n   WID_RATE_SENT WID_RATE_RECEIVED TRIGGER_R_TOTAL TRIGGER_R_FAILED  \\\n0            972                33               0                0   \n1            173                74               0                0   \n2             16                35               0                0   \n3              4                 6               0                0   \n4              0                 0               0                0   \n5              0                 0               0                0   \n6              0                 0               0                0   \n7              0                 0               0                0   \n8              0                 0               0                0   \n9             26                18               0                0   \n10            12                17               0                0   \n11            68                 8               0                0   \n12             0                 0               0                0   \n13           150               297               0                0   \n14             8                 1               0                0   \n15             0                 0               0                0   \n16           116              1689               0                0   \n17             2                 3               0                0   \n18           287              2109               0                0   \n19             0                 0               0                0   \n20            16                 8               0                0   \n21             0                 0               0                0   \n22             0                 0               0                0   \n23            80               555               0                0   \n24             0                 0               0                0   \n25            22                18               0                0   \n26             0                 0               0                0   \n27             0                 0               0                0   \n28             0                 0               0                0   \n29             0                 0               0                0   \n30            14                 4               0                0   \n31            25                 4               0                0   \n32             0                 0               0                0   \n\n   STA_POWER_SAVE  \n0               0  \n1               0  \n2               0  \n3              90  \n4              95  \n5              92  \n6              94  \n7              96  \n8              87  \n9              26  \n10              0  \n11             92  \n12             94  \n13              0  \n14              4  \n15             59  \n16              0  \n17             28  \n18              0  \n19              0  \n20             89  \n21             93  \n22             96  \n23              0  \n24             97  \n25             95  \n26              1  \n27             75  \n28             81  \n29             93  \n30             94  \n31              0  \n32             96  ",
      "text/html": "<div>\n<style scoped>\n    .dataframe tbody tr th:only-of-type {\n        vertical-align: middle;\n    }\n\n    .dataframe tbody tr th {\n        vertical-align: top;\n    }\n\n    .dataframe thead th {\n        text-align: right;\n    }\n</style>\n<table border=\"1\" class=\"dataframe\">\n  <thead>\n    <tr style=\"text-align: right;\">\n      <th></th>\n      <th>MAC</th>\n      <th>PCKT_SENT</th>\n      <th>PCKT_RECEIVED</th>\n      <th>BYTES_SENT</th>\n      <th>BYTES_RECEIVED</th>\n      <th>WID_RATE_SENT</th>\n      <th>WID_RATE_RECEIVED</th>\n      <th>TRIGGER_R_TOTAL</th>\n      <th>TRIGGER_R_FAILED</th>\n      <th>STA_POWER_SAVE</th>\n    </tr>\n  </thead>\n  <tbody>\n    <tr>\n      <th>0</th>\n      <td>00d7-6d3b-dc6f</td>\n      <td>545360</td>\n      <td>117251</td>\n      <td>449840553</td>\n      <td>20509674</td>\n      <td>972</td>\n      <td>33</td>\n      <td>0</td>\n      <td>0</td>\n      <td>0</td>\n    </tr>\n    <tr>\n      <th>1</th>\n      <td>00d7-6d43-c74f</td>\n      <td>249836</td>\n      <td>59764</td>\n      <td>314775141</td>\n      <td>9195335</td>\n      <td>173</td>\n      <td>74</td>\n      <td>0</td>\n      <td>0</td>\n      <td>0</td>\n    </tr>\n    <tr>\n      <th>2</th>\n      <td>00d7-6d4c-4e51</td>\n      <td>7425</td>\n      <td>7045</td>\n      <td>2962689</td>\n      <td>1460293</td>\n      <td>16</td>\n      <td>35</td>\n      <td>0</td>\n      <td>0</td>\n      <td>0</td>\n    </tr>\n    <tr>\n      <th>3</th>\n      <td>00d7-6d4d-8b5e</td>\n      <td>8152</td>\n      <td>7667</td>\n      <td>5521305</td>\n      <td>1854080</td>\n      <td>4</td>\n      <td>6</td>\n      <td>0</td>\n      <td>0</td>\n      <td>90</td>\n    </tr>\n    <tr>\n      <th>4</th>\n      <td>0a37-d4a0-4c9a</td>\n      <td>11482</td>\n      <td>2321</td>\n      <td>13037892</td>\n      <td>471558</td>\n      <td>0</td>\n      <td>0</td>\n      <td>0</td>\n      <td>0</td>\n      <td>95</td>\n    </tr>\n    <tr>\n      <th>5</th>\n      <td>103f-4474-deac</td>\n      <td>900</td>\n      <td>1140</td>\n      <td>303949</td>\n      <td>244885</td>\n      <td>0</td>\n      <td>0</td>\n      <td>0</td>\n      <td>0</td>\n      <td>92</td>\n    </tr>\n    <tr>\n      <th>6</th>\n      <td>2a87-d116-a3b9</td>\n      <td>99693</td>\n      <td>15713</td>\n      <td>117031159</td>\n      <td>3689531</td>\n      <td>0</td>\n      <td>0</td>\n      <td>0</td>\n      <td>0</td>\n      <td>94</td>\n    </tr>\n    <tr>\n      <th>7</th>\n      <td>2ac6-e8b9-3672</td>\n      <td>3</td>\n      <td>4</td>\n      <td>180</td>\n      <td>264</td>\n      <td>0</td>\n      <td>0</td>\n      <td>0</td>\n      <td>0</td>\n      <td>96</td>\n    </tr>\n    <tr>\n      <th>8</th>\n      <td>36c6-b432-42e2</td>\n      <td>88901</td>\n      <td>24600</td>\n      <td>101243812</td>\n      <td>4998597</td>\n      <td>0</td>\n      <td>0</td>\n      <td>0</td>\n      <td>0</td>\n      <td>87</td>\n    </tr>\n    <tr>\n      <th>9</th>\n      <td>441c-a8bf-d83f</td>\n      <td>23452</td>\n      <td>23269</td>\n      <td>12180427</td>\n      <td>12213661</td>\n      <td>26</td>\n      <td>18</td>\n      <td>0</td>\n      <td>0</td>\n      <td>26</td>\n    </tr>\n    <tr>\n      <th>10</th>\n      <td>50eb-71c2-1a9b</td>\n      <td>1285075</td>\n      <td>439496</td>\n      <td>840445464</td>\n      <td>259887435</td>\n      <td>12</td>\n      <td>17</td>\n      <td>0</td>\n      <td>0</td>\n      <td>0</td>\n    </tr>\n    <tr>\n      <th>11</th>\n      <td>56e3-caef-b634</td>\n      <td>9732</td>\n      <td>4027</td>\n      <td>9786546</td>\n      <td>819953</td>\n      <td>68</td>\n      <td>8</td>\n      <td>0</td>\n      <td>0</td>\n      <td>92</td>\n    </tr>\n    <tr>\n      <th>12</th>\n      <td>5a98-2078-ae15</td>\n      <td>70</td>\n      <td>73</td>\n      <td>18706</td>\n      <td>15943</td>\n      <td>0</td>\n      <td>0</td>\n      <td>0</td>\n      <td>0</td>\n      <td>94</td>\n    </tr>\n    <tr>\n      <th>13</th>\n      <td>5ccd-5b0b-f67b</td>\n      <td>2325</td>\n      <td>2940</td>\n      <td>1672498</td>\n      <td>1726661</td>\n      <td>150</td>\n      <td>297</td>\n      <td>0</td>\n      <td>0</td>\n      <td>0</td>\n    </tr>\n    <tr>\n      <th>14</th>\n      <td>5ccd-5bf3-c091</td>\n      <td>6979</td>\n      <td>3272</td>\n      <td>7058176</td>\n      <td>956961</td>\n      <td>8</td>\n      <td>1</td>\n      <td>0</td>\n      <td>0</td>\n      <td>4</td>\n    </tr>\n    <tr>\n      <th>15</th>\n      <td>5ccd-5bf3-c0a0</td>\n      <td>2290385</td>\n      <td>225004</td>\n      <td>1563694595</td>\n      <td>58909720</td>\n      <td>0</td>\n      <td>0</td>\n      <td>0</td>\n      <td>0</td>\n      <td>59</td>\n    </tr>\n    <tr>\n      <th>16</th>\n      <td>5ccd-5bf3-c483</td>\n      <td>255820</td>\n      <td>582901</td>\n      <td>190469997</td>\n      <td>519051786</td>\n      <td>116</td>\n      <td>1689</td>\n      <td>0</td>\n      <td>0</td>\n      <td>0</td>\n    </tr>\n    <tr>\n      <th>17</th>\n      <td>5ccd-5bf3-c58c</td>\n      <td>53187</td>\n      <td>22968</td>\n      <td>56494954</td>\n      <td>9874010</td>\n      <td>2</td>\n      <td>3</td>\n      <td>0</td>\n      <td>0</td>\n      <td>28</td>\n    </tr>\n    <tr>\n      <th>18</th>\n      <td>5ccd-5bf3-c5a0</td>\n      <td>693624</td>\n      <td>367790</td>\n      <td>498641800</td>\n      <td>261095669</td>\n      <td>287</td>\n      <td>2109</td>\n      <td>0</td>\n      <td>0</td>\n      <td>0</td>\n    </tr>\n    <tr>\n      <th>19</th>\n      <td>5ccd-5bf3-c5be</td>\n      <td>3</td>\n      <td>1</td>\n      <td>106</td>\n      <td>19</td>\n      <td>0</td>\n      <td>0</td>\n      <td>0</td>\n      <td>0</td>\n      <td>0</td>\n    </tr>\n    <tr>\n      <th>20</th>\n      <td>5e79-0a7e-90b8</td>\n      <td>972</td>\n      <td>901</td>\n      <td>353736</td>\n      <td>115976</td>\n      <td>16</td>\n      <td>8</td>\n      <td>0</td>\n      <td>0</td>\n      <td>89</td>\n    </tr>\n    <tr>\n      <th>21</th>\n      <td>60ab-67c4-61d0</td>\n      <td>191376</td>\n      <td>41801</td>\n      <td>225132055</td>\n      <td>8743873</td>\n      <td>0</td>\n      <td>0</td>\n      <td>0</td>\n      <td>0</td>\n      <td>93</td>\n    </tr>\n    <tr>\n      <th>22</th>\n      <td>6256-e3ca-e308</td>\n      <td>9</td>\n      <td>42</td>\n      <td>1486</td>\n      <td>15252</td>\n      <td>0</td>\n      <td>0</td>\n      <td>0</td>\n      <td>0</td>\n      <td>96</td>\n    </tr>\n    <tr>\n      <th>23</th>\n      <td>6432-a843-f0da</td>\n      <td>49797</td>\n      <td>173806</td>\n      <td>7835684</td>\n      <td>164382322</td>\n      <td>80</td>\n      <td>555</td>\n      <td>0</td>\n      <td>0</td>\n      <td>0</td>\n    </tr>\n    <tr>\n      <th>24</th>\n      <td>6616-2ec5-1f96</td>\n      <td>14714</td>\n      <td>1739</td>\n      <td>20603489</td>\n      <td>405854</td>\n      <td>0</td>\n      <td>0</td>\n      <td>0</td>\n      <td>0</td>\n      <td>97</td>\n    </tr>\n    <tr>\n      <th>25</th>\n      <td>7c8b-b531-3c4f</td>\n      <td>16663</td>\n      <td>3742</td>\n      <td>21835333</td>\n      <td>424797</td>\n      <td>22</td>\n      <td>18</td>\n      <td>0</td>\n      <td>0</td>\n      <td>95</td>\n    </tr>\n    <tr>\n      <th>26</th>\n      <td>7ce9-d3d6-5b31</td>\n      <td>19335</td>\n      <td>33318</td>\n      <td>5545853</td>\n      <td>33438864</td>\n      <td>0</td>\n      <td>0</td>\n      <td>0</td>\n      <td>0</td>\n      <td>1</td>\n    </tr>\n    <tr>\n      <th>27</th>\n      <td>8af2-8400-f361</td>\n      <td>214</td>\n      <td>187</td>\n      <td>140414</td>\n      <td>46062</td>\n      <td>0</td>\n      <td>0</td>\n      <td>0</td>\n      <td>0</td>\n      <td>75</td>\n    </tr>\n    <tr>\n      <th>28</th>\n      <td>a6fd-c54d-712e</td>\n      <td>2398</td>\n      <td>952</td>\n      <td>3182018</td>\n      <td>84035</td>\n      <td>0</td>\n      <td>0</td>\n      <td>0</td>\n      <td>0</td>\n      <td>81</td>\n    </tr>\n    <tr>\n      <th>29</th>\n      <td>b83b-cc03-7e9b</td>\n      <td>2757</td>\n      <td>2310</td>\n      <td>2498871</td>\n      <td>424742</td>\n      <td>0</td>\n      <td>0</td>\n      <td>0</td>\n      <td>0</td>\n      <td>93</td>\n    </tr>\n    <tr>\n      <th>30</th>\n      <td>bab2-c64f-295d</td>\n      <td>32672</td>\n      <td>12081</td>\n      <td>33856812</td>\n      <td>1952334</td>\n      <td>14</td>\n      <td>4</td>\n      <td>0</td>\n      <td>0</td>\n      <td>94</td>\n    </tr>\n    <tr>\n      <th>31</th>\n      <td>bc6a-d1fb-b822</td>\n      <td>1055869</td>\n      <td>190803</td>\n      <td>1329196894</td>\n      <td>70368941</td>\n      <td>25</td>\n      <td>4</td>\n      <td>0</td>\n      <td>0</td>\n      <td>0</td>\n    </tr>\n    <tr>\n      <th>32</th>\n      <td>dcbf-e98f-a018</td>\n      <td>6357</td>\n      <td>5722</td>\n      <td>3784624</td>\n      <td>1583184</td>\n      <td>0</td>\n      <td>0</td>\n      <td>0</td>\n      <td>0</td>\n      <td>96</td>\n    </tr>\n  </tbody>\n</table>\n</div>"
     },
     "execution_count": 5,
     "metadata": {},
     "output_type": "execute_result"
    }
   ],
   "source": [
    "pd"
   ],
   "metadata": {
    "collapsed": false,
    "pycharm": {
     "name": "#%%\n"
    }
   }
  },
  {
   "cell_type": "code",
   "execution_count": 6,
   "outputs": [],
   "source": [
    "tamanho = len(pd)"
   ],
   "metadata": {
    "collapsed": false,
    "pycharm": {
     "name": "#%%\n"
    }
   }
  },
  {
   "cell_type": "code",
   "execution_count": 7,
   "outputs": [],
   "source": [
    "ed = ed.DataFrame(es, 'eland-fluxo').tail(tamanho)\n",
    "ed_df = ed[['MAC', 'BYTES_SENT', 'BYTES_RECEIVED', '@timestamp-py']].tail(tamanho)"
   ],
   "metadata": {
    "collapsed": false,
    "pycharm": {
     "name": "#%%\n"
    }
   }
  },
  {
   "cell_type": "code",
   "execution_count": 8,
   "outputs": [
    {
     "data": {
      "text/plain": "                                 MAC  BYTES_SENT BYTES_RECEIVED  \\\nM5_lTYEBRErOpABu_nZy  2a87-d116-a3b9   117031159        3689531   \nMZ_lTYEBRErOpABu_nZy               -           0              0   \nMp_lTYEBRErOpABu_nZy  b83b-cc03-7e9b     2498871         424658   \nN5_lTYEBRErOpABu_nZy  60ab-67c4-61d0   225098537        8683120   \nNJ_lTYEBRErOpABu_nZy  441c-a8bf-d83f    11985239       12141351   \nNZ_lTYEBRErOpABu_nZy  00d7-6d4d-8b5e     5394711        1754107   \nNp_lTYEBRErOpABu_nZy  5ccd-5bf3-c091     7009757         935594   \nO5_lTYEBRErOpABu_nZy  5ccd-5bf3-c483   188447797      508694346   \nOJ_lTYEBRErOpABu_nZy  bc6a-d1fb-b822  1325745259       67148796   \nOZ_lTYEBRErOpABu_nZy  dcbf-e98f-a018     3784624        1583184   \nOp_lTYEBRErOpABu_nZy  bab2-c64f-295d    33715595        1907321   \nP5_lTYEBRErOpABu_nZy  6616-2ec5-1f96    20602317         404900   \nPJ_lTYEBRErOpABu_nZy  7c8b-b531-3c4f    21738907         355776   \nPZ_lTYEBRErOpABu_nZy  103f-4474-deac      257898         226221   \nPp_lTYEBRErOpABu_nZy  36c6-b432-42e2   101243812        4998597   \nQ5_lTYEBRErOpABu_nZy  50eb-71c2-1a9b   839858084      259615617   \nQJ_lTYEBRErOpABu_nZy  00d7-6d43-c74f   313642118        8639614   \nQZ_lTYEBRErOpABu_nZy  6256-e3ca-e308        1486          15252   \nQp_lTYEBRErOpABu_nZy  00d7-6d4c-4e51     2710261        1172634   \nR5_lTYEBRErOpABu_nZy  56e3-caef-b634     9717895         811542   \nRJ_lTYEBRErOpABu_nZy  00d7-6d3b-dc6f   446249332       20333128   \nRZ_lTYEBRErOpABu_nZy  0e46-2139-e445      137957          18411   \nRp_lTYEBRErOpABu_nZy  5ccd-5bf3-c0a0  1562809610       58743555   \nS5_lTYEBRErOpABu_nZy  2ac6-e8b9-3672         180            264   \nSJ_lTYEBRErOpABu_nZy  5e79-0a7e-90b8      264113          99002   \nSZ_lTYEBRErOpABu_nZy  8af2-8400-f361      135240          45232   \nSp_lTYEBRErOpABu_nZy  7ce9-d3d6-5b31     5527177       33422890   \nT5_lTYEBRErOpABu_nZy  0a37-d4a0-4c9a    13037892         471558   \nTJ_lTYEBRErOpABu_nZy  5a98-2078-ae15         180             84   \nTZ_lTYEBRErOpABu_nZy  5ccd-5bf3-c5a0   496487948      245238580   \nTp_lTYEBRErOpABu_nZy  5ccd-5bf3-c58c    56404264        9810764   \nUJ_lTYEBRErOpABu_nZy  6432-a843-f0da     7597870      163439401   \nUZ_lTYEBRErOpABu_nZy  a6fd-c54d-712e     3181898          83951   \n\n                                  @timestamp-py  \nM5_lTYEBRErOpABu_nZy  2022-06-10 10:55:02-03:00  \nMZ_lTYEBRErOpABu_nZy        1970-01-01 00:00:00  \nMp_lTYEBRErOpABu_nZy  2022-06-10 10:55:02-03:00  \nN5_lTYEBRErOpABu_nZy  2022-06-10 10:55:02-03:00  \nNJ_lTYEBRErOpABu_nZy  2022-06-10 10:55:02-03:00  \nNZ_lTYEBRErOpABu_nZy  2022-06-10 10:55:02-03:00  \nNp_lTYEBRErOpABu_nZy  2022-06-10 10:55:02-03:00  \nO5_lTYEBRErOpABu_nZy  2022-06-10 10:55:02-03:00  \nOJ_lTYEBRErOpABu_nZy  2022-06-10 10:55:02-03:00  \nOZ_lTYEBRErOpABu_nZy  2022-06-10 10:55:02-03:00  \nOp_lTYEBRErOpABu_nZy  2022-06-10 10:55:02-03:00  \nP5_lTYEBRErOpABu_nZy  2022-06-10 10:55:02-03:00  \nPJ_lTYEBRErOpABu_nZy  2022-06-10 10:55:02-03:00  \nPZ_lTYEBRErOpABu_nZy  2022-06-10 10:55:02-03:00  \nPp_lTYEBRErOpABu_nZy  2022-06-10 10:55:02-03:00  \nQ5_lTYEBRErOpABu_nZy  2022-06-10 10:55:02-03:00  \nQJ_lTYEBRErOpABu_nZy  2022-06-10 10:55:02-03:00  \nQZ_lTYEBRErOpABu_nZy  2022-06-10 10:55:02-03:00  \nQp_lTYEBRErOpABu_nZy  2022-06-10 10:55:02-03:00  \nR5_lTYEBRErOpABu_nZy  2022-06-10 10:55:02-03:00  \nRJ_lTYEBRErOpABu_nZy  2022-06-10 10:55:02-03:00  \nRZ_lTYEBRErOpABu_nZy  2022-06-10 10:55:02-03:00  \nRp_lTYEBRErOpABu_nZy  2022-06-10 10:55:02-03:00  \nS5_lTYEBRErOpABu_nZy  2022-06-10 10:55:02-03:00  \nSJ_lTYEBRErOpABu_nZy  2022-06-10 10:55:02-03:00  \nSZ_lTYEBRErOpABu_nZy  2022-06-10 10:55:02-03:00  \nSp_lTYEBRErOpABu_nZy  2022-06-10 10:55:02-03:00  \nT5_lTYEBRErOpABu_nZy  2022-06-10 10:55:02-03:00  \nTJ_lTYEBRErOpABu_nZy  2022-06-10 10:55:02-03:00  \nTZ_lTYEBRErOpABu_nZy  2022-06-10 10:55:02-03:00  \nTp_lTYEBRErOpABu_nZy  2022-06-10 10:55:02-03:00  \nUJ_lTYEBRErOpABu_nZy  2022-06-10 10:55:02-03:00  \nUZ_lTYEBRErOpABu_nZy  2022-06-10 10:55:02-03:00  \n\n[33 rows x 4 columns]",
      "text/html": "<div>\n<style scoped>\n    .dataframe tbody tr th:only-of-type {\n        vertical-align: middle;\n    }\n\n    .dataframe tbody tr th {\n        vertical-align: top;\n    }\n\n    .dataframe thead th {\n        text-align: right;\n    }\n</style>\n<table border=\"1\" class=\"dataframe\">\n  <thead>\n    <tr style=\"text-align: right;\">\n      <th></th>\n      <th>MAC</th>\n      <th>BYTES_SENT</th>\n      <th>BYTES_RECEIVED</th>\n      <th>@timestamp-py</th>\n    </tr>\n  </thead>\n  <tbody>\n    <tr>\n      <th>M5_lTYEBRErOpABu_nZy</th>\n      <td>2a87-d116-a3b9</td>\n      <td>117031159</td>\n      <td>3689531</td>\n      <td>2022-06-10 10:55:02-03:00</td>\n    </tr>\n    <tr>\n      <th>MZ_lTYEBRErOpABu_nZy</th>\n      <td>-</td>\n      <td>0</td>\n      <td>0</td>\n      <td>1970-01-01 00:00:00</td>\n    </tr>\n    <tr>\n      <th>Mp_lTYEBRErOpABu_nZy</th>\n      <td>b83b-cc03-7e9b</td>\n      <td>2498871</td>\n      <td>424658</td>\n      <td>2022-06-10 10:55:02-03:00</td>\n    </tr>\n    <tr>\n      <th>N5_lTYEBRErOpABu_nZy</th>\n      <td>60ab-67c4-61d0</td>\n      <td>225098537</td>\n      <td>8683120</td>\n      <td>2022-06-10 10:55:02-03:00</td>\n    </tr>\n    <tr>\n      <th>NJ_lTYEBRErOpABu_nZy</th>\n      <td>441c-a8bf-d83f</td>\n      <td>11985239</td>\n      <td>12141351</td>\n      <td>2022-06-10 10:55:02-03:00</td>\n    </tr>\n    <tr>\n      <th>NZ_lTYEBRErOpABu_nZy</th>\n      <td>00d7-6d4d-8b5e</td>\n      <td>5394711</td>\n      <td>1754107</td>\n      <td>2022-06-10 10:55:02-03:00</td>\n    </tr>\n    <tr>\n      <th>Np_lTYEBRErOpABu_nZy</th>\n      <td>5ccd-5bf3-c091</td>\n      <td>7009757</td>\n      <td>935594</td>\n      <td>2022-06-10 10:55:02-03:00</td>\n    </tr>\n    <tr>\n      <th>O5_lTYEBRErOpABu_nZy</th>\n      <td>5ccd-5bf3-c483</td>\n      <td>188447797</td>\n      <td>508694346</td>\n      <td>2022-06-10 10:55:02-03:00</td>\n    </tr>\n    <tr>\n      <th>OJ_lTYEBRErOpABu_nZy</th>\n      <td>bc6a-d1fb-b822</td>\n      <td>1325745259</td>\n      <td>67148796</td>\n      <td>2022-06-10 10:55:02-03:00</td>\n    </tr>\n    <tr>\n      <th>OZ_lTYEBRErOpABu_nZy</th>\n      <td>dcbf-e98f-a018</td>\n      <td>3784624</td>\n      <td>1583184</td>\n      <td>2022-06-10 10:55:02-03:00</td>\n    </tr>\n    <tr>\n      <th>Op_lTYEBRErOpABu_nZy</th>\n      <td>bab2-c64f-295d</td>\n      <td>33715595</td>\n      <td>1907321</td>\n      <td>2022-06-10 10:55:02-03:00</td>\n    </tr>\n    <tr>\n      <th>P5_lTYEBRErOpABu_nZy</th>\n      <td>6616-2ec5-1f96</td>\n      <td>20602317</td>\n      <td>404900</td>\n      <td>2022-06-10 10:55:02-03:00</td>\n    </tr>\n    <tr>\n      <th>PJ_lTYEBRErOpABu_nZy</th>\n      <td>7c8b-b531-3c4f</td>\n      <td>21738907</td>\n      <td>355776</td>\n      <td>2022-06-10 10:55:02-03:00</td>\n    </tr>\n    <tr>\n      <th>PZ_lTYEBRErOpABu_nZy</th>\n      <td>103f-4474-deac</td>\n      <td>257898</td>\n      <td>226221</td>\n      <td>2022-06-10 10:55:02-03:00</td>\n    </tr>\n    <tr>\n      <th>Pp_lTYEBRErOpABu_nZy</th>\n      <td>36c6-b432-42e2</td>\n      <td>101243812</td>\n      <td>4998597</td>\n      <td>2022-06-10 10:55:02-03:00</td>\n    </tr>\n    <tr>\n      <th>Q5_lTYEBRErOpABu_nZy</th>\n      <td>50eb-71c2-1a9b</td>\n      <td>839858084</td>\n      <td>259615617</td>\n      <td>2022-06-10 10:55:02-03:00</td>\n    </tr>\n    <tr>\n      <th>QJ_lTYEBRErOpABu_nZy</th>\n      <td>00d7-6d43-c74f</td>\n      <td>313642118</td>\n      <td>8639614</td>\n      <td>2022-06-10 10:55:02-03:00</td>\n    </tr>\n    <tr>\n      <th>QZ_lTYEBRErOpABu_nZy</th>\n      <td>6256-e3ca-e308</td>\n      <td>1486</td>\n      <td>15252</td>\n      <td>2022-06-10 10:55:02-03:00</td>\n    </tr>\n    <tr>\n      <th>Qp_lTYEBRErOpABu_nZy</th>\n      <td>00d7-6d4c-4e51</td>\n      <td>2710261</td>\n      <td>1172634</td>\n      <td>2022-06-10 10:55:02-03:00</td>\n    </tr>\n    <tr>\n      <th>R5_lTYEBRErOpABu_nZy</th>\n      <td>56e3-caef-b634</td>\n      <td>9717895</td>\n      <td>811542</td>\n      <td>2022-06-10 10:55:02-03:00</td>\n    </tr>\n    <tr>\n      <th>RJ_lTYEBRErOpABu_nZy</th>\n      <td>00d7-6d3b-dc6f</td>\n      <td>446249332</td>\n      <td>20333128</td>\n      <td>2022-06-10 10:55:02-03:00</td>\n    </tr>\n    <tr>\n      <th>RZ_lTYEBRErOpABu_nZy</th>\n      <td>0e46-2139-e445</td>\n      <td>137957</td>\n      <td>18411</td>\n      <td>2022-06-10 10:55:02-03:00</td>\n    </tr>\n    <tr>\n      <th>Rp_lTYEBRErOpABu_nZy</th>\n      <td>5ccd-5bf3-c0a0</td>\n      <td>1562809610</td>\n      <td>58743555</td>\n      <td>2022-06-10 10:55:02-03:00</td>\n    </tr>\n    <tr>\n      <th>S5_lTYEBRErOpABu_nZy</th>\n      <td>2ac6-e8b9-3672</td>\n      <td>180</td>\n      <td>264</td>\n      <td>2022-06-10 10:55:02-03:00</td>\n    </tr>\n    <tr>\n      <th>SJ_lTYEBRErOpABu_nZy</th>\n      <td>5e79-0a7e-90b8</td>\n      <td>264113</td>\n      <td>99002</td>\n      <td>2022-06-10 10:55:02-03:00</td>\n    </tr>\n    <tr>\n      <th>SZ_lTYEBRErOpABu_nZy</th>\n      <td>8af2-8400-f361</td>\n      <td>135240</td>\n      <td>45232</td>\n      <td>2022-06-10 10:55:02-03:00</td>\n    </tr>\n    <tr>\n      <th>Sp_lTYEBRErOpABu_nZy</th>\n      <td>7ce9-d3d6-5b31</td>\n      <td>5527177</td>\n      <td>33422890</td>\n      <td>2022-06-10 10:55:02-03:00</td>\n    </tr>\n    <tr>\n      <th>T5_lTYEBRErOpABu_nZy</th>\n      <td>0a37-d4a0-4c9a</td>\n      <td>13037892</td>\n      <td>471558</td>\n      <td>2022-06-10 10:55:02-03:00</td>\n    </tr>\n    <tr>\n      <th>TJ_lTYEBRErOpABu_nZy</th>\n      <td>5a98-2078-ae15</td>\n      <td>180</td>\n      <td>84</td>\n      <td>2022-06-10 10:55:02-03:00</td>\n    </tr>\n    <tr>\n      <th>TZ_lTYEBRErOpABu_nZy</th>\n      <td>5ccd-5bf3-c5a0</td>\n      <td>496487948</td>\n      <td>245238580</td>\n      <td>2022-06-10 10:55:02-03:00</td>\n    </tr>\n    <tr>\n      <th>Tp_lTYEBRErOpABu_nZy</th>\n      <td>5ccd-5bf3-c58c</td>\n      <td>56404264</td>\n      <td>9810764</td>\n      <td>2022-06-10 10:55:02-03:00</td>\n    </tr>\n    <tr>\n      <th>UJ_lTYEBRErOpABu_nZy</th>\n      <td>6432-a843-f0da</td>\n      <td>7597870</td>\n      <td>163439401</td>\n      <td>2022-06-10 10:55:02-03:00</td>\n    </tr>\n    <tr>\n      <th>UZ_lTYEBRErOpABu_nZy</th>\n      <td>a6fd-c54d-712e</td>\n      <td>3181898</td>\n      <td>83951</td>\n      <td>2022-06-10 10:55:02-03:00</td>\n    </tr>\n  </tbody>\n</table>\n</div>\n<p>33 rows × 4 columns</p>"
     },
     "execution_count": 8,
     "metadata": {},
     "output_type": "execute_result"
    }
   ],
   "source": [
    "ed_df"
   ],
   "metadata": {
    "collapsed": false,
    "pycharm": {
     "name": "#%%\n"
    }
   }
  },
  {
   "cell_type": "code",
   "execution_count": 9,
   "outputs": [],
   "source": [
    "ed_df = ed_df.to_pandas()"
   ],
   "metadata": {
    "collapsed": false,
    "pycharm": {
     "name": "#%%\n"
    }
   }
  },
  {
   "cell_type": "code",
   "execution_count": 10,
   "outputs": [
    {
     "data": {
      "text/plain": "                                 MAC  BYTES_SENT BYTES_RECEIVED  \\\nM5_lTYEBRErOpABu_nZy  2a87-d116-a3b9   117031159        3689531   \nMZ_lTYEBRErOpABu_nZy               -           0              0   \nMp_lTYEBRErOpABu_nZy  b83b-cc03-7e9b     2498871         424658   \nN5_lTYEBRErOpABu_nZy  60ab-67c4-61d0   225098537        8683120   \nNJ_lTYEBRErOpABu_nZy  441c-a8bf-d83f    11985239       12141351   \nNZ_lTYEBRErOpABu_nZy  00d7-6d4d-8b5e     5394711        1754107   \nNp_lTYEBRErOpABu_nZy  5ccd-5bf3-c091     7009757         935594   \nO5_lTYEBRErOpABu_nZy  5ccd-5bf3-c483   188447797      508694346   \nOJ_lTYEBRErOpABu_nZy  bc6a-d1fb-b822  1325745259       67148796   \nOZ_lTYEBRErOpABu_nZy  dcbf-e98f-a018     3784624        1583184   \nOp_lTYEBRErOpABu_nZy  bab2-c64f-295d    33715595        1907321   \nP5_lTYEBRErOpABu_nZy  6616-2ec5-1f96    20602317         404900   \nPJ_lTYEBRErOpABu_nZy  7c8b-b531-3c4f    21738907         355776   \nPZ_lTYEBRErOpABu_nZy  103f-4474-deac      257898         226221   \nPp_lTYEBRErOpABu_nZy  36c6-b432-42e2   101243812        4998597   \nQ5_lTYEBRErOpABu_nZy  50eb-71c2-1a9b   839858084      259615617   \nQJ_lTYEBRErOpABu_nZy  00d7-6d43-c74f   313642118        8639614   \nQZ_lTYEBRErOpABu_nZy  6256-e3ca-e308        1486          15252   \nQp_lTYEBRErOpABu_nZy  00d7-6d4c-4e51     2710261        1172634   \nR5_lTYEBRErOpABu_nZy  56e3-caef-b634     9717895         811542   \nRJ_lTYEBRErOpABu_nZy  00d7-6d3b-dc6f   446249332       20333128   \nRZ_lTYEBRErOpABu_nZy  0e46-2139-e445      137957          18411   \nRp_lTYEBRErOpABu_nZy  5ccd-5bf3-c0a0  1562809610       58743555   \nS5_lTYEBRErOpABu_nZy  2ac6-e8b9-3672         180            264   \nSJ_lTYEBRErOpABu_nZy  5e79-0a7e-90b8      264113          99002   \nSZ_lTYEBRErOpABu_nZy  8af2-8400-f361      135240          45232   \nSp_lTYEBRErOpABu_nZy  7ce9-d3d6-5b31     5527177       33422890   \nT5_lTYEBRErOpABu_nZy  0a37-d4a0-4c9a    13037892         471558   \nTJ_lTYEBRErOpABu_nZy  5a98-2078-ae15         180             84   \nTZ_lTYEBRErOpABu_nZy  5ccd-5bf3-c5a0   496487948      245238580   \nTp_lTYEBRErOpABu_nZy  5ccd-5bf3-c58c    56404264        9810764   \nUJ_lTYEBRErOpABu_nZy  6432-a843-f0da     7597870      163439401   \nUZ_lTYEBRErOpABu_nZy  a6fd-c54d-712e     3181898          83951   \n\n                                  @timestamp-py  \nM5_lTYEBRErOpABu_nZy  2022-06-10 10:55:02-03:00  \nMZ_lTYEBRErOpABu_nZy        1970-01-01 00:00:00  \nMp_lTYEBRErOpABu_nZy  2022-06-10 10:55:02-03:00  \nN5_lTYEBRErOpABu_nZy  2022-06-10 10:55:02-03:00  \nNJ_lTYEBRErOpABu_nZy  2022-06-10 10:55:02-03:00  \nNZ_lTYEBRErOpABu_nZy  2022-06-10 10:55:02-03:00  \nNp_lTYEBRErOpABu_nZy  2022-06-10 10:55:02-03:00  \nO5_lTYEBRErOpABu_nZy  2022-06-10 10:55:02-03:00  \nOJ_lTYEBRErOpABu_nZy  2022-06-10 10:55:02-03:00  \nOZ_lTYEBRErOpABu_nZy  2022-06-10 10:55:02-03:00  \nOp_lTYEBRErOpABu_nZy  2022-06-10 10:55:02-03:00  \nP5_lTYEBRErOpABu_nZy  2022-06-10 10:55:02-03:00  \nPJ_lTYEBRErOpABu_nZy  2022-06-10 10:55:02-03:00  \nPZ_lTYEBRErOpABu_nZy  2022-06-10 10:55:02-03:00  \nPp_lTYEBRErOpABu_nZy  2022-06-10 10:55:02-03:00  \nQ5_lTYEBRErOpABu_nZy  2022-06-10 10:55:02-03:00  \nQJ_lTYEBRErOpABu_nZy  2022-06-10 10:55:02-03:00  \nQZ_lTYEBRErOpABu_nZy  2022-06-10 10:55:02-03:00  \nQp_lTYEBRErOpABu_nZy  2022-06-10 10:55:02-03:00  \nR5_lTYEBRErOpABu_nZy  2022-06-10 10:55:02-03:00  \nRJ_lTYEBRErOpABu_nZy  2022-06-10 10:55:02-03:00  \nRZ_lTYEBRErOpABu_nZy  2022-06-10 10:55:02-03:00  \nRp_lTYEBRErOpABu_nZy  2022-06-10 10:55:02-03:00  \nS5_lTYEBRErOpABu_nZy  2022-06-10 10:55:02-03:00  \nSJ_lTYEBRErOpABu_nZy  2022-06-10 10:55:02-03:00  \nSZ_lTYEBRErOpABu_nZy  2022-06-10 10:55:02-03:00  \nSp_lTYEBRErOpABu_nZy  2022-06-10 10:55:02-03:00  \nT5_lTYEBRErOpABu_nZy  2022-06-10 10:55:02-03:00  \nTJ_lTYEBRErOpABu_nZy  2022-06-10 10:55:02-03:00  \nTZ_lTYEBRErOpABu_nZy  2022-06-10 10:55:02-03:00  \nTp_lTYEBRErOpABu_nZy  2022-06-10 10:55:02-03:00  \nUJ_lTYEBRErOpABu_nZy  2022-06-10 10:55:02-03:00  \nUZ_lTYEBRErOpABu_nZy  2022-06-10 10:55:02-03:00  ",
      "text/html": "<div>\n<style scoped>\n    .dataframe tbody tr th:only-of-type {\n        vertical-align: middle;\n    }\n\n    .dataframe tbody tr th {\n        vertical-align: top;\n    }\n\n    .dataframe thead th {\n        text-align: right;\n    }\n</style>\n<table border=\"1\" class=\"dataframe\">\n  <thead>\n    <tr style=\"text-align: right;\">\n      <th></th>\n      <th>MAC</th>\n      <th>BYTES_SENT</th>\n      <th>BYTES_RECEIVED</th>\n      <th>@timestamp-py</th>\n    </tr>\n  </thead>\n  <tbody>\n    <tr>\n      <th>M5_lTYEBRErOpABu_nZy</th>\n      <td>2a87-d116-a3b9</td>\n      <td>117031159</td>\n      <td>3689531</td>\n      <td>2022-06-10 10:55:02-03:00</td>\n    </tr>\n    <tr>\n      <th>MZ_lTYEBRErOpABu_nZy</th>\n      <td>-</td>\n      <td>0</td>\n      <td>0</td>\n      <td>1970-01-01 00:00:00</td>\n    </tr>\n    <tr>\n      <th>Mp_lTYEBRErOpABu_nZy</th>\n      <td>b83b-cc03-7e9b</td>\n      <td>2498871</td>\n      <td>424658</td>\n      <td>2022-06-10 10:55:02-03:00</td>\n    </tr>\n    <tr>\n      <th>N5_lTYEBRErOpABu_nZy</th>\n      <td>60ab-67c4-61d0</td>\n      <td>225098537</td>\n      <td>8683120</td>\n      <td>2022-06-10 10:55:02-03:00</td>\n    </tr>\n    <tr>\n      <th>NJ_lTYEBRErOpABu_nZy</th>\n      <td>441c-a8bf-d83f</td>\n      <td>11985239</td>\n      <td>12141351</td>\n      <td>2022-06-10 10:55:02-03:00</td>\n    </tr>\n    <tr>\n      <th>NZ_lTYEBRErOpABu_nZy</th>\n      <td>00d7-6d4d-8b5e</td>\n      <td>5394711</td>\n      <td>1754107</td>\n      <td>2022-06-10 10:55:02-03:00</td>\n    </tr>\n    <tr>\n      <th>Np_lTYEBRErOpABu_nZy</th>\n      <td>5ccd-5bf3-c091</td>\n      <td>7009757</td>\n      <td>935594</td>\n      <td>2022-06-10 10:55:02-03:00</td>\n    </tr>\n    <tr>\n      <th>O5_lTYEBRErOpABu_nZy</th>\n      <td>5ccd-5bf3-c483</td>\n      <td>188447797</td>\n      <td>508694346</td>\n      <td>2022-06-10 10:55:02-03:00</td>\n    </tr>\n    <tr>\n      <th>OJ_lTYEBRErOpABu_nZy</th>\n      <td>bc6a-d1fb-b822</td>\n      <td>1325745259</td>\n      <td>67148796</td>\n      <td>2022-06-10 10:55:02-03:00</td>\n    </tr>\n    <tr>\n      <th>OZ_lTYEBRErOpABu_nZy</th>\n      <td>dcbf-e98f-a018</td>\n      <td>3784624</td>\n      <td>1583184</td>\n      <td>2022-06-10 10:55:02-03:00</td>\n    </tr>\n    <tr>\n      <th>Op_lTYEBRErOpABu_nZy</th>\n      <td>bab2-c64f-295d</td>\n      <td>33715595</td>\n      <td>1907321</td>\n      <td>2022-06-10 10:55:02-03:00</td>\n    </tr>\n    <tr>\n      <th>P5_lTYEBRErOpABu_nZy</th>\n      <td>6616-2ec5-1f96</td>\n      <td>20602317</td>\n      <td>404900</td>\n      <td>2022-06-10 10:55:02-03:00</td>\n    </tr>\n    <tr>\n      <th>PJ_lTYEBRErOpABu_nZy</th>\n      <td>7c8b-b531-3c4f</td>\n      <td>21738907</td>\n      <td>355776</td>\n      <td>2022-06-10 10:55:02-03:00</td>\n    </tr>\n    <tr>\n      <th>PZ_lTYEBRErOpABu_nZy</th>\n      <td>103f-4474-deac</td>\n      <td>257898</td>\n      <td>226221</td>\n      <td>2022-06-10 10:55:02-03:00</td>\n    </tr>\n    <tr>\n      <th>Pp_lTYEBRErOpABu_nZy</th>\n      <td>36c6-b432-42e2</td>\n      <td>101243812</td>\n      <td>4998597</td>\n      <td>2022-06-10 10:55:02-03:00</td>\n    </tr>\n    <tr>\n      <th>Q5_lTYEBRErOpABu_nZy</th>\n      <td>50eb-71c2-1a9b</td>\n      <td>839858084</td>\n      <td>259615617</td>\n      <td>2022-06-10 10:55:02-03:00</td>\n    </tr>\n    <tr>\n      <th>QJ_lTYEBRErOpABu_nZy</th>\n      <td>00d7-6d43-c74f</td>\n      <td>313642118</td>\n      <td>8639614</td>\n      <td>2022-06-10 10:55:02-03:00</td>\n    </tr>\n    <tr>\n      <th>QZ_lTYEBRErOpABu_nZy</th>\n      <td>6256-e3ca-e308</td>\n      <td>1486</td>\n      <td>15252</td>\n      <td>2022-06-10 10:55:02-03:00</td>\n    </tr>\n    <tr>\n      <th>Qp_lTYEBRErOpABu_nZy</th>\n      <td>00d7-6d4c-4e51</td>\n      <td>2710261</td>\n      <td>1172634</td>\n      <td>2022-06-10 10:55:02-03:00</td>\n    </tr>\n    <tr>\n      <th>R5_lTYEBRErOpABu_nZy</th>\n      <td>56e3-caef-b634</td>\n      <td>9717895</td>\n      <td>811542</td>\n      <td>2022-06-10 10:55:02-03:00</td>\n    </tr>\n    <tr>\n      <th>RJ_lTYEBRErOpABu_nZy</th>\n      <td>00d7-6d3b-dc6f</td>\n      <td>446249332</td>\n      <td>20333128</td>\n      <td>2022-06-10 10:55:02-03:00</td>\n    </tr>\n    <tr>\n      <th>RZ_lTYEBRErOpABu_nZy</th>\n      <td>0e46-2139-e445</td>\n      <td>137957</td>\n      <td>18411</td>\n      <td>2022-06-10 10:55:02-03:00</td>\n    </tr>\n    <tr>\n      <th>Rp_lTYEBRErOpABu_nZy</th>\n      <td>5ccd-5bf3-c0a0</td>\n      <td>1562809610</td>\n      <td>58743555</td>\n      <td>2022-06-10 10:55:02-03:00</td>\n    </tr>\n    <tr>\n      <th>S5_lTYEBRErOpABu_nZy</th>\n      <td>2ac6-e8b9-3672</td>\n      <td>180</td>\n      <td>264</td>\n      <td>2022-06-10 10:55:02-03:00</td>\n    </tr>\n    <tr>\n      <th>SJ_lTYEBRErOpABu_nZy</th>\n      <td>5e79-0a7e-90b8</td>\n      <td>264113</td>\n      <td>99002</td>\n      <td>2022-06-10 10:55:02-03:00</td>\n    </tr>\n    <tr>\n      <th>SZ_lTYEBRErOpABu_nZy</th>\n      <td>8af2-8400-f361</td>\n      <td>135240</td>\n      <td>45232</td>\n      <td>2022-06-10 10:55:02-03:00</td>\n    </tr>\n    <tr>\n      <th>Sp_lTYEBRErOpABu_nZy</th>\n      <td>7ce9-d3d6-5b31</td>\n      <td>5527177</td>\n      <td>33422890</td>\n      <td>2022-06-10 10:55:02-03:00</td>\n    </tr>\n    <tr>\n      <th>T5_lTYEBRErOpABu_nZy</th>\n      <td>0a37-d4a0-4c9a</td>\n      <td>13037892</td>\n      <td>471558</td>\n      <td>2022-06-10 10:55:02-03:00</td>\n    </tr>\n    <tr>\n      <th>TJ_lTYEBRErOpABu_nZy</th>\n      <td>5a98-2078-ae15</td>\n      <td>180</td>\n      <td>84</td>\n      <td>2022-06-10 10:55:02-03:00</td>\n    </tr>\n    <tr>\n      <th>TZ_lTYEBRErOpABu_nZy</th>\n      <td>5ccd-5bf3-c5a0</td>\n      <td>496487948</td>\n      <td>245238580</td>\n      <td>2022-06-10 10:55:02-03:00</td>\n    </tr>\n    <tr>\n      <th>Tp_lTYEBRErOpABu_nZy</th>\n      <td>5ccd-5bf3-c58c</td>\n      <td>56404264</td>\n      <td>9810764</td>\n      <td>2022-06-10 10:55:02-03:00</td>\n    </tr>\n    <tr>\n      <th>UJ_lTYEBRErOpABu_nZy</th>\n      <td>6432-a843-f0da</td>\n      <td>7597870</td>\n      <td>163439401</td>\n      <td>2022-06-10 10:55:02-03:00</td>\n    </tr>\n    <tr>\n      <th>UZ_lTYEBRErOpABu_nZy</th>\n      <td>a6fd-c54d-712e</td>\n      <td>3181898</td>\n      <td>83951</td>\n      <td>2022-06-10 10:55:02-03:00</td>\n    </tr>\n  </tbody>\n</table>\n</div>"
     },
     "execution_count": 10,
     "metadata": {},
     "output_type": "execute_result"
    }
   ],
   "source": [
    "ed_df"
   ],
   "metadata": {
    "collapsed": false,
    "pycharm": {
     "name": "#%%\n"
    }
   }
  },
  {
   "cell_type": "code",
   "execution_count": 11,
   "outputs": [
    {
     "data": {
      "text/plain": "pandas.core.frame.DataFrame"
     },
     "execution_count": 11,
     "metadata": {},
     "output_type": "execute_result"
    }
   ],
   "source": [
    "type(ed_df)"
   ],
   "metadata": {
    "collapsed": false,
    "pycharm": {
     "name": "#%%\n"
    }
   }
  },
  {
   "cell_type": "code",
   "execution_count": null,
   "outputs": [],
   "source": [],
   "metadata": {
    "collapsed": false,
    "pycharm": {
     "name": "#%%\n"
    }
   }
  }
 ],
 "metadata": {
  "kernelspec": {
   "display_name": "Python 3",
   "language": "python",
   "name": "python3"
  },
  "language_info": {
   "codemirror_mode": {
    "name": "ipython",
    "version": 2
   },
   "file_extension": ".py",
   "mimetype": "text/x-python",
   "name": "python",
   "nbconvert_exporter": "python",
   "pygments_lexer": "ipython2",
   "version": "2.7.6"
  }
 },
 "nbformat": 4,
 "nbformat_minor": 0
}
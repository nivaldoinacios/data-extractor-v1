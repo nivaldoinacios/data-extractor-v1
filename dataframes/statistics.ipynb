{
 "cells": [
  {
   "cell_type": "code",
   "execution_count": 7,
   "metadata": {
    "collapsed": true
   },
   "outputs": [],
   "source": [
    "from elasticsearch import Elasticsearch\n",
    "from etl import Lista\n",
    "import pandas as pd\n",
    "import eland as ed\n",
    "import os"
   ]
  },
  {
   "cell_type": "code",
   "execution_count": 8,
   "outputs": [],
   "source": [
    "es = Elasticsearch(\n",
    "    ['http://192.168.10.14:9200'],\n",
    "    basic_auth=('nivaldo', '#Roost2021!')\n",
    ")"
   ],
   "metadata": {
    "collapsed": false,
    "pycharm": {
     "name": "#%%\n"
    }
   }
  },
  {
   "cell_type": "code",
   "execution_count": 9,
   "outputs": [],
   "source": [
    "pd_df = pd.DataFrame(Lista.statistics,\n",
    "                             columns=[\"MAC\", \"PCKT_SENT\", \"PCKT_RECEIVED\", \"BYTES_SENT\",\n",
    "                                      \"BYTES_RECEIVED\", \"WID_RATE_SENT\", \"WID_RATE_RECEIVED\",\n",
    "                                      \"TRIGGER_R_TOTAL\", \"TRIGGER_R_FAILED\", \"STA_POWER_SAVE\"]\n",
    "                             )"
   ],
   "metadata": {
    "collapsed": false,
    "pycharm": {
     "name": "#%%\n"
    }
   }
  },
  {
   "cell_type": "code",
   "execution_count": 11,
   "outputs": [],
   "source": [
    "tamanho = len(pd_df)"
   ],
   "metadata": {
    "collapsed": false,
    "pycharm": {
     "name": "#%%\n"
    }
   }
  },
  {
   "cell_type": "code",
   "execution_count": 19,
   "outputs": [
    {
     "ename": "AttributeError",
     "evalue": "'DataFrame' object has no attribute 'DataFrame'",
     "output_type": "error",
     "traceback": [
      "\u001B[1;31m---------------------------------------------------------------------------\u001B[0m",
      "\u001B[1;31mAttributeError\u001B[0m                            Traceback (most recent call last)",
      "Input \u001B[1;32mIn [19]\u001B[0m, in \u001B[0;36m<cell line: 1>\u001B[1;34m()\u001B[0m\n\u001B[1;32m----> 1\u001B[0m ed \u001B[38;5;241m=\u001B[39m \u001B[43med\u001B[49m\u001B[38;5;241;43m.\u001B[39;49m\u001B[43mDataFrame\u001B[49m(es, \u001B[38;5;124m'\u001B[39m\u001B[38;5;124meland-fluxo\u001B[39m\u001B[38;5;124m'\u001B[39m)\u001B[38;5;241m.\u001B[39mtail(tamanho)\n\u001B[0;32m      2\u001B[0m ed_df \u001B[38;5;241m=\u001B[39m ed[[\u001B[38;5;124m\"\u001B[39m\u001B[38;5;124mMAC\u001B[39m\u001B[38;5;124m\"\u001B[39m, \u001B[38;5;124m\"\u001B[39m\u001B[38;5;124mPCKT_SENT\u001B[39m\u001B[38;5;124m\"\u001B[39m, \u001B[38;5;124m\"\u001B[39m\u001B[38;5;124mPCKT_RECEIVED\u001B[39m\u001B[38;5;124m\"\u001B[39m, \u001B[38;5;124m\"\u001B[39m\u001B[38;5;124mBYTES_SENT\u001B[39m\u001B[38;5;124m\"\u001B[39m,\n\u001B[0;32m      3\u001B[0m                                       \u001B[38;5;124m\"\u001B[39m\u001B[38;5;124mBYTES_RECEIVED\u001B[39m\u001B[38;5;124m\"\u001B[39m, \u001B[38;5;124m\"\u001B[39m\u001B[38;5;124mWID_RATE_SENT\u001B[39m\u001B[38;5;124m\"\u001B[39m, \u001B[38;5;124m\"\u001B[39m\u001B[38;5;124mWID_RATE_RECEIVED\u001B[39m\u001B[38;5;124m\"\u001B[39m,\n\u001B[0;32m      4\u001B[0m                                       \u001B[38;5;124m\"\u001B[39m\u001B[38;5;124mTRIGGER_R_TOTAL\u001B[39m\u001B[38;5;124m\"\u001B[39m, \u001B[38;5;124m\"\u001B[39m\u001B[38;5;124mTRIGGER_R_FAILED\u001B[39m\u001B[38;5;124m\"\u001B[39m, \u001B[38;5;124m\"\u001B[39m\u001B[38;5;124mSTA_POWER_SAVE\u001B[39m\u001B[38;5;124m\"\u001B[39m, \u001B[38;5;124m'\u001B[39m\u001B[38;5;124m@timestamp-py\u001B[39m\u001B[38;5;124m'\u001B[39m]]\u001B[38;5;241m.\u001B[39mtail(tamanho)\n",
      "File \u001B[1;32md:\\development\\python\\python38\\lib\\site-packages\\eland\\dataframe.py:1200\u001B[0m, in \u001B[0;36mDataFrame.__getattr__\u001B[1;34m(self, key)\u001B[0m\n\u001B[0;32m   1198\u001B[0m \u001B[38;5;28;01mif\u001B[39;00m key \u001B[38;5;129;01min\u001B[39;00m \u001B[38;5;28mself\u001B[39m\u001B[38;5;241m.\u001B[39mcolumns:\n\u001B[0;32m   1199\u001B[0m     \u001B[38;5;28;01mreturn\u001B[39;00m \u001B[38;5;28mself\u001B[39m[key]\n\u001B[1;32m-> 1200\u001B[0m \u001B[38;5;28;01mraise\u001B[39;00m e\n",
      "File \u001B[1;32md:\\development\\python\\python38\\lib\\site-packages\\eland\\dataframe.py:1196\u001B[0m, in \u001B[0;36mDataFrame.__getattr__\u001B[1;34m(self, key)\u001B[0m\n\u001B[0;32m   1184\u001B[0m \u001B[38;5;124;03m\"\"\"After regular attribute access, looks up the name in the columns\u001B[39;00m\n\u001B[0;32m   1185\u001B[0m \n\u001B[0;32m   1186\u001B[0m \u001B[38;5;124;03mParameters\u001B[39;00m\n\u001B[1;32m   (...)\u001B[0m\n\u001B[0;32m   1193\u001B[0m \u001B[38;5;124;03m    The value of the attribute.\u001B[39;00m\n\u001B[0;32m   1194\u001B[0m \u001B[38;5;124;03m\"\"\"\u001B[39;00m\n\u001B[0;32m   1195\u001B[0m \u001B[38;5;28;01mtry\u001B[39;00m:\n\u001B[1;32m-> 1196\u001B[0m     \u001B[38;5;28;01mreturn\u001B[39;00m \u001B[38;5;28;43mobject\u001B[39;49m\u001B[38;5;241;43m.\u001B[39;49m\u001B[38;5;21;43m__getattribute__\u001B[39;49m\u001B[43m(\u001B[49m\u001B[38;5;28;43mself\u001B[39;49m\u001B[43m,\u001B[49m\u001B[43m \u001B[49m\u001B[43mkey\u001B[49m\u001B[43m)\u001B[49m\n\u001B[0;32m   1197\u001B[0m \u001B[38;5;28;01mexcept\u001B[39;00m \u001B[38;5;167;01mAttributeError\u001B[39;00m \u001B[38;5;28;01mas\u001B[39;00m e:\n\u001B[0;32m   1198\u001B[0m     \u001B[38;5;28;01mif\u001B[39;00m key \u001B[38;5;129;01min\u001B[39;00m \u001B[38;5;28mself\u001B[39m\u001B[38;5;241m.\u001B[39mcolumns:\n",
      "\u001B[1;31mAttributeError\u001B[0m: 'DataFrame' object has no attribute 'DataFrame'"
     ]
    }
   ],
   "source": [
    "ed = ed.DataFrame(es, 'eland-fluxo').tail(tamanho)\n",
    "ed_df = ed[['MAC', 'BYTES_SENT', 'BYTES_RECEIVED', '@timestamp-py']].tail(tamanho)"
   ],
   "metadata": {
    "collapsed": false,
    "pycharm": {
     "name": "#%%\n"
    }
   }
  },
  {
   "cell_type": "code",
   "execution_count": 21,
   "outputs": [],
   "source": [
    "ed_df = ed_df.to_pandas()"
   ],
   "metadata": {
    "collapsed": false,
    "pycharm": {
     "name": "#%%\n"
    }
   }
  },
  {
   "cell_type": "code",
   "execution_count": 24,
   "outputs": [
    {
     "data": {
      "text/plain": "                                 MAC BYTES_SENT BYTES_RECEIVED  \\\nOJngS4EBRErOpABucQ02  00d7-6d4d-6f61  421599260      396818235   \nOZngS4EBRErOpABucQ02  00d7-6d43-c74f  595034182      309091031   \n\n                                 @timestamp-py  \nOJngS4EBRErOpABucQ02 2022-06-10 01:30:01-03:00  \nOZngS4EBRErOpABucQ02 2022-06-10 01:30:01-03:00  ",
      "text/html": "<div>\n<style scoped>\n    .dataframe tbody tr th:only-of-type {\n        vertical-align: middle;\n    }\n\n    .dataframe tbody tr th {\n        vertical-align: top;\n    }\n\n    .dataframe thead th {\n        text-align: right;\n    }\n</style>\n<table border=\"1\" class=\"dataframe\">\n  <thead>\n    <tr style=\"text-align: right;\">\n      <th></th>\n      <th>MAC</th>\n      <th>BYTES_SENT</th>\n      <th>BYTES_RECEIVED</th>\n      <th>@timestamp-py</th>\n    </tr>\n  </thead>\n  <tbody>\n    <tr>\n      <th>OJngS4EBRErOpABucQ02</th>\n      <td>00d7-6d4d-6f61</td>\n      <td>421599260</td>\n      <td>396818235</td>\n      <td>2022-06-10 01:30:01-03:00</td>\n    </tr>\n    <tr>\n      <th>OZngS4EBRErOpABucQ02</th>\n      <td>00d7-6d43-c74f</td>\n      <td>595034182</td>\n      <td>309091031</td>\n      <td>2022-06-10 01:30:01-03:00</td>\n    </tr>\n  </tbody>\n</table>\n</div>"
     },
     "execution_count": 24,
     "metadata": {},
     "output_type": "execute_result"
    }
   ],
   "source": [
    "ed_df"
   ],
   "metadata": {
    "collapsed": false,
    "pycharm": {
     "name": "#%%\n"
    }
   }
  },
  {
   "cell_type": "code",
   "execution_count": 23,
   "outputs": [
    {
     "data": {
      "text/plain": "                      @timestamp-py BYTES_RECEIVED BYTES_SENT  MAC  \\\n0                               NaN            NaN        NaN  NaN   \n1                               NaN            NaN        NaN  NaN   \nOJngS4EBRErOpABucQ02            NaN            NaN        NaN  NaN   \nOZngS4EBRErOpABucQ02            NaN            NaN        NaN  NaN   \n\n                      PCKT_RECEIVED  PCKT_SENT  STA_POWER_SAVE  \\\n0                               NaN        NaN             NaN   \n1                               NaN        NaN             NaN   \nOJngS4EBRErOpABucQ02            NaN        NaN             NaN   \nOZngS4EBRErOpABucQ02            NaN        NaN             NaN   \n\n                      TRIGGER_R_FAILED  TRIGGER_R_TOTAL  WID_RATE_RECEIVED  \\\n0                                  NaN              NaN                NaN   \n1                                  NaN              NaN                NaN   \nOJngS4EBRErOpABucQ02               NaN              NaN                NaN   \nOZngS4EBRErOpABucQ02               NaN              NaN                NaN   \n\n                      WID_RATE_SENT  \n0                               NaN  \n1                               NaN  \nOJngS4EBRErOpABucQ02            NaN  \nOZngS4EBRErOpABucQ02            NaN  ",
      "text/html": "<div>\n<style scoped>\n    .dataframe tbody tr th:only-of-type {\n        vertical-align: middle;\n    }\n\n    .dataframe tbody tr th {\n        vertical-align: top;\n    }\n\n    .dataframe thead th {\n        text-align: right;\n    }\n</style>\n<table border=\"1\" class=\"dataframe\">\n  <thead>\n    <tr style=\"text-align: right;\">\n      <th></th>\n      <th>@timestamp-py</th>\n      <th>BYTES_RECEIVED</th>\n      <th>BYTES_SENT</th>\n      <th>MAC</th>\n      <th>PCKT_RECEIVED</th>\n      <th>PCKT_SENT</th>\n      <th>STA_POWER_SAVE</th>\n      <th>TRIGGER_R_FAILED</th>\n      <th>TRIGGER_R_TOTAL</th>\n      <th>WID_RATE_RECEIVED</th>\n      <th>WID_RATE_SENT</th>\n    </tr>\n  </thead>\n  <tbody>\n    <tr>\n      <th>0</th>\n      <td>NaN</td>\n      <td>NaN</td>\n      <td>NaN</td>\n      <td>NaN</td>\n      <td>NaN</td>\n      <td>NaN</td>\n      <td>NaN</td>\n      <td>NaN</td>\n      <td>NaN</td>\n      <td>NaN</td>\n      <td>NaN</td>\n    </tr>\n    <tr>\n      <th>1</th>\n      <td>NaN</td>\n      <td>NaN</td>\n      <td>NaN</td>\n      <td>NaN</td>\n      <td>NaN</td>\n      <td>NaN</td>\n      <td>NaN</td>\n      <td>NaN</td>\n      <td>NaN</td>\n      <td>NaN</td>\n      <td>NaN</td>\n    </tr>\n    <tr>\n      <th>OJngS4EBRErOpABucQ02</th>\n      <td>NaN</td>\n      <td>NaN</td>\n      <td>NaN</td>\n      <td>NaN</td>\n      <td>NaN</td>\n      <td>NaN</td>\n      <td>NaN</td>\n      <td>NaN</td>\n      <td>NaN</td>\n      <td>NaN</td>\n      <td>NaN</td>\n    </tr>\n    <tr>\n      <th>OZngS4EBRErOpABucQ02</th>\n      <td>NaN</td>\n      <td>NaN</td>\n      <td>NaN</td>\n      <td>NaN</td>\n      <td>NaN</td>\n      <td>NaN</td>\n      <td>NaN</td>\n      <td>NaN</td>\n      <td>NaN</td>\n      <td>NaN</td>\n      <td>NaN</td>\n    </tr>\n  </tbody>\n</table>\n</div>"
     },
     "execution_count": 23,
     "metadata": {},
     "output_type": "execute_result"
    }
   ],
   "source": [],
   "metadata": {
    "collapsed": false,
    "pycharm": {
     "name": "#%%\n"
    }
   }
  },
  {
   "cell_type": "code",
   "execution_count": null,
   "outputs": [],
   "source": [],
   "metadata": {
    "collapsed": false,
    "pycharm": {
     "name": "#%%\n"
    }
   }
  }
 ],
 "metadata": {
  "kernelspec": {
   "display_name": "Python 3",
   "language": "python",
   "name": "python3"
  },
  "language_info": {
   "codemirror_mode": {
    "name": "ipython",
    "version": 2
   },
   "file_extension": ".py",
   "mimetype": "text/x-python",
   "name": "python",
   "nbconvert_exporter": "python",
   "pygments_lexer": "ipython2",
   "version": "2.7.6"
  }
 },
 "nbformat": 4,
 "nbformat_minor": 0
}
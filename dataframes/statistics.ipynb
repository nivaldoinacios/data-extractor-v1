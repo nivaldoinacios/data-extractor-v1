{
 "cells": [
  {
   "cell_type": "code",
   "execution_count": null,
   "metadata": {},
   "outputs": [],
   "source": [
    "from elasticsearch import Elasticsearch\n",
    "from statistics_ap import df\n",
    "from etl import Lista\n",
    "import pandas as pd\n",
    "import eland as ed\n",
    "import os"
   ]
  },
  {
   "cell_type": "code",
   "execution_count": null,
   "metadata": {
    "pycharm": {
     "name": "#%%\n"
    }
   },
   "outputs": [],
   "source": [
    "es = Elasticsearch(\n",
    "    ['http://192.168.10.14:9200'],\n",
    "    basic_auth=('nivaldo', '#Roost2021!')\n",
    ")"
   ]
  },
  {
   "cell_type": "code",
   "execution_count": null,
   "metadata": {
    "pycharm": {
     "name": "#%%\n"
    }
   },
   "outputs": [],
   "source": [
    "pd = df[[\"MAC\", \"AP_NAME\", \"BYTES_SENT\", \"BYTES_RECEIVED\"]]"
   ]
  },
  {
   "cell_type": "code",
   "execution_count": null,
   "metadata": {
    "pycharm": {
     "name": "#%%\n"
    }
   },
   "outputs": [],
   "source": [
    "pd"
   ]
  },
  {
   "cell_type": "code",
   "execution_count": null,
   "metadata": {
    "pycharm": {
     "name": "#%%\n"
    }
   },
   "outputs": [],
   "source": [
    "tamanho = len(pd)"
   ]
  },
  {
   "cell_type": "markdown",
   "metadata": {},
   "source": []
  },
  {
   "cell_type": "code",
   "execution_count": null,
   "metadata": {
    "pycharm": {
     "name": "#%%\n"
    }
   },
   "outputs": [],
   "source": [
    "ed = ed.DataFrame(es, 'eland-fluxo').tail(tamanho)"
   ]
  },
  {
   "cell_type": "code",
   "execution_count": null,
   "metadata": {
    "pycharm": {
     "name": "#%%\n"
    }
   },
   "outputs": [],
   "source": [
    "ed_df = ed[['MAC','AP_NAME', 'BYTES_SENT', 'BYTES_RECEIVED', '@timestamp-py']]"
   ]
  },
  {
   "cell_type": "code",
   "execution_count": null,
   "metadata": {
    "pycharm": {
     "name": "#%%\n"
    }
   },
   "outputs": [],
   "source": [
    "ed_df"
   ]
  },
  {
   "cell_type": "code",
   "execution_count": null,
   "metadata": {
    "pycharm": {
     "name": "#%%\n"
    }
   },
   "outputs": [],
   "source": [
    "ed_df = ed_df.to_pandas()"
   ]
  },
  {
   "cell_type": "code",
   "execution_count": null,
   "metadata": {
    "pycharm": {
     "name": "#%%\n"
    }
   },
   "outputs": [],
   "source": [
    "ed_df[['BYTES_SENT', 'BYTES_RECEIVED']] = ed_df[['BYTES_SENT', 'BYTES_RECEIVED']].astype(int)"
   ]
  },
  {
   "cell_type": "code",
   "execution_count": null,
   "metadata": {
    "pycharm": {
     "name": "#%%\n"
    }
   },
   "outputs": [],
   "source": [
    "pd[['BYTES_SENT', 'BYTES_RECEIVED']] = pd[['BYTES_SENT', 'BYTES_RECEIVED']].astype(int)"
   ]
  },
  {
   "cell_type": "code",
   "execution_count": null,
   "metadata": {
    "pycharm": {
     "name": "#%%\n"
    }
   },
   "outputs": [],
   "source": [
    "pd.insert(len(pd.columns), 'BYTES_SENT_CALC', 0, True)"
   ]
  },
  {
   "cell_type": "code",
   "execution_count": null,
   "metadata": {
    "pycharm": {
     "name": "#%%\n"
    }
   },
   "outputs": [],
   "source": [
    "pd"
   ]
  },
  {
   "cell_type": "code",
   "execution_count": null,
   "metadata": {
    "pycharm": {
     "name": "#%%\n"
    }
   },
   "outputs": [],
   "source": [
    "\n",
    "for ind_ed in range(len(ed_df.BYTES_SENT)):\n",
    "    for ind_pd in range(len(pd.BYTES_SENT)):\n",
    "        if pd.MAC[ind_pd] == ed_df.MAC[ind_ed]:\n",
    "            if pd.AP_NAME[ind_pd] == ed_df.AP_NAME[ind_ed]:\n",
    "                if pd.BYTES_SENT[ind_pd] > ed_df.BYTES_SENT[ind_ed]:\n",
    "                    print('Antigo -> ', pd.BYTES_SENT[ind_pd])\n",
    "                    pd.BYTES_SENT_CALC[ind_pd] = pd.BYTES_SENT[ind_pd] - ed_df.BYTES_SENT[ind_ed]\n",
    "                    print('Novo -> ', pd.BYTES_SENT_CALC[ind_pd])\n",
    "#                 else:\n",
    "#                     pd.BYTES_SENT_CALC[ind_pd] = pd.BYTES_SENT[ind_pd]\n",
    "#             else:\n",
    "#                 pd.BYTES_SENT_CALC[ind_pd] = pd.BYTES_SENT[ind_pd]\n",
    "#         else:\n",
    "#             pd.BYTES_SENT_CALC[ind_pd] = pd.BYTES_SENT[ind_pd]"
   ]
  },
  {
   "cell_type": "code",
   "execution_count": null,
   "metadata": {
    "pycharm": {
     "name": "#%%\n"
    }
   },
   "outputs": [],
   "source": [
    "pd"
   ]
  },
  {
   "cell_type": "code",
   "execution_count": null,
   "metadata": {
    "pycharm": {
     "name": "#%%\n"
    }
   },
   "outputs": [],
   "source": []
  }
 ],
 "metadata": {
  "kernelspec": {
   "display_name": "Python 3 (ipykernel)",
   "language": "python",
   "name": "python3"
  },
  "language_info": {
   "codemirror_mode": {
    "name": "ipython",
    "version": 3
   },
   "file_extension": ".py",
   "mimetype": "text/x-python",
   "name": "python",
   "nbconvert_exporter": "python",
   "pygments_lexer": "ipython3",
   "version": "3.8.10"
  }
 },
 "nbformat": 4,
 "nbformat_minor": 1
}
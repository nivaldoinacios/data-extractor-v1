{
 "cells": [
  {
   "cell_type": "code",
   "execution_count": null,
   "metadata": {
    "pycharm": {
     "is_executing": true,
     "name": "#%%\n"
    }
   },
   "outputs": [],
   "source": [
    "from sources.lista_users import lista_users\n",
    "from sources.lista_stations import lista_stations\n",
    "import pandas as pd"
   ]
  },
  {
   "cell_type": "code",
   "execution_count": 2,
   "metadata": {
    "pycharm": {
     "name": "#%%\n"
    }
   },
   "outputs": [],
   "source": [
    "df_stations = pd.DataFrame(lista_stations, columns=['MAC', 'AP_ID', 'AP_NAME', 'RF/WLAN', 'BAND', 'Type',\n",
    "                                                   'RX/TX', 'RSSI', 'VLAN', 'IPADDRESS', 'SSID', \"@timestamp-py\"])\n",
    "\n",
    "df_users = pd.DataFrame(lista_users, columns=[\"UserID\", \"Username\", \"IPADDRESS\", \"MAC\",\n",
    "                                        \"Status\", \"@timestamp-py\"])"
   ]
  },
  {
   "cell_type": "code",
   "execution_count": 3,
   "outputs": [],
   "source": [
    "df = pd.merge(df_users, df_stations,how='outer', on=['MAC'])\n",
    "df = df.drop(columns=['IPADDRESS_y', '@timestamp-py_x'])"
   ],
   "metadata": {
    "collapsed": false,
    "pycharm": {
     "name": "#%%\n"
    }
   }
  },
  {
   "cell_type": "code",
   "execution_count": 4,
   "outputs": [
    {
     "data": {
      "text/plain": "   UserID                Username     IPADDRESS_x             MAC      Status  \\\n0       4                 netmiko    10.81.234.11               -     Success   \n1      12                 netmiko   192.168.10.13               -     Success   \n2    4113            9cb70d9f7570    10.10.17.102  9cb7-0d9f-7570  Pre-authen   \n3    4575       56-42-E7-9D-40-E8  172.16.250.101  5642-e79d-40e8     Success   \n4    4582                 lourdes    172.17.13.20  a816-d031-88c1     Success   \n5    4597            joao.feitosa    172.16.13.57  36c6-b432-42e2     Success   \n6    4598           stephany.rios    172.16.13.58  00d7-6d3b-dc6f     Success   \n7    4615               jefferson    172.16.13.54  a483-e73f-ec23     Success   \n8    4630         michelle.mileki    172.16.13.60  50eb-71c2-1a9b     Success   \n9    4645  REDISUL\\rogerio.gom...    172.19.13.64  8056-f2f2-1ae3     Success   \n10   4660       64-A2-00-1E-7F-99  172.16.250.106  64a2-001e-7f99     Success   \n11   4665              luiz.rocha    172.17.13.21  bc6a-d1fb-b822     Success   \n12   4669            joao.feitosa    172.16.13.70  7ce9-d3d6-5b31     Success   \n13   4693         REDISUL\\celioxp    172.16.13.53  5ccd-5bd5-3c9d     Success   \n14   4695  REDISUL\\maycon.bras...    172.16.13.75  5ccd-5bf3-c091     Success   \n15   4701          marcos.lustosa    172.16.13.74  5ccd-5bf3-c58c     Success   \n16   4708           stephany.rios    172.16.13.56  60ab-67c4-61d0     Success   \n17   4713                    Adir    172.16.13.66  5ccd-5bf3-c0b9     Success   \n18   4714           enio.danzmann    172.16.13.62  dc53-600d-abfb     Success   \n19   4716  REDISUL\\guilherme.c...    172.16.13.55  5ccd-5bf3-c1bd     Success   \n20   4726           marcos.junior    172.16.13.68  2a87-d116-a3b9     Success   \n21   4736         michelle.mileki    172.16.13.63  7c8b-b531-3c4f     Success   \n\n   AP_ID            AP_NAME RF/WLAN  BAND  Type    RX/TX RSSI VLAN  \\\n0    NaN                NaN     NaN   NaN   NaN      NaN  NaN  NaN   \n1    NaN                NaN     NaN   NaN   NaN      NaN  NaN  NaN   \n2      2   AP_BSB_COMERCIAL     0/4  2.4G   11n    64/64  -46  400   \n3      5     AP_CWB_ENTRADA     0/4  2.4G   11n    58/65  -39  400   \n4      0     AP_BSB_REUNIAO     0/1  2.4G   11n    69/65  -54   13   \n5      4     AP_CWB_REUNIAO     0/1  2.4G   11n    72/52  -56   13   \n6      3        AP_CWB_MEIO     1/1    5G  11ac    86/86  -44   13   \n7      4     AP_CWB_REUNIAO     1/1    5G  11ac  173/173  -48   13   \n8      3        AP_CWB_MEIO     1/1    5G  11ac    86/65  -39   13   \n9      7   AP_CWB_ESTOQUE_2     0/1  2.4G   11n    72/58  -51   13   \n10     4     AP_CWB_REUNIAO     0/4  2.4G   11n    78/86  -56  400   \n11     1  AP_BSB_ENGENHARIA     1/1    5G  11ac  130/144  -48   13   \n12     3        AP_CWB_MEIO     0/1  2.4G   11n    65/65  -49   13   \n13     3        AP_CWB_MEIO     1/1    5G  11ac  173/173  -43   13   \n14     3        AP_CWB_MEIO     1/1    5G  11ac  173/173  -44   13   \n15     3        AP_CWB_MEIO     1/1    5G  11ac  173/173  -44   13   \n16     3        AP_CWB_MEIO     1/1    5G  11ac    78/96  -52   13   \n17     5     AP_CWB_ENTRADA     1/1    5G  11ac  173/173  -43   13   \n18     3        AP_CWB_MEIO     1/1    5G  11ac  173/173  -48   13   \n19     3        AP_CWB_MEIO     1/1    5G  11ac  173/173  -36   13   \n20     4     AP_CWB_REUNIAO     1/1    5G  11ac    86/86  -51   13   \n21     5     AP_CWB_ENTRADA     0/1  2.4G   11n    39/39  -60   13   \n\n                 SSID             @timestamp-py_y  \n0                 NaN                         NaN  \n1                 NaN                         NaN  \n2   61_Roost_Omnidata  2022-04-04'T'12:32:57-0300  \n3   41_Roost_Omnidata  2022-04-04'T'12:32:57-0300  \n4              eterea  2022-04-04'T'12:32:57-0300  \n5              eterea  2022-04-04'T'12:32:57-0300  \n6              eterea  2022-04-04'T'12:32:57-0300  \n7              eterea  2022-04-04'T'12:32:57-0300  \n8              eterea  2022-04-04'T'12:32:57-0300  \n9              eterea  2022-04-04'T'12:32:57-0300  \n10  41_Roost_Omnidata  2022-04-04'T'12:32:57-0300  \n11             eterea  2022-04-04'T'12:32:57-0300  \n12             eterea  2022-04-04'T'12:32:57-0300  \n13             eterea  2022-04-04'T'12:32:57-0300  \n14             eterea  2022-04-04'T'12:32:57-0300  \n15             eterea  2022-04-04'T'12:32:57-0300  \n16             eterea  2022-04-04'T'12:32:57-0300  \n17             eterea  2022-04-04'T'12:32:57-0300  \n18             eterea  2022-04-04'T'12:32:57-0300  \n19             eterea  2022-04-04'T'12:32:57-0300  \n20             eterea  2022-04-04'T'12:32:57-0300  \n21             eterea  2022-04-04'T'12:32:57-0300  ",
      "text/html": "<div>\n<style scoped>\n    .dataframe tbody tr th:only-of-type {\n        vertical-align: middle;\n    }\n\n    .dataframe tbody tr th {\n        vertical-align: top;\n    }\n\n    .dataframe thead th {\n        text-align: right;\n    }\n</style>\n<table border=\"1\" class=\"dataframe\">\n  <thead>\n    <tr style=\"text-align: right;\">\n      <th></th>\n      <th>UserID</th>\n      <th>Username</th>\n      <th>IPADDRESS_x</th>\n      <th>MAC</th>\n      <th>Status</th>\n      <th>AP_ID</th>\n      <th>AP_NAME</th>\n      <th>RF/WLAN</th>\n      <th>BAND</th>\n      <th>Type</th>\n      <th>RX/TX</th>\n      <th>RSSI</th>\n      <th>VLAN</th>\n      <th>SSID</th>\n      <th>@timestamp-py_y</th>\n    </tr>\n  </thead>\n  <tbody>\n    <tr>\n      <th>0</th>\n      <td>4</td>\n      <td>netmiko</td>\n      <td>10.81.234.11</td>\n      <td>-</td>\n      <td>Success</td>\n      <td>NaN</td>\n      <td>NaN</td>\n      <td>NaN</td>\n      <td>NaN</td>\n      <td>NaN</td>\n      <td>NaN</td>\n      <td>NaN</td>\n      <td>NaN</td>\n      <td>NaN</td>\n      <td>NaN</td>\n    </tr>\n    <tr>\n      <th>1</th>\n      <td>12</td>\n      <td>netmiko</td>\n      <td>192.168.10.13</td>\n      <td>-</td>\n      <td>Success</td>\n      <td>NaN</td>\n      <td>NaN</td>\n      <td>NaN</td>\n      <td>NaN</td>\n      <td>NaN</td>\n      <td>NaN</td>\n      <td>NaN</td>\n      <td>NaN</td>\n      <td>NaN</td>\n      <td>NaN</td>\n    </tr>\n    <tr>\n      <th>2</th>\n      <td>4113</td>\n      <td>9cb70d9f7570</td>\n      <td>10.10.17.102</td>\n      <td>9cb7-0d9f-7570</td>\n      <td>Pre-authen</td>\n      <td>2</td>\n      <td>AP_BSB_COMERCIAL</td>\n      <td>0/4</td>\n      <td>2.4G</td>\n      <td>11n</td>\n      <td>64/64</td>\n      <td>-46</td>\n      <td>400</td>\n      <td>61_Roost_Omnidata</td>\n      <td>2022-04-04'T'12:32:57-0300</td>\n    </tr>\n    <tr>\n      <th>3</th>\n      <td>4575</td>\n      <td>56-42-E7-9D-40-E8</td>\n      <td>172.16.250.101</td>\n      <td>5642-e79d-40e8</td>\n      <td>Success</td>\n      <td>5</td>\n      <td>AP_CWB_ENTRADA</td>\n      <td>0/4</td>\n      <td>2.4G</td>\n      <td>11n</td>\n      <td>58/65</td>\n      <td>-39</td>\n      <td>400</td>\n      <td>41_Roost_Omnidata</td>\n      <td>2022-04-04'T'12:32:57-0300</td>\n    </tr>\n    <tr>\n      <th>4</th>\n      <td>4582</td>\n      <td>lourdes</td>\n      <td>172.17.13.20</td>\n      <td>a816-d031-88c1</td>\n      <td>Success</td>\n      <td>0</td>\n      <td>AP_BSB_REUNIAO</td>\n      <td>0/1</td>\n      <td>2.4G</td>\n      <td>11n</td>\n      <td>69/65</td>\n      <td>-54</td>\n      <td>13</td>\n      <td>eterea</td>\n      <td>2022-04-04'T'12:32:57-0300</td>\n    </tr>\n    <tr>\n      <th>5</th>\n      <td>4597</td>\n      <td>joao.feitosa</td>\n      <td>172.16.13.57</td>\n      <td>36c6-b432-42e2</td>\n      <td>Success</td>\n      <td>4</td>\n      <td>AP_CWB_REUNIAO</td>\n      <td>0/1</td>\n      <td>2.4G</td>\n      <td>11n</td>\n      <td>72/52</td>\n      <td>-56</td>\n      <td>13</td>\n      <td>eterea</td>\n      <td>2022-04-04'T'12:32:57-0300</td>\n    </tr>\n    <tr>\n      <th>6</th>\n      <td>4598</td>\n      <td>stephany.rios</td>\n      <td>172.16.13.58</td>\n      <td>00d7-6d3b-dc6f</td>\n      <td>Success</td>\n      <td>3</td>\n      <td>AP_CWB_MEIO</td>\n      <td>1/1</td>\n      <td>5G</td>\n      <td>11ac</td>\n      <td>86/86</td>\n      <td>-44</td>\n      <td>13</td>\n      <td>eterea</td>\n      <td>2022-04-04'T'12:32:57-0300</td>\n    </tr>\n    <tr>\n      <th>7</th>\n      <td>4615</td>\n      <td>jefferson</td>\n      <td>172.16.13.54</td>\n      <td>a483-e73f-ec23</td>\n      <td>Success</td>\n      <td>4</td>\n      <td>AP_CWB_REUNIAO</td>\n      <td>1/1</td>\n      <td>5G</td>\n      <td>11ac</td>\n      <td>173/173</td>\n      <td>-48</td>\n      <td>13</td>\n      <td>eterea</td>\n      <td>2022-04-04'T'12:32:57-0300</td>\n    </tr>\n    <tr>\n      <th>8</th>\n      <td>4630</td>\n      <td>michelle.mileki</td>\n      <td>172.16.13.60</td>\n      <td>50eb-71c2-1a9b</td>\n      <td>Success</td>\n      <td>3</td>\n      <td>AP_CWB_MEIO</td>\n      <td>1/1</td>\n      <td>5G</td>\n      <td>11ac</td>\n      <td>86/65</td>\n      <td>-39</td>\n      <td>13</td>\n      <td>eterea</td>\n      <td>2022-04-04'T'12:32:57-0300</td>\n    </tr>\n    <tr>\n      <th>9</th>\n      <td>4645</td>\n      <td>REDISUL\\rogerio.gom...</td>\n      <td>172.19.13.64</td>\n      <td>8056-f2f2-1ae3</td>\n      <td>Success</td>\n      <td>7</td>\n      <td>AP_CWB_ESTOQUE_2</td>\n      <td>0/1</td>\n      <td>2.4G</td>\n      <td>11n</td>\n      <td>72/58</td>\n      <td>-51</td>\n      <td>13</td>\n      <td>eterea</td>\n      <td>2022-04-04'T'12:32:57-0300</td>\n    </tr>\n    <tr>\n      <th>10</th>\n      <td>4660</td>\n      <td>64-A2-00-1E-7F-99</td>\n      <td>172.16.250.106</td>\n      <td>64a2-001e-7f99</td>\n      <td>Success</td>\n      <td>4</td>\n      <td>AP_CWB_REUNIAO</td>\n      <td>0/4</td>\n      <td>2.4G</td>\n      <td>11n</td>\n      <td>78/86</td>\n      <td>-56</td>\n      <td>400</td>\n      <td>41_Roost_Omnidata</td>\n      <td>2022-04-04'T'12:32:57-0300</td>\n    </tr>\n    <tr>\n      <th>11</th>\n      <td>4665</td>\n      <td>luiz.rocha</td>\n      <td>172.17.13.21</td>\n      <td>bc6a-d1fb-b822</td>\n      <td>Success</td>\n      <td>1</td>\n      <td>AP_BSB_ENGENHARIA</td>\n      <td>1/1</td>\n      <td>5G</td>\n      <td>11ac</td>\n      <td>130/144</td>\n      <td>-48</td>\n      <td>13</td>\n      <td>eterea</td>\n      <td>2022-04-04'T'12:32:57-0300</td>\n    </tr>\n    <tr>\n      <th>12</th>\n      <td>4669</td>\n      <td>joao.feitosa</td>\n      <td>172.16.13.70</td>\n      <td>7ce9-d3d6-5b31</td>\n      <td>Success</td>\n      <td>3</td>\n      <td>AP_CWB_MEIO</td>\n      <td>0/1</td>\n      <td>2.4G</td>\n      <td>11n</td>\n      <td>65/65</td>\n      <td>-49</td>\n      <td>13</td>\n      <td>eterea</td>\n      <td>2022-04-04'T'12:32:57-0300</td>\n    </tr>\n    <tr>\n      <th>13</th>\n      <td>4693</td>\n      <td>REDISUL\\celioxp</td>\n      <td>172.16.13.53</td>\n      <td>5ccd-5bd5-3c9d</td>\n      <td>Success</td>\n      <td>3</td>\n      <td>AP_CWB_MEIO</td>\n      <td>1/1</td>\n      <td>5G</td>\n      <td>11ac</td>\n      <td>173/173</td>\n      <td>-43</td>\n      <td>13</td>\n      <td>eterea</td>\n      <td>2022-04-04'T'12:32:57-0300</td>\n    </tr>\n    <tr>\n      <th>14</th>\n      <td>4695</td>\n      <td>REDISUL\\maycon.bras...</td>\n      <td>172.16.13.75</td>\n      <td>5ccd-5bf3-c091</td>\n      <td>Success</td>\n      <td>3</td>\n      <td>AP_CWB_MEIO</td>\n      <td>1/1</td>\n      <td>5G</td>\n      <td>11ac</td>\n      <td>173/173</td>\n      <td>-44</td>\n      <td>13</td>\n      <td>eterea</td>\n      <td>2022-04-04'T'12:32:57-0300</td>\n    </tr>\n    <tr>\n      <th>15</th>\n      <td>4701</td>\n      <td>marcos.lustosa</td>\n      <td>172.16.13.74</td>\n      <td>5ccd-5bf3-c58c</td>\n      <td>Success</td>\n      <td>3</td>\n      <td>AP_CWB_MEIO</td>\n      <td>1/1</td>\n      <td>5G</td>\n      <td>11ac</td>\n      <td>173/173</td>\n      <td>-44</td>\n      <td>13</td>\n      <td>eterea</td>\n      <td>2022-04-04'T'12:32:57-0300</td>\n    </tr>\n    <tr>\n      <th>16</th>\n      <td>4708</td>\n      <td>stephany.rios</td>\n      <td>172.16.13.56</td>\n      <td>60ab-67c4-61d0</td>\n      <td>Success</td>\n      <td>3</td>\n      <td>AP_CWB_MEIO</td>\n      <td>1/1</td>\n      <td>5G</td>\n      <td>11ac</td>\n      <td>78/96</td>\n      <td>-52</td>\n      <td>13</td>\n      <td>eterea</td>\n      <td>2022-04-04'T'12:32:57-0300</td>\n    </tr>\n    <tr>\n      <th>17</th>\n      <td>4713</td>\n      <td>Adir</td>\n      <td>172.16.13.66</td>\n      <td>5ccd-5bf3-c0b9</td>\n      <td>Success</td>\n      <td>5</td>\n      <td>AP_CWB_ENTRADA</td>\n      <td>1/1</td>\n      <td>5G</td>\n      <td>11ac</td>\n      <td>173/173</td>\n      <td>-43</td>\n      <td>13</td>\n      <td>eterea</td>\n      <td>2022-04-04'T'12:32:57-0300</td>\n    </tr>\n    <tr>\n      <th>18</th>\n      <td>4714</td>\n      <td>enio.danzmann</td>\n      <td>172.16.13.62</td>\n      <td>dc53-600d-abfb</td>\n      <td>Success</td>\n      <td>3</td>\n      <td>AP_CWB_MEIO</td>\n      <td>1/1</td>\n      <td>5G</td>\n      <td>11ac</td>\n      <td>173/173</td>\n      <td>-48</td>\n      <td>13</td>\n      <td>eterea</td>\n      <td>2022-04-04'T'12:32:57-0300</td>\n    </tr>\n    <tr>\n      <th>19</th>\n      <td>4716</td>\n      <td>REDISUL\\guilherme.c...</td>\n      <td>172.16.13.55</td>\n      <td>5ccd-5bf3-c1bd</td>\n      <td>Success</td>\n      <td>3</td>\n      <td>AP_CWB_MEIO</td>\n      <td>1/1</td>\n      <td>5G</td>\n      <td>11ac</td>\n      <td>173/173</td>\n      <td>-36</td>\n      <td>13</td>\n      <td>eterea</td>\n      <td>2022-04-04'T'12:32:57-0300</td>\n    </tr>\n    <tr>\n      <th>20</th>\n      <td>4726</td>\n      <td>marcos.junior</td>\n      <td>172.16.13.68</td>\n      <td>2a87-d116-a3b9</td>\n      <td>Success</td>\n      <td>4</td>\n      <td>AP_CWB_REUNIAO</td>\n      <td>1/1</td>\n      <td>5G</td>\n      <td>11ac</td>\n      <td>86/86</td>\n      <td>-51</td>\n      <td>13</td>\n      <td>eterea</td>\n      <td>2022-04-04'T'12:32:57-0300</td>\n    </tr>\n    <tr>\n      <th>21</th>\n      <td>4736</td>\n      <td>michelle.mileki</td>\n      <td>172.16.13.63</td>\n      <td>7c8b-b531-3c4f</td>\n      <td>Success</td>\n      <td>5</td>\n      <td>AP_CWB_ENTRADA</td>\n      <td>0/1</td>\n      <td>2.4G</td>\n      <td>11n</td>\n      <td>39/39</td>\n      <td>-60</td>\n      <td>13</td>\n      <td>eterea</td>\n      <td>2022-04-04'T'12:32:57-0300</td>\n    </tr>\n  </tbody>\n</table>\n</div>"
     },
     "execution_count": 4,
     "metadata": {},
     "output_type": "execute_result"
    }
   ],
   "source": [
    "df"
   ],
   "metadata": {
    "collapsed": false,
    "pycharm": {
     "name": "#%%\n"
    }
   }
  },
  {
   "cell_type": "code",
   "execution_count": null,
   "outputs": [],
   "source": [],
   "metadata": {
    "collapsed": false,
    "pycharm": {
     "name": "#%%\n"
    }
   }
  }
 ],
 "metadata": {
  "kernelspec": {
   "display_name": "Python 3 (ipykernel)",
   "language": "python",
   "name": "python3"
  },
  "language_info": {
   "codemirror_mode": {
    "name": "ipython",
    "version": 3
   },
   "file_extension": ".py",
   "mimetype": "text/x-python",
   "name": "python",
   "nbconvert_exporter": "python",
   "pygments_lexer": "ipython3",
   "version": "3.8.10"
  }
 },
 "nbformat": 4,
 "nbformat_minor": 1
}
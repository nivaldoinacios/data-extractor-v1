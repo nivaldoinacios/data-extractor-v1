{
 "cells": [
  {
   "cell_type": "code",
   "execution_count": 1,
   "metadata": {
    "collapsed": true
   },
   "outputs": [],
   "source": [
    "from etl import Lista\n",
    "import pandas as pd"
   ]
  },
  {
   "cell_type": "code",
   "execution_count": 2,
   "outputs": [],
   "source": [
    "global df_access_users"
   ],
   "metadata": {
    "collapsed": false,
    "pycharm": {
     "name": "#%%\n"
    }
   }
  },
  {
   "cell_type": "code",
   "execution_count": 3,
   "outputs": [],
   "source": [
    "df_access_users = pd.DataFrame(Lista.users,\n",
    "                               columns=[\"UserID\", \"Username\", \"IPADDRESS\", \"MAC\",\n",
    "                                        \"Status\", \"@timestamp-py\"]\n",
    "                               )"
   ],
   "metadata": {
    "collapsed": false,
    "pycharm": {
     "name": "#%%\n"
    }
   }
  },
  {
   "cell_type": "code",
   "execution_count": 4,
   "outputs": [
    {
     "data": {
      "text/plain": "   UserID                Username       IPADDRESS             MAC      Status  \\\n0       1                 netmiko     10.81.234.3               -     Success   \n1       8                 netmiko     10.81.234.3               -     Success   \n2    4806        fabricio.santana    172.16.13.66  b83b-cc03-7e9b     Success   \n3    5233           marcos.junior    172.16.13.69  2a87-d116-a3b9     Success   \n4    5264             ariane.cruz    172.16.13.53  441c-a8bf-d83f     Success   \n5    5270            joao.feitosa    172.16.13.68  00d7-6d4d-8b5e     Success   \n6    5313  REDISUL\\maycon.bras...    172.16.13.54  5ccd-5bf3-c091     Success   \n7    5336           stephany.rios    172.16.13.51  60ab-67c4-61d0     Success   \n8    5366              luiz.rocha    172.17.13.30  bc6a-d1fb-b822     Success   \n9    5402       DC-BF-E9-8F-A0-18  172.16.250.104  dcbf-e98f-a018     Success   \n10   5417           juliana.groth    172.16.13.61  bab2-c64f-295d     Success   \n11   5429      REDISUL\\luiz.rocha    172.17.13.38  5ccd-5bf3-c483     Success   \n12   5433         michelle.mileki    172.16.13.62  7c8b-b531-3c4f     Success   \n13   5434            joao.feitosa    172.16.13.57  103f-4474-deac     Success   \n14   5446            joao.feitosa    172.16.13.50  36c6-b432-42e2     Success   \n15   5462  jean.tiburski@redis...    172.16.13.55  6616-2ec5-1f96     Success   \n16   5482  REDISUL\\fabricio.sa...    172.16.13.64  00d7-6d43-c74f     Success   \n17   5487            6256e3cae308  172.16.250.106  6256-e3ca-e308  Pre-authen   \n18   5489  REDISUL\\enio.danzma...    172.16.13.73  00d7-6d4c-4e51     Success   \n19   5492  REDISUL\\michelle.mi...    172.16.13.60  50eb-71c2-1a9b     Success   \n20   5500  REDISUL\\stephany.ri...    172.16.13.52  00d7-6d3b-dc6f     Success   \n21   5536                   andre    172.19.13.53  0e46-2139-e445     Success   \n22   5584  REDISUL\\douglas.oli...    172.17.13.36  5ccd-5bf3-c0a0     Success   \n23   5599         marina.oliveira    172.16.13.71  56e3-caef-b634     Success   \n24   5635      guilherme.carvalho    172.16.13.70  5e79-0a7e-90b8     Success   \n25   5638          marcos.lustosa    172.16.13.76  8af2-8400-f361     Success   \n26   5665            joao.feitosa    172.16.13.63  7ce9-d3d6-5b31     Success   \n27   5670            2ac6e8b93672  172.16.250.103  2ac6-e8b9-3672  Pre-authen   \n28   5681       5A-98-20-78-AE-15    10.10.17.106  5a98-2078-ae15     Success   \n29   5689           gabriel.rocha    172.16.13.67  5ccd-5bf3-c5a0     Success   \n30   5724          marcos.lustosa    172.16.13.77  5ccd-5bf3-c58c     Success   \n31   5736           maycon.brasil    172.16.13.56  0a37-d4a0-4c9a     Success   \n32   5737  REDISUL\\jean.tiburs...    172.16.13.58  6432-a843-f0da     Success   \n33   5768          marcos.lustosa    172.16.13.75  a6fd-c54d-712e     Success   \n\n               @timestamp-py  \n0   2022-06-10T10:52:25-0300  \n1   2022-06-10T10:52:25-0300  \n2   2022-06-10T10:52:25-0300  \n3   2022-06-10T10:52:25-0300  \n4   2022-06-10T10:52:25-0300  \n5   2022-06-10T10:52:25-0300  \n6   2022-06-10T10:52:25-0300  \n7   2022-06-10T10:52:25-0300  \n8   2022-06-10T10:52:25-0300  \n9   2022-06-10T10:52:25-0300  \n10  2022-06-10T10:52:25-0300  \n11  2022-06-10T10:52:25-0300  \n12  2022-06-10T10:52:25-0300  \n13  2022-06-10T10:52:25-0300  \n14  2022-06-10T10:52:25-0300  \n15  2022-06-10T10:52:25-0300  \n16  2022-06-10T10:52:25-0300  \n17  2022-06-10T10:52:25-0300  \n18  2022-06-10T10:52:25-0300  \n19  2022-06-10T10:52:25-0300  \n20  2022-06-10T10:52:25-0300  \n21  2022-06-10T10:52:25-0300  \n22  2022-06-10T10:52:25-0300  \n23  2022-06-10T10:52:25-0300  \n24  2022-06-10T10:52:25-0300  \n25  2022-06-10T10:52:25-0300  \n26  2022-06-10T10:52:25-0300  \n27  2022-06-10T10:52:25-0300  \n28  2022-06-10T10:52:25-0300  \n29  2022-06-10T10:52:25-0300  \n30  2022-06-10T10:52:25-0300  \n31  2022-06-10T10:52:25-0300  \n32  2022-06-10T10:52:25-0300  \n33  2022-06-10T10:52:25-0300  ",
      "text/html": "<div>\n<style scoped>\n    .dataframe tbody tr th:only-of-type {\n        vertical-align: middle;\n    }\n\n    .dataframe tbody tr th {\n        vertical-align: top;\n    }\n\n    .dataframe thead th {\n        text-align: right;\n    }\n</style>\n<table border=\"1\" class=\"dataframe\">\n  <thead>\n    <tr style=\"text-align: right;\">\n      <th></th>\n      <th>UserID</th>\n      <th>Username</th>\n      <th>IPADDRESS</th>\n      <th>MAC</th>\n      <th>Status</th>\n      <th>@timestamp-py</th>\n    </tr>\n  </thead>\n  <tbody>\n    <tr>\n      <th>0</th>\n      <td>1</td>\n      <td>netmiko</td>\n      <td>10.81.234.3</td>\n      <td>-</td>\n      <td>Success</td>\n      <td>2022-06-10T10:52:25-0300</td>\n    </tr>\n    <tr>\n      <th>1</th>\n      <td>8</td>\n      <td>netmiko</td>\n      <td>10.81.234.3</td>\n      <td>-</td>\n      <td>Success</td>\n      <td>2022-06-10T10:52:25-0300</td>\n    </tr>\n    <tr>\n      <th>2</th>\n      <td>4806</td>\n      <td>fabricio.santana</td>\n      <td>172.16.13.66</td>\n      <td>b83b-cc03-7e9b</td>\n      <td>Success</td>\n      <td>2022-06-10T10:52:25-0300</td>\n    </tr>\n    <tr>\n      <th>3</th>\n      <td>5233</td>\n      <td>marcos.junior</td>\n      <td>172.16.13.69</td>\n      <td>2a87-d116-a3b9</td>\n      <td>Success</td>\n      <td>2022-06-10T10:52:25-0300</td>\n    </tr>\n    <tr>\n      <th>4</th>\n      <td>5264</td>\n      <td>ariane.cruz</td>\n      <td>172.16.13.53</td>\n      <td>441c-a8bf-d83f</td>\n      <td>Success</td>\n      <td>2022-06-10T10:52:25-0300</td>\n    </tr>\n    <tr>\n      <th>5</th>\n      <td>5270</td>\n      <td>joao.feitosa</td>\n      <td>172.16.13.68</td>\n      <td>00d7-6d4d-8b5e</td>\n      <td>Success</td>\n      <td>2022-06-10T10:52:25-0300</td>\n    </tr>\n    <tr>\n      <th>6</th>\n      <td>5313</td>\n      <td>REDISUL\\maycon.bras...</td>\n      <td>172.16.13.54</td>\n      <td>5ccd-5bf3-c091</td>\n      <td>Success</td>\n      <td>2022-06-10T10:52:25-0300</td>\n    </tr>\n    <tr>\n      <th>7</th>\n      <td>5336</td>\n      <td>stephany.rios</td>\n      <td>172.16.13.51</td>\n      <td>60ab-67c4-61d0</td>\n      <td>Success</td>\n      <td>2022-06-10T10:52:25-0300</td>\n    </tr>\n    <tr>\n      <th>8</th>\n      <td>5366</td>\n      <td>luiz.rocha</td>\n      <td>172.17.13.30</td>\n      <td>bc6a-d1fb-b822</td>\n      <td>Success</td>\n      <td>2022-06-10T10:52:25-0300</td>\n    </tr>\n    <tr>\n      <th>9</th>\n      <td>5402</td>\n      <td>DC-BF-E9-8F-A0-18</td>\n      <td>172.16.250.104</td>\n      <td>dcbf-e98f-a018</td>\n      <td>Success</td>\n      <td>2022-06-10T10:52:25-0300</td>\n    </tr>\n    <tr>\n      <th>10</th>\n      <td>5417</td>\n      <td>juliana.groth</td>\n      <td>172.16.13.61</td>\n      <td>bab2-c64f-295d</td>\n      <td>Success</td>\n      <td>2022-06-10T10:52:25-0300</td>\n    </tr>\n    <tr>\n      <th>11</th>\n      <td>5429</td>\n      <td>REDISUL\\luiz.rocha</td>\n      <td>172.17.13.38</td>\n      <td>5ccd-5bf3-c483</td>\n      <td>Success</td>\n      <td>2022-06-10T10:52:25-0300</td>\n    </tr>\n    <tr>\n      <th>12</th>\n      <td>5433</td>\n      <td>michelle.mileki</td>\n      <td>172.16.13.62</td>\n      <td>7c8b-b531-3c4f</td>\n      <td>Success</td>\n      <td>2022-06-10T10:52:25-0300</td>\n    </tr>\n    <tr>\n      <th>13</th>\n      <td>5434</td>\n      <td>joao.feitosa</td>\n      <td>172.16.13.57</td>\n      <td>103f-4474-deac</td>\n      <td>Success</td>\n      <td>2022-06-10T10:52:25-0300</td>\n    </tr>\n    <tr>\n      <th>14</th>\n      <td>5446</td>\n      <td>joao.feitosa</td>\n      <td>172.16.13.50</td>\n      <td>36c6-b432-42e2</td>\n      <td>Success</td>\n      <td>2022-06-10T10:52:25-0300</td>\n    </tr>\n    <tr>\n      <th>15</th>\n      <td>5462</td>\n      <td>jean.tiburski@redis...</td>\n      <td>172.16.13.55</td>\n      <td>6616-2ec5-1f96</td>\n      <td>Success</td>\n      <td>2022-06-10T10:52:25-0300</td>\n    </tr>\n    <tr>\n      <th>16</th>\n      <td>5482</td>\n      <td>REDISUL\\fabricio.sa...</td>\n      <td>172.16.13.64</td>\n      <td>00d7-6d43-c74f</td>\n      <td>Success</td>\n      <td>2022-06-10T10:52:25-0300</td>\n    </tr>\n    <tr>\n      <th>17</th>\n      <td>5487</td>\n      <td>6256e3cae308</td>\n      <td>172.16.250.106</td>\n      <td>6256-e3ca-e308</td>\n      <td>Pre-authen</td>\n      <td>2022-06-10T10:52:25-0300</td>\n    </tr>\n    <tr>\n      <th>18</th>\n      <td>5489</td>\n      <td>REDISUL\\enio.danzma...</td>\n      <td>172.16.13.73</td>\n      <td>00d7-6d4c-4e51</td>\n      <td>Success</td>\n      <td>2022-06-10T10:52:25-0300</td>\n    </tr>\n    <tr>\n      <th>19</th>\n      <td>5492</td>\n      <td>REDISUL\\michelle.mi...</td>\n      <td>172.16.13.60</td>\n      <td>50eb-71c2-1a9b</td>\n      <td>Success</td>\n      <td>2022-06-10T10:52:25-0300</td>\n    </tr>\n    <tr>\n      <th>20</th>\n      <td>5500</td>\n      <td>REDISUL\\stephany.ri...</td>\n      <td>172.16.13.52</td>\n      <td>00d7-6d3b-dc6f</td>\n      <td>Success</td>\n      <td>2022-06-10T10:52:25-0300</td>\n    </tr>\n    <tr>\n      <th>21</th>\n      <td>5536</td>\n      <td>andre</td>\n      <td>172.19.13.53</td>\n      <td>0e46-2139-e445</td>\n      <td>Success</td>\n      <td>2022-06-10T10:52:25-0300</td>\n    </tr>\n    <tr>\n      <th>22</th>\n      <td>5584</td>\n      <td>REDISUL\\douglas.oli...</td>\n      <td>172.17.13.36</td>\n      <td>5ccd-5bf3-c0a0</td>\n      <td>Success</td>\n      <td>2022-06-10T10:52:25-0300</td>\n    </tr>\n    <tr>\n      <th>23</th>\n      <td>5599</td>\n      <td>marina.oliveira</td>\n      <td>172.16.13.71</td>\n      <td>56e3-caef-b634</td>\n      <td>Success</td>\n      <td>2022-06-10T10:52:25-0300</td>\n    </tr>\n    <tr>\n      <th>24</th>\n      <td>5635</td>\n      <td>guilherme.carvalho</td>\n      <td>172.16.13.70</td>\n      <td>5e79-0a7e-90b8</td>\n      <td>Success</td>\n      <td>2022-06-10T10:52:25-0300</td>\n    </tr>\n    <tr>\n      <th>25</th>\n      <td>5638</td>\n      <td>marcos.lustosa</td>\n      <td>172.16.13.76</td>\n      <td>8af2-8400-f361</td>\n      <td>Success</td>\n      <td>2022-06-10T10:52:25-0300</td>\n    </tr>\n    <tr>\n      <th>26</th>\n      <td>5665</td>\n      <td>joao.feitosa</td>\n      <td>172.16.13.63</td>\n      <td>7ce9-d3d6-5b31</td>\n      <td>Success</td>\n      <td>2022-06-10T10:52:25-0300</td>\n    </tr>\n    <tr>\n      <th>27</th>\n      <td>5670</td>\n      <td>2ac6e8b93672</td>\n      <td>172.16.250.103</td>\n      <td>2ac6-e8b9-3672</td>\n      <td>Pre-authen</td>\n      <td>2022-06-10T10:52:25-0300</td>\n    </tr>\n    <tr>\n      <th>28</th>\n      <td>5681</td>\n      <td>5A-98-20-78-AE-15</td>\n      <td>10.10.17.106</td>\n      <td>5a98-2078-ae15</td>\n      <td>Success</td>\n      <td>2022-06-10T10:52:25-0300</td>\n    </tr>\n    <tr>\n      <th>29</th>\n      <td>5689</td>\n      <td>gabriel.rocha</td>\n      <td>172.16.13.67</td>\n      <td>5ccd-5bf3-c5a0</td>\n      <td>Success</td>\n      <td>2022-06-10T10:52:25-0300</td>\n    </tr>\n    <tr>\n      <th>30</th>\n      <td>5724</td>\n      <td>marcos.lustosa</td>\n      <td>172.16.13.77</td>\n      <td>5ccd-5bf3-c58c</td>\n      <td>Success</td>\n      <td>2022-06-10T10:52:25-0300</td>\n    </tr>\n    <tr>\n      <th>31</th>\n      <td>5736</td>\n      <td>maycon.brasil</td>\n      <td>172.16.13.56</td>\n      <td>0a37-d4a0-4c9a</td>\n      <td>Success</td>\n      <td>2022-06-10T10:52:25-0300</td>\n    </tr>\n    <tr>\n      <th>32</th>\n      <td>5737</td>\n      <td>REDISUL\\jean.tiburs...</td>\n      <td>172.16.13.58</td>\n      <td>6432-a843-f0da</td>\n      <td>Success</td>\n      <td>2022-06-10T10:52:25-0300</td>\n    </tr>\n    <tr>\n      <th>33</th>\n      <td>5768</td>\n      <td>marcos.lustosa</td>\n      <td>172.16.13.75</td>\n      <td>a6fd-c54d-712e</td>\n      <td>Success</td>\n      <td>2022-06-10T10:52:25-0300</td>\n    </tr>\n  </tbody>\n</table>\n</div>"
     },
     "execution_count": 4,
     "metadata": {},
     "output_type": "execute_result"
    }
   ],
   "source": [
    "df_access_users"
   ],
   "metadata": {
    "collapsed": false,
    "pycharm": {
     "name": "#%%\n"
    }
   }
  },
  {
   "cell_type": "code",
   "execution_count": 4,
   "outputs": [],
   "source": [],
   "metadata": {
    "collapsed": false,
    "pycharm": {
     "name": "#%%\n"
    }
   }
  }
 ],
 "metadata": {
  "kernelspec": {
   "display_name": "Python 3",
   "language": "python",
   "name": "python3"
  },
  "language_info": {
   "codemirror_mode": {
    "name": "ipython",
    "version": 2
   },
   "file_extension": ".py",
   "mimetype": "text/x-python",
   "name": "python",
   "nbconvert_exporter": "python",
   "pygments_lexer": "ipython2",
   "version": "2.7.6"
  }
 },
 "nbformat": 4,
 "nbformat_minor": 0
}
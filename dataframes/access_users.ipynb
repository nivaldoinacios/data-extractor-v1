{
 "cells": [
  {
   "cell_type": "code",
   "execution_count": 1,
   "metadata": {
    "collapsed": true
   },
   "outputs": [],
   "source": [
    "from etl import Lista\n",
    "import pandas as pd"
   ]
  },
  {
   "cell_type": "code",
   "execution_count": 1,
   "outputs": [],
   "source": [
    "global df_access_users"
   ],
   "metadata": {
    "collapsed": false,
    "pycharm": {
     "name": "#%%\n"
    }
   }
  },
  {
   "cell_type": "code",
   "execution_count": 6,
   "outputs": [],
   "source": [
    "df_access_users = pd.DataFrame(Lista.users,\n",
    "                               columns=[\"UserID\", \"Username\", \"IPADDRESS\", \"MAC\",\n",
    "                                        \"Status\", \"@timestamp-py\"]\n",
    "                               )"
   ],
   "metadata": {
    "collapsed": false,
    "pycharm": {
     "name": "#%%\n"
    }
   }
  },
  {
   "cell_type": "code",
   "execution_count": 7,
   "outputs": [
    {
     "data": {
      "text/plain": "  UserID                Username     IPADDRESS             MAC   Status  \\\n0      8                 netmiko   10.81.234.2               -  Success   \n1   5377           rogerio.gomes  172.19.13.51  00d7-6d4d-6f61  Success   \n2   5412  REDISUL\\fabricio.sa...  172.16.13.64  00d7-6d43-c74f  Success   \n\n              @timestamp-py  \n0  2022-06-10T00:17:15-0300  \n1  2022-06-10T00:17:15-0300  \n2  2022-06-10T00:17:15-0300  ",
      "text/html": "<div>\n<style scoped>\n    .dataframe tbody tr th:only-of-type {\n        vertical-align: middle;\n    }\n\n    .dataframe tbody tr th {\n        vertical-align: top;\n    }\n\n    .dataframe thead th {\n        text-align: right;\n    }\n</style>\n<table border=\"1\" class=\"dataframe\">\n  <thead>\n    <tr style=\"text-align: right;\">\n      <th></th>\n      <th>UserID</th>\n      <th>Username</th>\n      <th>IPADDRESS</th>\n      <th>MAC</th>\n      <th>Status</th>\n      <th>@timestamp-py</th>\n    </tr>\n  </thead>\n  <tbody>\n    <tr>\n      <th>0</th>\n      <td>8</td>\n      <td>netmiko</td>\n      <td>10.81.234.2</td>\n      <td>-</td>\n      <td>Success</td>\n      <td>2022-06-10T00:17:15-0300</td>\n    </tr>\n    <tr>\n      <th>1</th>\n      <td>5377</td>\n      <td>rogerio.gomes</td>\n      <td>172.19.13.51</td>\n      <td>00d7-6d4d-6f61</td>\n      <td>Success</td>\n      <td>2022-06-10T00:17:15-0300</td>\n    </tr>\n    <tr>\n      <th>2</th>\n      <td>5412</td>\n      <td>REDISUL\\fabricio.sa...</td>\n      <td>172.16.13.64</td>\n      <td>00d7-6d43-c74f</td>\n      <td>Success</td>\n      <td>2022-06-10T00:17:15-0300</td>\n    </tr>\n  </tbody>\n</table>\n</div>"
     },
     "execution_count": 7,
     "metadata": {},
     "output_type": "execute_result"
    }
   ],
   "source": [
    "df_access_users"
   ],
   "metadata": {
    "collapsed": false,
    "pycharm": {
     "name": "#%%\n"
    }
   }
  },
  {
   "cell_type": "code",
   "execution_count": null,
   "outputs": [],
   "source": [],
   "metadata": {
    "collapsed": false,
    "pycharm": {
     "name": "#%%\n"
    }
   }
  }
 ],
 "metadata": {
  "kernelspec": {
   "display_name": "Python 3",
   "language": "python",
   "name": "python3"
  },
  "language_info": {
   "codemirror_mode": {
    "name": "ipython",
    "version": 2
   },
   "file_extension": ".py",
   "mimetype": "text/x-python",
   "name": "python",
   "nbconvert_exporter": "python",
   "pygments_lexer": "ipython2",
   "version": "2.7.6"
  }
 },
 "nbformat": 4,
 "nbformat_minor": 0
}
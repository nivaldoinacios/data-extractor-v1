{
 "cells": [
  {
   "cell_type": "code",
   "execution_count": 1,
   "metadata": {},
   "outputs": [],
   "source": [
    "from elasticsearch import Elasticsearch\n",
    "from main_df import df\n",
    "from etl import Lista\n",
    "import pandas as pd_df\n",
    "import eland as ed\n",
    "import os"
   ]
  },
  {
   "cell_type": "code",
   "execution_count": 2,
   "metadata": {
    "pycharm": {
     "name": "#%%\n"
    }
   },
   "outputs": [],
   "source": [
    "es = Elasticsearch(\n",
    "    ['http://192.168.10.14:9200'],\n",
    "    basic_auth=('nivaldo', '#Roost2021!')\n",
    ")"
   ]
  },
  {
   "cell_type": "code",
   "execution_count": 3,
   "metadata": {
    "pycharm": {
     "name": "#%%\n"
    }
   },
   "outputs": [],
   "source": [
    "pd_df = df[[\"MAC\", \"AP_NAME\", \"BYTES_SENT\", \"BYTES_RECEIVED\"]]"
   ]
  },
  {
   "cell_type": "code",
   "execution_count": null,
   "metadata": {
    "pycharm": {
     "name": "#%%\n"
    }
   },
   "outputs": [],
   "source": []
  },
  {
   "cell_type": "code",
   "execution_count": 4,
   "metadata": {
    "pycharm": {
     "name": "#%%\n"
    }
   },
   "outputs": [],
   "source": [
    "tamanho = len(pd_df)"
   ]
  },
  {
   "cell_type": "markdown",
   "metadata": {},
   "source": []
  },
  {
   "cell_type": "code",
   "execution_count": 5,
   "metadata": {
    "pycharm": {
     "name": "#%%\n"
    }
   },
   "outputs": [],
   "source": [
    "ed = ed.DataFrame(es, 'eland-fluxo').tail(tamanho)"
   ]
  },
  {
   "cell_type": "code",
   "execution_count": 6,
   "metadata": {
    "pycharm": {
     "name": "#%%\n"
    }
   },
   "outputs": [],
   "source": [
    "ed_df = ed[['MAC','AP_NAME', 'BYTES_SENT', 'BYTES_RECEIVED', '@timestamp-py']]"
   ]
  },
  {
   "cell_type": "code",
   "execution_count": null,
   "metadata": {
    "pycharm": {
     "name": "#%%\n"
    }
   },
   "outputs": [],
   "source": []
  },
  {
   "cell_type": "code",
   "execution_count": 7,
   "metadata": {
    "pycharm": {
     "name": "#%%\n"
    }
   },
   "outputs": [],
   "source": [
    "ed_df = ed_df.to_pandas()"
   ]
  },
  {
   "cell_type": "code",
   "execution_count": 8,
   "metadata": {
    "pycharm": {
     "name": "#%%\n"
    }
   },
   "outputs": [],
   "source": [
    "ed_df[['BYTES_SENT', 'BYTES_RECEIVED']] = ed_df[['BYTES_SENT', 'BYTES_RECEIVED']].astype(int)"
   ]
  },
  {
   "cell_type": "code",
   "execution_count": 9,
   "metadata": {
    "pycharm": {
     "name": "#%%\n"
    }
   },
   "outputs": [
    {
     "name": "stderr",
     "output_type": "stream",
     "text": [
      "d:\\development\\python\\python38\\lib\\site-packages\\pandas\\core\\frame.py:3641: SettingWithCopyWarning: \n",
      "A value is trying to be set on a copy of a slice from a DataFrame.\n",
      "Try using .loc[row_indexer,col_indexer] = value instead\n",
      "\n",
      "See the caveats in the documentation: https://pandas.pydata.org/pandas-docs/stable/user_guide/indexing.html#returning-a-view-versus-a-copy\n",
      "  self[k1] = value[k2]\n"
     ]
    }
   ],
   "source": [
    "pd_df[['BYTES_SENT', 'BYTES_RECEIVED']] = pd_df[['BYTES_SENT', 'BYTES_RECEIVED']].astype(int)"
   ]
  },
  {
   "cell_type": "code",
   "execution_count": 10,
   "metadata": {
    "pycharm": {
     "name": "#%%\n"
    }
   },
   "outputs": [],
   "source": [
    "pd_df.insert(len(pd_df.columns), 'BYTES_SENT_CALC', 0, True)"
   ]
  },
  {
   "cell_type": "code",
   "execution_count": null,
   "metadata": {
    "pycharm": {
     "name": "#%%\n"
    }
   },
   "outputs": [],
   "source": []
  },
  {
   "cell_type": "code",
   "execution_count": 11,
   "metadata": {
    "pycharm": {
     "name": "#%%\n"
    }
   },
   "outputs": [
    {
     "name": "stdout",
     "output_type": "stream",
     "text": [
      "Antigo ->  200435261\n",
      "Novo ->  311992\n",
      "Antigo ->  11138217\n",
      "Novo ->  952\n",
      "Antigo ->  13366781\n",
      "Novo ->  9160222\n",
      "Antigo ->  32321511\n",
      "Novo ->  6519612\n",
      "Antigo ->  1522188490\n",
      "Novo ->  3064\n",
      "Antigo ->  196157218\n",
      "Novo ->  9322030\n",
      "Antigo ->  630369\n",
      "Novo ->  279571\n",
      "Antigo ->  583554691\n",
      "Novo ->  1927\n",
      "Antigo ->  46804093\n",
      "Novo ->  46459892\n",
      "Antigo ->  90643130\n",
      "Novo ->  278623\n",
      "Antigo ->  18767119\n",
      "Novo ->  7607242\n",
      "Antigo ->  207723921\n",
      "Novo ->  291346\n",
      "Antigo ->  50299673\n",
      "Novo ->  4148731\n",
      "Antigo ->  123122737\n",
      "Novo ->  13357698\n",
      "Antigo ->  161573577\n",
      "Novo ->  22314381\n",
      "Antigo ->  604463358\n",
      "Novo ->  17050161\n",
      "Antigo ->  163525\n",
      "Novo ->  120055\n",
      "Antigo ->  1801623488\n",
      "Novo ->  1382423\n",
      "Antigo ->  23856850\n",
      "Novo ->  11682956\n",
      "Antigo ->  1570929\n",
      "Novo ->  117925\n",
      "Antigo ->  162999377\n",
      "Novo ->  44343642\n",
      "Antigo ->  147276678\n",
      "Novo ->  310661\n",
      "Antigo ->  481202\n",
      "Novo ->  420000\n",
      "Antigo ->  38709707\n",
      "Novo ->  29343\n",
      "Antigo ->  31436990\n",
      "Novo ->  23608\n",
      "Antigo ->  155244680\n",
      "Novo ->  2479530\n",
      "Antigo ->  31557\n",
      "Novo ->  2632\n",
      "Antigo ->  61897082\n",
      "Novo ->  730311\n",
      "Antigo ->  5617197\n",
      "Novo ->  4892481\n"
     ]
    },
    {
     "name": "stderr",
     "output_type": "stream",
     "text": [
      "C:\\Users\\nival\\AppData\\Local\\Temp\\ipykernel_19076\\3805253506.py:7: SettingWithCopyWarning: \n",
      "A value is trying to be set on a copy of a slice from a DataFrame\n",
      "\n",
      "See the caveats in the documentation: https://pandas.pydata.org/pandas-docs/stable/user_guide/indexing.html#returning-a-view-versus-a-copy\n",
      "  pd_df.BYTES_SENT_CALC[ind_pd] = pd_df.BYTES_SENT[ind_pd] - ed_df.BYTES_SENT[ind_ed]\n"
     ]
    }
   ],
   "source": [
    "\n",
    "for ind_ed in range(len(ed_df.BYTES_SENT)):\n",
    "    for ind_pd in range(len(pd_df.BYTES_SENT)):\n",
    "        if pd_df.MAC[ind_pd] == ed_df.MAC[ind_ed]:\n",
    "            if pd_df.AP_NAME[ind_pd] == ed_df.AP_NAME[ind_ed]:\n",
    "                if pd_df.BYTES_SENT[ind_pd] > ed_df.BYTES_SENT[ind_ed]:\n",
    "                    print('Antigo -> ', pd_df.BYTES_SENT[ind_pd])\n",
    "                    pd_df.BYTES_SENT_CALC[ind_pd] = pd_df.BYTES_SENT[ind_pd] - ed_df.BYTES_SENT[ind_ed]\n",
    "                    print('Novo -> ', pd_df.BYTES_SENT_CALC[ind_pd])\n",
    "#                 else:\n",
    "#                     pd_df.BYTES_SENT_CALC[ind_pd] = pd_df.BYTES_SENT[ind_pd]\n",
    "#             else:\n",
    "#                 pd_df.BYTES_SENT_CALC[ind_pd] = pd_df.BYTES_SENT[ind_pd]\n",
    "#         else:\n",
    "#             pd_df.BYTES_SENT_CALC[ind_pd] = pd_df.BYTES_SENT[ind_pd]"
   ]
  },
  {
   "cell_type": "code",
   "execution_count": 12,
   "metadata": {
    "pycharm": {
     "name": "#%%\n"
    }
   },
   "outputs": [],
   "source": [
    "pd_df = pd_df[['MAC', 'BYTES_SENT_CALC']]"
   ]
  },
  {
   "cell_type": "code",
   "execution_count": 13,
   "metadata": {
    "pycharm": {
     "name": "#%%\n"
    }
   },
   "outputs": [
    {
     "data": {
      "text/html": [
       "<div>\n",
       "<style scoped>\n",
       "    .dataframe tbody tr th:only-of-type {\n",
       "        vertical-align: middle;\n",
       "    }\n",
       "\n",
       "    .dataframe tbody tr th {\n",
       "        vertical-align: top;\n",
       "    }\n",
       "\n",
       "    .dataframe thead th {\n",
       "        text-align: right;\n",
       "    }\n",
       "</style>\n",
       "<table border=\"1\" class=\"dataframe\">\n",
       "  <thead>\n",
       "    <tr style=\"text-align: right;\">\n",
       "      <th></th>\n",
       "      <th>MAC</th>\n",
       "      <th>BYTES_SENT_CALC</th>\n",
       "    </tr>\n",
       "  </thead>\n",
       "  <tbody>\n",
       "    <tr>\n",
       "      <th>0</th>\n",
       "      <td>-</td>\n",
       "      <td>0</td>\n",
       "    </tr>\n",
       "    <tr>\n",
       "      <th>1</th>\n",
       "      <td>5ccd-5bf3-c5a0</td>\n",
       "      <td>0</td>\n",
       "    </tr>\n",
       "    <tr>\n",
       "      <th>2</th>\n",
       "      <td>b83b-cc03-7e9b</td>\n",
       "      <td>952</td>\n",
       "    </tr>\n",
       "    <tr>\n",
       "      <th>3</th>\n",
       "      <td>441c-a8bf-d83f</td>\n",
       "      <td>311992</td>\n",
       "    </tr>\n",
       "    <tr>\n",
       "      <th>4</th>\n",
       "      <td>5ccd-5bf3-c091</td>\n",
       "      <td>6519612</td>\n",
       "    </tr>\n",
       "    <tr>\n",
       "      <th>5</th>\n",
       "      <td>c2fa-68bf-2151</td>\n",
       "      <td>0</td>\n",
       "    </tr>\n",
       "    <tr>\n",
       "      <th>6</th>\n",
       "      <td>60ab-67c4-61d0</td>\n",
       "      <td>3064</td>\n",
       "    </tr>\n",
       "    <tr>\n",
       "      <th>7</th>\n",
       "      <td>8056-f2f2-1897</td>\n",
       "      <td>9160222</td>\n",
       "    </tr>\n",
       "    <tr>\n",
       "      <th>8</th>\n",
       "      <td>dcbf-e98f-a018</td>\n",
       "      <td>279571</td>\n",
       "    </tr>\n",
       "    <tr>\n",
       "      <th>9</th>\n",
       "      <td>5ccd-5bf3-c483</td>\n",
       "      <td>1927</td>\n",
       "    </tr>\n",
       "    <tr>\n",
       "      <th>10</th>\n",
       "      <td>7c8b-b531-3c4f</td>\n",
       "      <td>46459892</td>\n",
       "    </tr>\n",
       "    <tr>\n",
       "      <th>11</th>\n",
       "      <td>36c6-b432-42e2</td>\n",
       "      <td>9322030</td>\n",
       "    </tr>\n",
       "    <tr>\n",
       "      <th>12</th>\n",
       "      <td>6616-2ec5-1f96</td>\n",
       "      <td>7607242</td>\n",
       "    </tr>\n",
       "    <tr>\n",
       "      <th>13</th>\n",
       "      <td>56e3-caef-b634</td>\n",
       "      <td>291346</td>\n",
       "    </tr>\n",
       "    <tr>\n",
       "      <th>14</th>\n",
       "      <td>00d7-6d43-c74f</td>\n",
       "      <td>4148731</td>\n",
       "    </tr>\n",
       "    <tr>\n",
       "      <th>15</th>\n",
       "      <td>00d7-6d4c-4e51</td>\n",
       "      <td>278623</td>\n",
       "    </tr>\n",
       "    <tr>\n",
       "      <th>16</th>\n",
       "      <td>3423-87e9-b1df</td>\n",
       "      <td>22314381</td>\n",
       "    </tr>\n",
       "    <tr>\n",
       "      <th>17</th>\n",
       "      <td>50eb-71c2-1a9b</td>\n",
       "      <td>17050161</td>\n",
       "    </tr>\n",
       "    <tr>\n",
       "      <th>18</th>\n",
       "      <td>0e46-2139-e445</td>\n",
       "      <td>120055</td>\n",
       "    </tr>\n",
       "    <tr>\n",
       "      <th>19</th>\n",
       "      <td>00d7-6d3b-dc6f</td>\n",
       "      <td>13357698</td>\n",
       "    </tr>\n",
       "    <tr>\n",
       "      <th>20</th>\n",
       "      <td>5ccd-5bf3-c0a0</td>\n",
       "      <td>1382423</td>\n",
       "    </tr>\n",
       "    <tr>\n",
       "      <th>21</th>\n",
       "      <td>5e79-0a7e-90b8</td>\n",
       "      <td>11682956</td>\n",
       "    </tr>\n",
       "    <tr>\n",
       "      <th>22</th>\n",
       "      <td>8af2-8400-f361</td>\n",
       "      <td>117925</td>\n",
       "    </tr>\n",
       "    <tr>\n",
       "      <th>23</th>\n",
       "      <td>6256-e3ca-e308</td>\n",
       "      <td>0</td>\n",
       "    </tr>\n",
       "    <tr>\n",
       "      <th>24</th>\n",
       "      <td>2ac6-e8b9-3672</td>\n",
       "      <td>0</td>\n",
       "    </tr>\n",
       "    <tr>\n",
       "      <th>25</th>\n",
       "      <td>fc64-3aa4-f9f8</td>\n",
       "      <td>310661</td>\n",
       "    </tr>\n",
       "    <tr>\n",
       "      <th>26</th>\n",
       "      <td>a6fd-c54d-712e</td>\n",
       "      <td>420000</td>\n",
       "    </tr>\n",
       "    <tr>\n",
       "      <th>27</th>\n",
       "      <td>5ccd-5bf3-c58c</td>\n",
       "      <td>44343642</td>\n",
       "    </tr>\n",
       "    <tr>\n",
       "      <th>28</th>\n",
       "      <td>2a87-d116-a3b9</td>\n",
       "      <td>23608</td>\n",
       "    </tr>\n",
       "    <tr>\n",
       "      <th>29</th>\n",
       "      <td>5ccd-5bd5-3c9d</td>\n",
       "      <td>2479530</td>\n",
       "    </tr>\n",
       "    <tr>\n",
       "      <th>30</th>\n",
       "      <td>0a37-d4a0-4c9a</td>\n",
       "      <td>2632</td>\n",
       "    </tr>\n",
       "    <tr>\n",
       "      <th>31</th>\n",
       "      <td>103f-4474-deac</td>\n",
       "      <td>29343</td>\n",
       "    </tr>\n",
       "    <tr>\n",
       "      <th>32</th>\n",
       "      <td>bab2-c64f-295d</td>\n",
       "      <td>730311</td>\n",
       "    </tr>\n",
       "    <tr>\n",
       "      <th>33</th>\n",
       "      <td>560d-0bcc-d94d</td>\n",
       "      <td>4892481</td>\n",
       "    </tr>\n",
       "  </tbody>\n",
       "</table>\n",
       "</div>"
      ],
      "text/plain": [
       "               MAC  BYTES_SENT_CALC\n",
       "0                -                0\n",
       "1   5ccd-5bf3-c5a0                0\n",
       "2   b83b-cc03-7e9b              952\n",
       "3   441c-a8bf-d83f           311992\n",
       "4   5ccd-5bf3-c091          6519612\n",
       "5   c2fa-68bf-2151                0\n",
       "6   60ab-67c4-61d0             3064\n",
       "7   8056-f2f2-1897          9160222\n",
       "8   dcbf-e98f-a018           279571\n",
       "9   5ccd-5bf3-c483             1927\n",
       "10  7c8b-b531-3c4f         46459892\n",
       "11  36c6-b432-42e2          9322030\n",
       "12  6616-2ec5-1f96          7607242\n",
       "13  56e3-caef-b634           291346\n",
       "14  00d7-6d43-c74f          4148731\n",
       "15  00d7-6d4c-4e51           278623\n",
       "16  3423-87e9-b1df         22314381\n",
       "17  50eb-71c2-1a9b         17050161\n",
       "18  0e46-2139-e445           120055\n",
       "19  00d7-6d3b-dc6f         13357698\n",
       "20  5ccd-5bf3-c0a0          1382423\n",
       "21  5e79-0a7e-90b8         11682956\n",
       "22  8af2-8400-f361           117925\n",
       "23  6256-e3ca-e308                0\n",
       "24  2ac6-e8b9-3672                0\n",
       "25  fc64-3aa4-f9f8           310661\n",
       "26  a6fd-c54d-712e           420000\n",
       "27  5ccd-5bf3-c58c         44343642\n",
       "28  2a87-d116-a3b9            23608\n",
       "29  5ccd-5bd5-3c9d          2479530\n",
       "30  0a37-d4a0-4c9a             2632\n",
       "31  103f-4474-deac            29343\n",
       "32  bab2-c64f-295d           730311\n",
       "33  560d-0bcc-d94d          4892481"
      ]
     },
     "execution_count": 13,
     "metadata": {},
     "output_type": "execute_result"
    }
   ],
   "source": []
  },
  {
   "cell_type": "code",
   "execution_count": null,
   "metadata": {},
   "outputs": [],
   "source": []
  }
 ],
 "metadata": {
  "kernelspec": {
   "display_name": "Python 3 (ipykernel)",
   "language": "python",
   "name": "python3"
  },
  "language_info": {
   "codemirror_mode": {
    "name": "ipython",
    "version": 3
   },
   "file_extension": ".py",
   "mimetype": "text/x-python",
   "name": "python",
   "nbconvert_exporter": "python",
   "pygments_lexer": "ipython3",
   "version": "3.8.10"
  }
 },
 "nbformat": 4,
 "nbformat_minor": 1
}
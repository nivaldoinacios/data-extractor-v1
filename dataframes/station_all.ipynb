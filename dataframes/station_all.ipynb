{
 "cells": [
  {
   "cell_type": "code",
   "execution_count": 1,
   "metadata": {
    "collapsed": true
   },
   "outputs": [],
   "source": [
    "from etl import Lista\n",
    "import pandas as pd"
   ]
  },
  {
   "cell_type": "code",
   "execution_count": 3,
   "outputs": [],
   "source": [
    "global df_station_all"
   ],
   "metadata": {
    "collapsed": false,
    "pycharm": {
     "name": "#%%\n"
    }
   }
  },
  {
   "cell_type": "code",
   "execution_count": 4,
   "outputs": [],
   "source": [
    "df_station_all = pd.DataFrame(Lista.stations,\n",
    "                               columns=['MAC', 'AP_ID', 'AP_NAME', 'RF/WLAN', 'BAND', 'Type',\n",
    "                                        'RX/TX', 'RSSI', 'VLAN', 'IPADDRESS', 'SSID',\n",
    "                                        \"@timestamp-py\"]\n",
    "                               )\n"
   ],
   "metadata": {
    "collapsed": false,
    "pycharm": {
     "name": "#%%\n"
    }
   }
  },
  {
   "cell_type": "code",
   "execution_count": 5,
   "outputs": [
    {
     "data": {
      "text/plain": "              MAC AP_ID           AP_NAME RF/WLAN BAND  Type  RX/TX RSSI VLAN  \\\n0  00d7-6d43-c74f     3       AP_CWB_MEIO     1/1   5G  11ac  86/86  -44   13   \n1  00d7-6d4d-6f61     7  AP_CWB_ESTOQUE_2     1/1   5G  11ac   6/86  -47   13   \n\n      IPADDRESS    SSID             @timestamp-py  \n0  172.16.13.64  eterea  2022-06-10T00:22:42-0300  \n1  172.19.13.51  eterea  2022-06-10T00:22:42-0300  ",
      "text/html": "<div>\n<style scoped>\n    .dataframe tbody tr th:only-of-type {\n        vertical-align: middle;\n    }\n\n    .dataframe tbody tr th {\n        vertical-align: top;\n    }\n\n    .dataframe thead th {\n        text-align: right;\n    }\n</style>\n<table border=\"1\" class=\"dataframe\">\n  <thead>\n    <tr style=\"text-align: right;\">\n      <th></th>\n      <th>MAC</th>\n      <th>AP_ID</th>\n      <th>AP_NAME</th>\n      <th>RF/WLAN</th>\n      <th>BAND</th>\n      <th>Type</th>\n      <th>RX/TX</th>\n      <th>RSSI</th>\n      <th>VLAN</th>\n      <th>IPADDRESS</th>\n      <th>SSID</th>\n      <th>@timestamp-py</th>\n    </tr>\n  </thead>\n  <tbody>\n    <tr>\n      <th>0</th>\n      <td>00d7-6d43-c74f</td>\n      <td>3</td>\n      <td>AP_CWB_MEIO</td>\n      <td>1/1</td>\n      <td>5G</td>\n      <td>11ac</td>\n      <td>86/86</td>\n      <td>-44</td>\n      <td>13</td>\n      <td>172.16.13.64</td>\n      <td>eterea</td>\n      <td>2022-06-10T00:22:42-0300</td>\n    </tr>\n    <tr>\n      <th>1</th>\n      <td>00d7-6d4d-6f61</td>\n      <td>7</td>\n      <td>AP_CWB_ESTOQUE_2</td>\n      <td>1/1</td>\n      <td>5G</td>\n      <td>11ac</td>\n      <td>6/86</td>\n      <td>-47</td>\n      <td>13</td>\n      <td>172.19.13.51</td>\n      <td>eterea</td>\n      <td>2022-06-10T00:22:42-0300</td>\n    </tr>\n  </tbody>\n</table>\n</div>"
     },
     "execution_count": 5,
     "metadata": {},
     "output_type": "execute_result"
    }
   ],
   "source": [
    "df_station_all"
   ],
   "metadata": {
    "collapsed": false,
    "pycharm": {
     "name": "#%%\n"
    }
   }
  },
  {
   "cell_type": "code",
   "execution_count": null,
   "outputs": [],
   "source": [],
   "metadata": {
    "collapsed": false,
    "pycharm": {
     "name": "#%%\n"
    }
   }
  }
 ],
 "metadata": {
  "kernelspec": {
   "display_name": "Python 3",
   "language": "python",
   "name": "python3"
  },
  "language_info": {
   "codemirror_mode": {
    "name": "ipython",
    "version": 2
   },
   "file_extension": ".py",
   "mimetype": "text/x-python",
   "name": "python",
   "nbconvert_exporter": "python",
   "pygments_lexer": "ipython2",
   "version": "2.7.6"
  }
 },
 "nbformat": 4,
 "nbformat_minor": 0
}
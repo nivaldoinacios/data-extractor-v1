{
 "cells": [],
 "metadata": {
  "kernelspec": {
   "display_name": "Python 3",
   "language": "python",
   "name": "python3"
  },
  "language_info": {
   "codemirror_mode": {
    "name": "ipython",
    "version": 2
   },
   "file_extension": ".py",
   "mimetype": "text/x-python",
   "name": "python",
   "nbconvert_exporter": "python",
   "pygments_lexer": "ipython2",
   "version": "2.7.6"
  },
  "pycharm": {
   "stem_cell": {
    "cell_type": "raw",
    "source": [
     "from utils import *\n",
     "\n",
     "load_dotenv()\n",
     "\n",
     "start = time.time()\n",
     "\n",
     "connection = ConnectHandler(**AC6005)\n",
     "connection.enable()\n",
     "\n",
     "command = 'display access-user'\n",
     "\n",
     "outputA = connection.send_command(command)\n",
     "outputB = str(outputA)\n",
     "output = outputA\n",
     "\n",
     "#output[303:] essa posição imprime sem o cabeçalho\n",
     "print(output)\n"
    ],
    "metadata": {
     "collapsed": false
    }
   }
  }
 },
 "nbformat": 4,
 "nbformat_minor": 0
}
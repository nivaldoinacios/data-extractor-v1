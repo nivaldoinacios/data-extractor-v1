{
 "cells": [
  {
   "cell_type": "code",
   "execution_count": 1,
   "metadata": {
    "collapsed": true,
    "pycharm": {
     "name": "#%%\n"
    }
   },
   "outputs": [
    {
     "name": "stdout",
     "output_type": "stream",
     "text": [
      "\n",
      " ------------------------------------------------------------------------------------------------------\n",
      " UserID  Username               IP address                               MAC            Status\n",
      " ------------------------------------------------------------------------------------------------------\n",
      " 16      netmiko                10.81.234.6                              -              Success         \n",
      " 4113    9cb70d9f7570           10.10.17.102                             9cb7-0d9f-7570 Pre-authen      \n",
      " 4511    56-42-E7-9D-40-E8      172.16.250.101                           5642-e79d-40e8 Success         \n",
      " 4521    lourdes                172.17.13.21                             a816-d031-88c1 Success         \n",
      " 4522    branco                 172.19.13.55                             4a02-8e45-86d3 Success         \n",
      " 4524    REDISUL\\branco         172.19.13.56                             60d8-19d4-e8ea Success         \n",
      " 4549    stephany.rios          172.16.13.74                             00d7-6d3b-dc6f Success         \n",
      " 4553    5A-E8-87-99-90-52      172.16.250.103                           5ae8-8799-9052 Success         \n",
      " 4554    guilherme.carvalho     172.19.13.53                             5e79-0a7e-90b8 Success         \n",
      " 4573    juliana.groth          172.16.13.52                             bab2-c64f-295d Success         \n",
      " 4584    joao.feitosa           172.16.13.65                             103f-4474-deac Success         \n",
      " 4586    michelle.mileki        172.16.13.53                             7c8b-b531-3c4f Success         \n",
      " 4601    REDISUL\\josmar         172.19.13.61                             0045-e269-97bb Success         \n",
      " 4607    stephany.rios          172.16.13.50                             60ab-67c4-61d0 Success         \n",
      " 4608    redisul\\hamilton       172.19.13.57                             8056-f2f2-1897 Success         \n",
      " 4616    Adir                   172.16.13.76                             5ccd-5bf3-c0b9 Success         \n",
      " 4622    marcos.junior          172.16.13.64                             2a87-d116-a3b9 Success         \n",
      " 4623    marina.oliveira        172.16.13.66                             aadd-27d7-b79c Success         \n",
      " 4627    enio.danzmann          172.16.13.58                             dc53-600d-abfb Success         \n",
      " 4631    REDISUL\\ana.goncalv... 172.16.13.60                             2079-188b-a556 Success         \n",
      " 4634    enio.danzmann          172.16.13.55                             7e09-131c-a6c6 Success         \n",
      " 4636    REDISUL\\guilherme.c... 172.19.13.54                             5ccd-5bf3-c1bd Success         \n",
      " 4637    REDISUL\\maycon.bras... 172.16.13.72                             5ccd-5bf3-c091 Success         \n",
      " 4644    6256e3cae308           172.16.250.102                           6256-e3ca-e308 Pre-authen      \n",
      " 4647    gabriel.rocha          172.16.13.59                             5ccd-5bf3-c5a0 Success         \n",
      " 4663    REDISUL\\marcos.juni... 172.16.13.73                             8056-f2f0-9d73 Success         \n",
      " 4668    joao.feitosa           172.16.13.63                             7ce9-d3d6-5b31 Success         \n",
      " 4678    luiz.rocha             172.17.13.26                             bc6a-d1fb-b822 Success         \n",
      " 4689    jean.tiburski@redis... 172.16.13.56                             6616-2ec5-1f96 Success         \n",
      " ------------------------------------------------------------------------------------------------------\n",
      " Total: 29, printed: 29\n"
     ]
    }
   ],
   "source": [
    "from utils import *\n",
    "\n",
    "load_dotenv()\n",
    "\n",
    "start = time.time()\n",
    "\n",
    "connection = ConnectHandler(**AC6005)\n",
    "connection.enable()\n",
    "\n",
    "command = 'display access-user'\n",
    "\n",
    "outputA = connection.send_command(command)\n",
    "outputB = str(outputA)\n",
    "output = outputA\n",
    "\n",
    "# output[303:] essa posição imprime sem o cabeçalho\n",
    "print(output)"
   ]
  },
  {
   "cell_type": "code",
   "execution_count": 4,
   "outputs": [
    {
     "ename": "MemoryError",
     "evalue": "",
     "output_type": "error",
     "traceback": [
      "\u001B[1;31m---------------------------------------------------------------------------\u001B[0m",
      "\u001B[1;31mMemoryError\u001B[0m                               Traceback (most recent call last)",
      "\u001B[1;32mC:\\Users\\NIVALD~1.LIM\\AppData\\Local\\Temp/ipykernel_7532/3447523868.py\u001B[0m in \u001B[0;36m<module>\u001B[1;34m\u001B[0m\n\u001B[0;32m      4\u001B[0m         \u001B[1;32mpass\u001B[0m\u001B[1;33m\u001B[0m\u001B[1;33m\u001B[0m\u001B[0m\n\u001B[0;32m      5\u001B[0m     \u001B[1;32melse\u001B[0m\u001B[1;33m:\u001B[0m\u001B[1;33m\u001B[0m\u001B[1;33m\u001B[0m\u001B[0m\n\u001B[1;32m----> 6\u001B[1;33m         \u001B[0moutput\u001B[0m\u001B[1;33m.\u001B[0m\u001B[0mappend\u001B[0m\u001B[1;33m(\u001B[0m\u001B[0mstr\u001B[0m\u001B[1;33m(\u001B[0m\u001B[0mvalor\u001B[0m\u001B[1;33m)\u001B[0m \u001B[1;33m+\u001B[0m \u001B[1;34m' '\u001B[0m \u001B[1;33m+\u001B[0m \u001B[0mtimestamp\u001B[0m \u001B[1;33m+\u001B[0m \u001B[1;34m'\\n'\u001B[0m\u001B[1;33m)\u001B[0m\u001B[1;33m\u001B[0m\u001B[1;33m\u001B[0m\u001B[0m\n\u001B[0m\u001B[0;32m      7\u001B[0m \u001B[1;33m\u001B[0m\u001B[0m\n\u001B[0;32m      8\u001B[0m \u001B[0mprint\u001B[0m\u001B[1;33m(\u001B[0m\u001B[0moutput\u001B[0m\u001B[1;33m)\u001B[0m\u001B[1;33m\u001B[0m\u001B[1;33m\u001B[0m\u001B[0m\n",
      "\u001B[1;31mMemoryError\u001B[0m: "
     ]
    }
   ],
   "source": [
    "output = output.split('\\n')\n",
    "for valor in output:\n",
    "    if re.search('^\\s([\\d]{1,4})', str(valor)) is None:\n",
    "        pass\n",
    "    else:\n",
    "        output.append(str(valor) + ' ' + timestamp + '\\n')\n",
    "\n",
    "print(output)\n"
   ],
   "metadata": {
    "collapsed": false,
    "pycharm": {
     "name": "#%%\n"
    }
   }
  },
  {
   "cell_type": "code",
   "execution_count": null,
   "outputs": [],
   "source": [],
   "metadata": {
    "collapsed": false,
    "pycharm": {
     "name": "#%%\n"
    }
   }
  }
 ],
 "metadata": {
  "kernelspec": {
   "name": "pycharm-a439a77d",
   "language": "python",
   "display_name": "PyCharm (pythonProjecNetmiko)"
  },
  "language_info": {
   "codemirror_mode": {
    "name": "ipython",
    "version": 2
   },
   "file_extension": ".py",
   "mimetype": "text/x-python",
   "name": "python",
   "nbconvert_exporter": "python",
   "pygments_lexer": "ipython2",
   "version": "2.7.6"
  }
 },
 "nbformat": 4,
 "nbformat_minor": 0
}